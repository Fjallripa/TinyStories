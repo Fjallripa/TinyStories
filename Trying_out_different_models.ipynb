{
  "cells": [
    {
      "cell_type": "markdown",
      "metadata": {
        "colab_type": "text",
        "id": "view-in-github"
      },
      "source": [
        "<a href=\"https://colab.research.google.com/github/Fjallripa/TinyStories/blob/main/Trying_out_different_models.ipynb\" target=\"_parent\"><img src=\"https://colab.research.google.com/assets/colab-badge.svg\" alt=\"Open In Colab\"/></a>"
      ]
    },
    {
      "cell_type": "markdown",
      "metadata": {
        "id": "VsLNzdnJdwlC"
      },
      "source": [
        "# Trying out inference on different transformers"
      ]
    },
    {
      "cell_type": "code",
      "execution_count": null,
      "metadata": {
        "colab": {
          "base_uri": "https://localhost:8080/"
        },
        "id": "jciTKGUKXqhm",
        "outputId": "96961eb3-3359-4022-8042-9646e5c4fc3a"
      },
      "outputs": [
        {
          "name": "stdout",
          "output_type": "stream",
          "text": [
            "cpu\n"
          ]
        }
      ],
      "source": [
        "from transformers import GPTNeoForCausalLM, AutoTokenizer, AutoModelForCausalLM\n",
        "import torch\n",
        "import os\n",
        "\n",
        "device = \"cuda\" if torch.cuda.is_available() else \"cpu\"\n",
        "print(device)"
      ]
    },
    {
      "cell_type": "code",
      "execution_count": null,
      "metadata": {
        "colab": {
          "base_uri": "https://localhost:8080/"
        },
        "id": "ZTzqpFSzW8gh",
        "outputId": "b456c6d7-ab75-4985-9498-69b1499b9a27"
      },
      "outputs": [
        {
          "name": "stderr",
          "output_type": "stream",
          "text": [
            "/usr/local/lib/python3.10/dist-packages/huggingface_hub/utils/_token.py:88: UserWarning: \n",
            "The secret `HF_TOKEN` does not exist in your Colab secrets.\n",
            "To authenticate with the Hugging Face Hub, create a token in your settings tab (https://huggingface.co/settings/tokens), set it as secret in your Google Colab and restart your session.\n",
            "You will be able to reuse this secret in all of your notebooks.\n",
            "Please note that authentication is recommended but still optional to access public models or datasets.\n",
            "  warnings.warn(\n"
          ]
        }
      ],
      "source": [
        "tokenizer = AutoTokenizer.from_pretrained(\"EleutherAI/gpt-neo-125M\")\n",
        "\n",
        "prompt = \"Once upon a time there was\"\n",
        "input_ids = tokenizer.encode(prompt, return_tensors=\"pt\").to(device)"
      ]
    },
    {
      "cell_type": "markdown",
      "metadata": {
        "id": "KwFqBToTX9pL"
      },
      "source": [
        "## Our recreation models"
      ]
    },
    {
      "cell_type": "markdown",
      "metadata": {
        "id": "N2v35VFQWOo8"
      },
      "source": [
        "### model-2024-03-09"
      ]
    },
    {
      "cell_type": "code",
      "execution_count": null,
      "metadata": {
        "colab": {
          "base_uri": "https://localhost:8080/"
        },
        "id": "8uR3ITIgXhCd",
        "outputId": "e56b9cb1-3703-4da8-c3a5-142f1a9c1e88"
      },
      "outputs": [
        {
          "name": "stdout",
          "output_type": "stream",
          "text": [
            "model loaded.\n"
          ]
        }
      ],
      "source": [
        "model_directory = \"/content/drive/My Drive/genAI project/model-2024-03-09T00:44:46.832115\"\n",
        "\n",
        "if os.path.exists(model_directory):\n",
        "    model = GPTNeoForCausalLM.from_pretrained(model_directory).to(device)\n",
        "    print(\"model loaded.\")\n",
        "else:\n",
        "    print(\"Model not loaded!\")"
      ]
    },
    {
      "cell_type": "code",
      "execution_count": null,
      "metadata": {
        "colab": {
          "base_uri": "https://localhost:8080/"
        },
        "id": "GpEgHH7BepGG",
        "outputId": "d45c40b4-9edb-4d82-c113-9ffe753f0b67"
      },
      "outputs": [
        {
          "data": {
            "text/plain": [
              "3745984"
            ]
          },
          "execution_count": 19,
          "metadata": {},
          "output_type": "execute_result"
        }
      ],
      "source": [
        "#model.num_parameters()   #-> 3.7M"
      ]
    },
    {
      "cell_type": "code",
      "execution_count": null,
      "metadata": {
        "colab": {
          "base_uri": "https://localhost:8080/"
        },
        "id": "IxZSp0WzWgHM",
        "outputId": "1df61822-8c80-4956-946d-6f3f092e22d7"
      },
      "outputs": [
        {
          "name": "stderr",
          "output_type": "stream",
          "text": [
            "/usr/local/lib/python3.10/dist-packages/transformers/generation/configuration_utils.py:410: UserWarning: `do_sample` is set to `False`. However, `temperature` is set to `0` -- this flag is only used in sample-based generation modes. You should set `do_sample=True` or unset `temperature`.\n",
            "  warnings.warn(\n",
            "The attention mask and the pad token id were not set. As a consequence, you may observe unexpected behavior. Please pass your input's `attention_mask` to obtain reliable results.\n",
            "Setting `pad_token_id` to `eos_token_id`:50256 for open-end generation.\n"
          ]
        },
        {
          "name": "stdout",
          "output_type": "stream",
          "text": [
            "Once upon a time there was a little boy named Timmy. Timmy loved to play outside in the park. One day, Timmy's mom told him to go to the park. Timmy didn't want to play with his mom.\n",
            "\n",
            "Timmy's mom said yes, but Timmy didn't want to play. Timmy didn't want to play with his mom. Timmy was sad and didn't want to play with his mom.\n",
            "\n",
            "Timmy's mom said, \"Timmy, Timmy, but Timmy didn't want to play with him. Timmy didn't want to play with Timmy. Timmy didn't want to play with Timmy. Timmy was sad and didn't want to play with Timmy.\n",
            "\n",
            "Timmy was sad and didn't want to play with Timmy. Timmy was sad and didn't want to play with Timmy. Timmy didn't want to play with Timmy. Timmy was sad and didn't want to play with Timmy. Timmy didn't want to play with Timmy.\n",
            "\n",
            "Timmy was sad and didn't want to play with Timmy. Timmy didn't want to play with Timmy, but he didn't want to play with Timmy. Timmy didn't want to play with Timmy, but he didn't want to play with Timmy. Timmy didn't want to play with Timmy, but he didn't want to play with Timmy.\n",
            "\n",
            "Timmy's mom said, \"Timmy, Timmy, Timmy, Timmy, Timmy, Timmy, Timmy, Timmy, but Timmy didn't have to play with him. Timmy was too. Timmy said, \"Timmy, Timmy, Timmy, Timmy, Timmy, Timmy, Timmy, Timmy, Timmy, but Timmy's okay, but Timmy didn't have to play with Timmy. Timmy was too. Timmy said, \" Timmy, Timmy, Timmy, Timmy, Timmy, Timmy, Timmy, Timmy, Timmy, Timmy. Timmy, Timmy, but Timmy was too, but Timmy. Timmy said, \"Timmy, Timmy, Timmy, Timmy, Timmy, Timmy, Timmy, Timmy, Timmy, Timmy, Timmy, Timmy, Timmy, Timmy, Timmy, Timmy, Timmy, Timmy, Timmy, Timmy, Timmy, Timmy and Timmy, Timmy, Timmy's mommy, Timmy, Timmy, Timmy, Timmy's mommy, Timmy and Timmy's house. Timmy's mommy's mom said, \" Timmy, Timmy, Timmy, Timmy. Timmy, Timmy, Timmy, Timmy, Timmy, Timmy, Timmy, Timmy, Timmy, Timmy, Timmy, Timmy, Timmy, Timmy, Timmy, Timmy, Timmy, Timmy, Timmy, Timmy, Timmy, Timmy, Timmy, Timmy, Timmy, Timmy, Timmy, Timmy, Timmy, Timmy, Timmy, Timmy's mommy, Timmy, Timmy, Timmy, Timmy, Timmy, Timmy's mommy, Timmy, Timmy, Timmy, Timmy, Timmy, Timmy, Timmy, Timmy, Timmy, Timmy, Timmy, Timmy, Timmy, Timmy, Timmy, Timmy, Timmy's mommy, Timmy, Timmy, Timmy, Timmy, Timmy, Timmy's mommy, Timmy, Timmy, Timmy, Timmy, Timmy, Timmy, Timmy, Timmy, Timmy, Timmy, Timmy, Timmy, Timmy, Timmy, Timmy, Timmy, Timmy, Timmy, Timmy, Timmy, Timmy, Timmy, Timmy, Timmy, Timmy, Timmy, Timmy, Timmy, Timmy, Timmy, Timmy, Timmy, Timmy, Timmy, Timmy, Timmy, Timmy, Timmy, Timmy, Timmy, Timmy, Timmy, Timmy, Timmy, Timmy, Timmy, Timmy, Timmy, Timmy, Timmy, Timmy, Timmy, Timmy, Timmy, Timmy, Timmy, Timmy, Timmy, Timmy, Timmy, Timmy, Timmy, Timmy, Timmy, Timmy, Timmy, Timmy, Timmy, Timmy, Timmy, Timmy, Timmy, Timmy, Timmy, Timmy, Timmy, Timmy, Timmy and Timmy, Timmy, Timmy, Tim\n"
          ]
        }
      ],
      "source": [
        "output = model.generate(input_ids, max_length = 1024,\n",
        "                        num_beams=5, temperature=0)\n",
        "output_text = tokenizer.decode(output[0], skip_special_tokens=True)\n",
        "print(output_text)"
      ]
    },
    {
      "cell_type": "markdown",
      "metadata": {
        "id": "AoTlVoYsWkTg"
      },
      "source": [
        "### model-2024-03-11"
      ]
    },
    {
      "cell_type": "code",
      "execution_count": null,
      "metadata": {
        "colab": {
          "base_uri": "https://localhost:8080/"
        },
        "id": "RvK8GPezWnP9",
        "outputId": "5e9b47a0-a57b-441b-b67e-55e3cc941683"
      },
      "outputs": [
        {
          "name": "stdout",
          "output_type": "stream",
          "text": [
            "model loaded.\n"
          ]
        }
      ],
      "source": [
        "model_directory = \"/content/drive/My Drive/genAI project/model-2024-03-11\"\n",
        "\n",
        "if os.path.exists(model_directory):\n",
        "    model = GPTNeoForCausalLM.from_pretrained(model_directory).to(device)\n",
        "    print(\"model loaded.\")\n",
        "else:\n",
        "    print(\"Model not loaded!\")"
      ]
    },
    {
      "cell_type": "code",
      "execution_count": null,
      "metadata": {
        "colab": {
          "base_uri": "https://localhost:8080/"
        },
        "id": "7QYKkAN9W-qB",
        "outputId": "2da0df83-4dd1-4ca6-e6b7-7cb65d48c955"
      },
      "outputs": [
        {
          "name": "stderr",
          "output_type": "stream",
          "text": [
            "The attention mask and the pad token id were not set. As a consequence, you may observe unexpected behavior. Please pass your input's `attention_mask` to obtain reliable results.\n",
            "Setting `pad_token_id` to `eos_token_id`:50256 for open-end generation.\n"
          ]
        },
        {
          "name": "stdout",
          "output_type": "stream",
          "text": [
            "Once upon a time there was a little boy named Timmy. Timmy loved to play outside in the park. One day, Timmy's mom told him to go to the park. Timmy didn't want to play with his mom.\n",
            "\n",
            "Timmy's mom said yes, but Timmy didn't want to play. Timmy didn't want to play with his mom. Timmy was sad and didn't want to play with his mom.\n",
            "\n",
            "Timmy's mom said, \"Timmy, Timmy, but Timmy didn't want to play with him. Timmy didn't want to play with Timmy. Timmy didn't want to play with Timmy. Timmy was sad and didn't want to play with Timmy.\n",
            "\n",
            "Timmy was sad and didn't want to play with Timmy. Timmy was sad and didn't want to play with Timmy. Timmy didn't want to play with Timmy. Timmy was sad and didn't want to play with Timmy. Timmy didn't want to play with Timmy.\n",
            "\n",
            "Timmy was sad and didn't want to play with Timmy. Timmy didn't want to play with Timmy, but he didn't want to play with Timmy. Timmy didn't want to play with Timmy, but he didn't want to play with Timmy. Timmy didn't want to play with Timmy, but he didn't want to play with Timmy.\n",
            "\n",
            "Timmy's mom said, \"Timmy, Timmy, Timmy, Timmy, Timmy, Timmy, Timmy, Timmy, but Timmy didn't have to play with him. Timmy was too. Timmy said, \"Timmy, Timmy, Timmy, Timmy, Timmy, Timmy, Timmy, Timmy, Timmy, but Timmy's okay, but Timmy didn't have to play with Timmy. Timmy was too. Timmy said, \" Timmy, Timmy, Timmy, Timmy, Timmy, Timmy, Timmy, Timmy, Timmy, Timmy. Timmy, Timmy, but Timmy was too, but Timmy. Timmy said, \"Timmy, Timmy, Timmy, Timmy, Timmy, Timmy, Timmy, Timmy, Timmy, Timmy, Timmy, Timmy, Timmy, Timmy, Timmy, Timmy, Timmy, Timmy, Timmy, Timmy, Timmy, Timmy and Timmy, Timmy, Timmy's mommy, Timmy, Timmy, Timmy, Timmy's mommy, Timmy and Timmy's house. Timmy's mommy's mom said, \" Timmy, Timmy, Timmy, Timmy. Timmy, Timmy, Timmy, Timmy, Timmy, Timmy, Timmy, Timmy, Timmy, Timmy, Timmy, Timmy, Timmy, Timmy, Timmy, Timmy, Timmy, Timmy, Timmy, Timmy, Timmy, Timmy, Timmy, Timmy, Timmy, Timmy, Timmy, Timmy, Timmy, Timmy, Timmy, Timmy's mommy, Timmy, Timmy, Timmy, Timmy, Timmy, Timmy's mommy, Timmy, Timmy, Timmy, Timmy, Timmy, Timmy, Timmy, Timmy, Timmy, Timmy, Timmy, Timmy, Timmy, Timmy, Timmy, Timmy, Timmy's mommy, Timmy, Timmy, Timmy, Timmy, Timmy, Timmy's mommy, Timmy, Timmy, Timmy, Timmy, Timmy, Timmy, Timmy, Timmy, Timmy, Timmy, Timmy, Timmy, Timmy, Timmy, Timmy, Timmy, Timmy, Timmy, Timmy, Timmy, Timmy, Timmy, Timmy, Timmy, Timmy, Timmy, Timmy, Timmy, Timmy, Timmy, Timmy, Timmy, Timmy, Timmy, Timmy, Timmy, Timmy, Timmy, Timmy, Timmy, Timmy, Timmy, Timmy, Timmy, Timmy, Timmy, Timmy, Timmy, Timmy, Timmy, Timmy, Timmy, Timmy, Timmy, Timmy, Timmy, Timmy, Timmy, Timmy, Timmy, Timmy, Timmy, Timmy, Timmy, Timmy, Timmy, Timmy, Timmy, Timmy, Timmy, Timmy, Timmy, Timmy, Timmy, Timmy, Timmy, Timmy, Timmy and Timmy, Timmy, Timmy, Tim\n"
          ]
        }
      ],
      "source": [
        "output = model.generate(input_ids, max_length = 1024,\n",
        "                        num_beams=5, temperature=0)\n",
        "output_text = tokenizer.decode(output[0], skip_special_tokens=True)\n",
        "print(output_text)"
      ]
    },
    {
      "cell_type": "markdown",
      "metadata": {
        "id": "mMsQdw2VXDx-"
      },
      "source": [
        "## TinyStories models"
      ]
    },
    {
      "cell_type": "markdown",
      "metadata": {
        "id": "gq52oENab9zy"
      },
      "source": [
        "### 33M"
      ]
    },
    {
      "cell_type": "code",
      "execution_count": null,
      "metadata": {
        "id": "OzWfTIgVbkFQ"
      },
      "outputs": [],
      "source": [
        "model = AutoModelForCausalLM.from_pretrained('roneneldan/TinyStories-33M')"
      ]
    },
    {
      "cell_type": "code",
      "execution_count": null,
      "metadata": {
        "colab": {
          "base_uri": "https://localhost:8080/"
        },
        "id": "a5OI9dqx4Ow4",
        "outputId": "0dbdea62-f1f9-4dc7-fa58-744d659a80d5"
      },
      "outputs": [
        {
          "name": "stderr",
          "output_type": "stream",
          "text": [
            "The attention mask and the pad token id were not set. As a consequence, you may observe unexpected behavior. Please pass your input's `attention_mask` to obtain reliable results.\n",
            "Setting `pad_token_id` to `eos_token_id`:50256 for open-end generation.\n"
          ]
        },
        {
          "name": "stdout",
          "output_type": "stream",
          "text": [
            "Once upon a time there was a little girl named Lucy. She was three years old and loved to explore. One day, Lucy was walking in the park when she saw a big, red balloon. She was so excited and ran over to it.\n",
            "\n",
            "\"Can I have it?\" she asked.\n",
            "\n",
            "\"No,\" said her mom. \"It's too big for you. You can't have it.\"\n",
            "\n",
            "Lucy was sad, but then she saw a small, red balloon. She smiled and said, \"I want that one!\"\n",
            "\n",
            "Her mom smiled and said, \"Okay, let's go get it.\"\n",
            "\n",
            "So they went to the balloon and Lucy was so happy. She held the balloon tight and ran around the park with it. She laughed and smiled and had so much fun.\n",
            "\n",
            "When it was time to go home, Lucy hugged the balloon and said, \"I love you, balloon!\"\n",
            "\n",
            "Her mom smiled and said, \"I love you too, Lucy.\"\n",
            "\n"
          ]
        }
      ],
      "source": [
        "output = model.generate(input_ids, max_length = 1000, num_beams=1)\n",
        "output_text = tokenizer.decode(output[0], skip_special_tokens=True)\n",
        "print(output_text)"
      ]
    },
    {
      "cell_type": "markdown",
      "metadata": {
        "id": "HHBsMo-JcY99"
      },
      "source": [
        "#### test with `num_beams=5, temperature=0`"
      ]
    },
    {
      "cell_type": "code",
      "execution_count": null,
      "metadata": {
        "colab": {
          "base_uri": "https://localhost:8080/"
        },
        "id": "EM8rGAvX5dLg",
        "outputId": "2bb97d70-bb22-4a3c-8314-5a46ccf54061"
      },
      "outputs": [
        {
          "name": "stderr",
          "output_type": "stream",
          "text": [
            "The attention mask and the pad token id were not set. As a consequence, you may observe unexpected behavior. Please pass your input's `attention_mask` to obtain reliable results.\n",
            "Setting `pad_token_id` to `eos_token_id`:50256 for open-end generation.\n"
          ]
        },
        {
          "name": "stdout",
          "output_type": "stream",
          "text": [
            "Once upon a time there was a little girl named Lucy. She was three years old and loved to explore the world around her.\n",
            "\n",
            "One day, Lucy decided to go for a walk in the park. As she was walking, she saw something shiny in the grass. She bent down to take a closer look and saw that it was a penny!\n",
            "\n",
            "Lucy was so excited that she picked it up and put it in her pocket. Suddenly, she heard a voice behind her.\n",
            "\n",
            "\"What do you have there, Lucy?\" asked the voice.\n",
            "\n",
            "Lucy turned around and saw an old man. She smiled and said, \"I found a penny in the grass!\"\n",
            "\n",
            "The old man smiled and said, \"That's great! You should keep it safe.\"\n",
            "\n",
            "Lucy thanked the old man and put the penny in her pocket. She then continued her walk in the park, feeling very happy.\n",
            "\n"
          ]
        }
      ],
      "source": [
        "output = model.generate(input_ids, max_length = 1000, num_beams=5, temperature=0)\n",
        "output_text = tokenizer.decode(output[0], skip_special_tokens=True)\n",
        "print(output_text)"
      ]
    },
    {
      "cell_type": "markdown",
      "metadata": {
        "id": "eLGoq0Ohcgzx"
      },
      "source": [
        "### 1M"
      ]
    },
    {
      "cell_type": "code",
      "execution_count": null,
      "metadata": {
        "id": "5oMbTY-wP2Fk"
      },
      "outputs": [],
      "source": [
        "model = AutoModelForCausalLM.from_pretrained('roneneldan/TinyStories-1M')"
      ]
    },
    {
      "cell_type": "code",
      "execution_count": null,
      "metadata": {
        "colab": {
          "base_uri": "https://localhost:8080/"
        },
        "id": "CfIGC7oBcnji",
        "outputId": "b49dec97-3b4e-4074-b843-1be5f5e19e11"
      },
      "outputs": [
        {
          "name": "stderr",
          "output_type": "stream",
          "text": [
            "The attention mask and the pad token id were not set. As a consequence, you may observe unexpected behavior. Please pass your input's `attention_mask` to obtain reliable results.\n",
            "Setting `pad_token_id` to `eos_token_id`:50256 for open-end generation.\n"
          ]
        },
        {
          "name": "stdout",
          "output_type": "stream",
          "text": [
            "Once upon a time there was a little boy named Timmy. Timmy loved to play outside and explore the world around him. One day, Timmy went to the park with his mommy and daddy. Timmy was so excited to explore the park.\n",
            "\n",
            "When they got to the park, Timmy's mommy said they were going to the park. Timmy was so excited to go and play on the swings. But when they got to the park, Timmy's mommy said it was time to go home. Timmy was sad because he didn't want to go to the park again.\n",
            "\n",
            "After a while, Timmy's mommy said it was time to go home. Timmy was sad because he didn't want to go back to the park again. But his mommy said it was time to go home. Timmy was sad, but he knew he had to go to the park again tomorrow.\n",
            "\n"
          ]
        }
      ],
      "source": [
        "output = model.generate(input_ids, max_length = 1000, num_beams=5, temperature=0)\n",
        "output_text = tokenizer.decode(output[0], skip_special_tokens=True)\n",
        "print(output_text)"
      ]
    },
    {
      "cell_type": "markdown",
      "metadata": {
        "id": "BCCpvesugFXw"
      },
      "source": [
        "### 3M"
      ]
    },
    {
      "cell_type": "code",
      "execution_count": 2,
      "metadata": {},
      "outputs": [
        {
          "name": "stderr",
          "output_type": "stream",
          "text": [
            "c:\\Users\\gooog\\anaconda3\\envs\\nlp_clean\\Lib\\site-packages\\tqdm\\auto.py:21: TqdmWarning: IProgress not found. Please update jupyter and ipywidgets. See https://ipywidgets.readthedocs.io/en/stable/user_install.html\n",
            "  from .autonotebook import tqdm as notebook_tqdm\n"
          ]
        }
      ],
      "source": [
        "from transformers import AutoModelForCausalLM"
      ]
    },
    {
      "cell_type": "code",
      "execution_count": 3,
      "metadata": {
        "colab": {
          "base_uri": "https://localhost:8080/",
          "height": 81,
          "referenced_widgets": [
            "aaa73ad47c5f441eb104a5016f27213d",
            "c2f842fb293f4a8da67ca87bae2a61c9",
            "283e5a48ae6441d0842eb9fcebfbaf18",
            "c7f19b79b943478aa7a89c4ccdd43367",
            "dd00e5508eb34ba8a34c2209e2e57fc8",
            "d5d7975a4eb04adaa6139008a0d10a74",
            "f40ec6c316ce47438ad7fd1ba14e9e65",
            "1a968755205e4125b398ba15cf515bd5",
            "e45e685e0acd432e9d024d32dbdad85f",
            "94f64b7ea6e14259b3c311a260ca4c78",
            "8ac57fa6e210486bad35699b22db4507",
            "fe22d7922af44556b01567a614df0c08",
            "5ba7f73f6dda4cef9ea9b6750c922c25",
            "b007dff31b604ac2a8dcd5499b98c179",
            "66f2553f42474cc3b2396b9c5169b209",
            "09ab3549b25a4ed28b2c0a1192134b07",
            "0aafc91a52514f4e9c6daebebdd8af1d",
            "6869fc205ec149b3a08827c2de2e0684",
            "5ad001bea23b468ba7b023ccc3386c2a",
            "ebdf97cdf6b44da2853fc764da161686",
            "4822a3a9767b4b679d7e0acc60a07456",
            "06e2fc833aad426f93c51859d07c1c2d"
          ]
        },
        "id": "Gnmd3VfHcrX_",
        "outputId": "f9f5e1f3-0fb5-4e94-c436-f547a19fcdd1"
      },
      "outputs": [
        {
          "name": "stderr",
          "output_type": "stream",
          "text": [
            "c:\\Users\\gooog\\anaconda3\\envs\\nlp_clean\\Lib\\site-packages\\huggingface_hub\\file_download.py:149: UserWarning: `huggingface_hub` cache-system uses symlinks by default to efficiently store duplicated files but your machine does not support them in C:\\Users\\gooog\\.cache\\huggingface\\hub\\models--roneneldan--TinyStories-1M. Caching files will still work but in a degraded version that might require more space on your disk. This warning can be disabled by setting the `HF_HUB_DISABLE_SYMLINKS_WARNING` environment variable. For more details, see https://huggingface.co/docs/huggingface_hub/how-to-cache#limitations.\n",
            "To support symlinks on Windows, you either need to activate Developer Mode or to run Python as an administrator. In order to see activate developer mode, see this article: https://docs.microsoft.com/en-us/windows/apps/get-started/enable-your-device-for-development\n",
            "  warnings.warn(message)\n"
          ]
        }
      ],
      "source": [
        "model = AutoModelForCausalLM.from_pretrained('roneneldan/TinyStories-1M')"
      ]
    },
    {
      "cell_type": "code",
      "execution_count": null,
      "metadata": {
        "colab": {
          "base_uri": "https://localhost:8080/"
        },
        "id": "i-68433kgJAx",
        "outputId": "8db73ff3-17ae-4670-d25f-8b49d626eb11"
      },
      "outputs": [
        {
          "name": "stderr",
          "output_type": "stream",
          "text": [
            "/usr/local/lib/python3.10/dist-packages/transformers/generation/configuration_utils.py:410: UserWarning: `do_sample` is set to `False`. However, `temperature` is set to `0` -- this flag is only used in sample-based generation modes. You should set `do_sample=True` or unset `temperature`.\n",
            "  warnings.warn(\n",
            "The attention mask and the pad token id were not set. As a consequence, you may observe unexpected behavior. Please pass your input's `attention_mask` to obtain reliable results.\n",
            "Setting `pad_token_id` to `eos_token_id`:50256 for open-end generation.\n"
          ]
        },
        {
          "name": "stdout",
          "output_type": "stream",
          "text": [
            "Once upon a time there was a little boy named Timmy. Timmy loved to play with his toys all day long. One day, Timmy's mom asked him to clean up his toys. Timmy didn't want to clean up, but he knew he had to listen to his mom.\n",
            "\n",
            "As Timmy was cleaning up his toys, he accidentally knocked over a vase. The vase fell on the floor and broke into many pieces. Timmy was sad because he couldn't play with his toys anymore.\n",
            "\n",
            "Timmy's mom came into the room and saw the broken vase. She asked Timmy what happened and Timmy told her about the broken vase. His mom hugged him and said, \"It's okay, Timmy. Accidents happen. Let's clean up the mess together.\"\n",
            "\n",
            "Timmy learned that it's important to listen to his mom and to clean up after himself. He also learned that it's important to listen to his mom and clean up after himself.\n",
            "\n"
          ]
        }
      ],
      "source": [
        "output = model.generate(input_ids, max_length = 1000, num_beams=5, temperature=0)\n",
        "output_text = tokenizer.decode(output[0], skip_special_tokens=True)\n",
        "print(output_text)"
      ]
    },
    {
      "cell_type": "code",
      "execution_count": null,
      "metadata": {
        "id": "fTZz1QRRgL3o"
      },
      "outputs": [],
      "source": []
    }
  ],
  "metadata": {
    "colab": {
      "authorship_tag": "ABX9TyN6U6tpkwHz8tmCKGfqzDLC",
      "include_colab_link": true,
      "mount_file_id": "1exvCcF0P25iDbgZ7XyvfCgJSS6SfVyY6",
      "provenance": []
    },
    "kernelspec": {
      "display_name": "Python 3",
      "name": "python3"
    },
    "language_info": {
      "codemirror_mode": {
        "name": "ipython",
        "version": 3
      },
      "file_extension": ".py",
      "mimetype": "text/x-python",
      "name": "python",
      "nbconvert_exporter": "python",
      "pygments_lexer": "ipython3",
      "version": "3.11.8"
    },
    "widgets": {
      "application/vnd.jupyter.widget-state+json": {
        "06e2fc833aad426f93c51859d07c1c2d": {
          "model_module": "@jupyter-widgets/controls",
          "model_module_version": "1.5.0",
          "model_name": "DescriptionStyleModel",
          "state": {
            "_model_module": "@jupyter-widgets/controls",
            "_model_module_version": "1.5.0",
            "_model_name": "DescriptionStyleModel",
            "_view_count": null,
            "_view_module": "@jupyter-widgets/base",
            "_view_module_version": "1.2.0",
            "_view_name": "StyleView",
            "description_width": ""
          }
        },
        "09ab3549b25a4ed28b2c0a1192134b07": {
          "model_module": "@jupyter-widgets/base",
          "model_module_version": "1.2.0",
          "model_name": "LayoutModel",
          "state": {
            "_model_module": "@jupyter-widgets/base",
            "_model_module_version": "1.2.0",
            "_model_name": "LayoutModel",
            "_view_count": null,
            "_view_module": "@jupyter-widgets/base",
            "_view_module_version": "1.2.0",
            "_view_name": "LayoutView",
            "align_content": null,
            "align_items": null,
            "align_self": null,
            "border": null,
            "bottom": null,
            "display": null,
            "flex": null,
            "flex_flow": null,
            "grid_area": null,
            "grid_auto_columns": null,
            "grid_auto_flow": null,
            "grid_auto_rows": null,
            "grid_column": null,
            "grid_gap": null,
            "grid_row": null,
            "grid_template_areas": null,
            "grid_template_columns": null,
            "grid_template_rows": null,
            "height": null,
            "justify_content": null,
            "justify_items": null,
            "left": null,
            "margin": null,
            "max_height": null,
            "max_width": null,
            "min_height": null,
            "min_width": null,
            "object_fit": null,
            "object_position": null,
            "order": null,
            "overflow": null,
            "overflow_x": null,
            "overflow_y": null,
            "padding": null,
            "right": null,
            "top": null,
            "visibility": null,
            "width": null
          }
        },
        "0aafc91a52514f4e9c6daebebdd8af1d": {
          "model_module": "@jupyter-widgets/base",
          "model_module_version": "1.2.0",
          "model_name": "LayoutModel",
          "state": {
            "_model_module": "@jupyter-widgets/base",
            "_model_module_version": "1.2.0",
            "_model_name": "LayoutModel",
            "_view_count": null,
            "_view_module": "@jupyter-widgets/base",
            "_view_module_version": "1.2.0",
            "_view_name": "LayoutView",
            "align_content": null,
            "align_items": null,
            "align_self": null,
            "border": null,
            "bottom": null,
            "display": null,
            "flex": null,
            "flex_flow": null,
            "grid_area": null,
            "grid_auto_columns": null,
            "grid_auto_flow": null,
            "grid_auto_rows": null,
            "grid_column": null,
            "grid_gap": null,
            "grid_row": null,
            "grid_template_areas": null,
            "grid_template_columns": null,
            "grid_template_rows": null,
            "height": null,
            "justify_content": null,
            "justify_items": null,
            "left": null,
            "margin": null,
            "max_height": null,
            "max_width": null,
            "min_height": null,
            "min_width": null,
            "object_fit": null,
            "object_position": null,
            "order": null,
            "overflow": null,
            "overflow_x": null,
            "overflow_y": null,
            "padding": null,
            "right": null,
            "top": null,
            "visibility": null,
            "width": null
          }
        },
        "1a968755205e4125b398ba15cf515bd5": {
          "model_module": "@jupyter-widgets/base",
          "model_module_version": "1.2.0",
          "model_name": "LayoutModel",
          "state": {
            "_model_module": "@jupyter-widgets/base",
            "_model_module_version": "1.2.0",
            "_model_name": "LayoutModel",
            "_view_count": null,
            "_view_module": "@jupyter-widgets/base",
            "_view_module_version": "1.2.0",
            "_view_name": "LayoutView",
            "align_content": null,
            "align_items": null,
            "align_self": null,
            "border": null,
            "bottom": null,
            "display": null,
            "flex": null,
            "flex_flow": null,
            "grid_area": null,
            "grid_auto_columns": null,
            "grid_auto_flow": null,
            "grid_auto_rows": null,
            "grid_column": null,
            "grid_gap": null,
            "grid_row": null,
            "grid_template_areas": null,
            "grid_template_columns": null,
            "grid_template_rows": null,
            "height": null,
            "justify_content": null,
            "justify_items": null,
            "left": null,
            "margin": null,
            "max_height": null,
            "max_width": null,
            "min_height": null,
            "min_width": null,
            "object_fit": null,
            "object_position": null,
            "order": null,
            "overflow": null,
            "overflow_x": null,
            "overflow_y": null,
            "padding": null,
            "right": null,
            "top": null,
            "visibility": null,
            "width": null
          }
        },
        "283e5a48ae6441d0842eb9fcebfbaf18": {
          "model_module": "@jupyter-widgets/controls",
          "model_module_version": "1.5.0",
          "model_name": "FloatProgressModel",
          "state": {
            "_dom_classes": [],
            "_model_module": "@jupyter-widgets/controls",
            "_model_module_version": "1.5.0",
            "_model_name": "FloatProgressModel",
            "_view_count": null,
            "_view_module": "@jupyter-widgets/controls",
            "_view_module_version": "1.5.0",
            "_view_name": "ProgressView",
            "bar_style": "success",
            "description": "",
            "description_tooltip": null,
            "layout": "IPY_MODEL_1a968755205e4125b398ba15cf515bd5",
            "max": 1022,
            "min": 0,
            "orientation": "horizontal",
            "style": "IPY_MODEL_e45e685e0acd432e9d024d32dbdad85f",
            "value": 1022
          }
        },
        "4822a3a9767b4b679d7e0acc60a07456": {
          "model_module": "@jupyter-widgets/base",
          "model_module_version": "1.2.0",
          "model_name": "LayoutModel",
          "state": {
            "_model_module": "@jupyter-widgets/base",
            "_model_module_version": "1.2.0",
            "_model_name": "LayoutModel",
            "_view_count": null,
            "_view_module": "@jupyter-widgets/base",
            "_view_module_version": "1.2.0",
            "_view_name": "LayoutView",
            "align_content": null,
            "align_items": null,
            "align_self": null,
            "border": null,
            "bottom": null,
            "display": null,
            "flex": null,
            "flex_flow": null,
            "grid_area": null,
            "grid_auto_columns": null,
            "grid_auto_flow": null,
            "grid_auto_rows": null,
            "grid_column": null,
            "grid_gap": null,
            "grid_row": null,
            "grid_template_areas": null,
            "grid_template_columns": null,
            "grid_template_rows": null,
            "height": null,
            "justify_content": null,
            "justify_items": null,
            "left": null,
            "margin": null,
            "max_height": null,
            "max_width": null,
            "min_height": null,
            "min_width": null,
            "object_fit": null,
            "object_position": null,
            "order": null,
            "overflow": null,
            "overflow_x": null,
            "overflow_y": null,
            "padding": null,
            "right": null,
            "top": null,
            "visibility": null,
            "width": null
          }
        },
        "5ad001bea23b468ba7b023ccc3386c2a": {
          "model_module": "@jupyter-widgets/base",
          "model_module_version": "1.2.0",
          "model_name": "LayoutModel",
          "state": {
            "_model_module": "@jupyter-widgets/base",
            "_model_module_version": "1.2.0",
            "_model_name": "LayoutModel",
            "_view_count": null,
            "_view_module": "@jupyter-widgets/base",
            "_view_module_version": "1.2.0",
            "_view_name": "LayoutView",
            "align_content": null,
            "align_items": null,
            "align_self": null,
            "border": null,
            "bottom": null,
            "display": null,
            "flex": null,
            "flex_flow": null,
            "grid_area": null,
            "grid_auto_columns": null,
            "grid_auto_flow": null,
            "grid_auto_rows": null,
            "grid_column": null,
            "grid_gap": null,
            "grid_row": null,
            "grid_template_areas": null,
            "grid_template_columns": null,
            "grid_template_rows": null,
            "height": null,
            "justify_content": null,
            "justify_items": null,
            "left": null,
            "margin": null,
            "max_height": null,
            "max_width": null,
            "min_height": null,
            "min_width": null,
            "object_fit": null,
            "object_position": null,
            "order": null,
            "overflow": null,
            "overflow_x": null,
            "overflow_y": null,
            "padding": null,
            "right": null,
            "top": null,
            "visibility": null,
            "width": null
          }
        },
        "5ba7f73f6dda4cef9ea9b6750c922c25": {
          "model_module": "@jupyter-widgets/controls",
          "model_module_version": "1.5.0",
          "model_name": "HTMLModel",
          "state": {
            "_dom_classes": [],
            "_model_module": "@jupyter-widgets/controls",
            "_model_module_version": "1.5.0",
            "_model_name": "HTMLModel",
            "_view_count": null,
            "_view_module": "@jupyter-widgets/controls",
            "_view_module_version": "1.5.0",
            "_view_name": "HTMLView",
            "description": "",
            "description_tooltip": null,
            "layout": "IPY_MODEL_0aafc91a52514f4e9c6daebebdd8af1d",
            "placeholder": "​",
            "style": "IPY_MODEL_6869fc205ec149b3a08827c2de2e0684",
            "value": "pytorch_model.bin: 100%"
          }
        },
        "66f2553f42474cc3b2396b9c5169b209": {
          "model_module": "@jupyter-widgets/controls",
          "model_module_version": "1.5.0",
          "model_name": "HTMLModel",
          "state": {
            "_dom_classes": [],
            "_model_module": "@jupyter-widgets/controls",
            "_model_module_version": "1.5.0",
            "_model_name": "HTMLModel",
            "_view_count": null,
            "_view_module": "@jupyter-widgets/controls",
            "_view_module_version": "1.5.0",
            "_view_name": "HTMLView",
            "description": "",
            "description_tooltip": null,
            "layout": "IPY_MODEL_4822a3a9767b4b679d7e0acc60a07456",
            "placeholder": "​",
            "style": "IPY_MODEL_06e2fc833aad426f93c51859d07c1c2d",
            "value": " 66.7M/66.7M [00:00&lt;00:00, 80.7MB/s]"
          }
        },
        "6869fc205ec149b3a08827c2de2e0684": {
          "model_module": "@jupyter-widgets/controls",
          "model_module_version": "1.5.0",
          "model_name": "DescriptionStyleModel",
          "state": {
            "_model_module": "@jupyter-widgets/controls",
            "_model_module_version": "1.5.0",
            "_model_name": "DescriptionStyleModel",
            "_view_count": null,
            "_view_module": "@jupyter-widgets/base",
            "_view_module_version": "1.2.0",
            "_view_name": "StyleView",
            "description_width": ""
          }
        },
        "8ac57fa6e210486bad35699b22db4507": {
          "model_module": "@jupyter-widgets/controls",
          "model_module_version": "1.5.0",
          "model_name": "DescriptionStyleModel",
          "state": {
            "_model_module": "@jupyter-widgets/controls",
            "_model_module_version": "1.5.0",
            "_model_name": "DescriptionStyleModel",
            "_view_count": null,
            "_view_module": "@jupyter-widgets/base",
            "_view_module_version": "1.2.0",
            "_view_name": "StyleView",
            "description_width": ""
          }
        },
        "94f64b7ea6e14259b3c311a260ca4c78": {
          "model_module": "@jupyter-widgets/base",
          "model_module_version": "1.2.0",
          "model_name": "LayoutModel",
          "state": {
            "_model_module": "@jupyter-widgets/base",
            "_model_module_version": "1.2.0",
            "_model_name": "LayoutModel",
            "_view_count": null,
            "_view_module": "@jupyter-widgets/base",
            "_view_module_version": "1.2.0",
            "_view_name": "LayoutView",
            "align_content": null,
            "align_items": null,
            "align_self": null,
            "border": null,
            "bottom": null,
            "display": null,
            "flex": null,
            "flex_flow": null,
            "grid_area": null,
            "grid_auto_columns": null,
            "grid_auto_flow": null,
            "grid_auto_rows": null,
            "grid_column": null,
            "grid_gap": null,
            "grid_row": null,
            "grid_template_areas": null,
            "grid_template_columns": null,
            "grid_template_rows": null,
            "height": null,
            "justify_content": null,
            "justify_items": null,
            "left": null,
            "margin": null,
            "max_height": null,
            "max_width": null,
            "min_height": null,
            "min_width": null,
            "object_fit": null,
            "object_position": null,
            "order": null,
            "overflow": null,
            "overflow_x": null,
            "overflow_y": null,
            "padding": null,
            "right": null,
            "top": null,
            "visibility": null,
            "width": null
          }
        },
        "aaa73ad47c5f441eb104a5016f27213d": {
          "model_module": "@jupyter-widgets/controls",
          "model_module_version": "1.5.0",
          "model_name": "HBoxModel",
          "state": {
            "_dom_classes": [],
            "_model_module": "@jupyter-widgets/controls",
            "_model_module_version": "1.5.0",
            "_model_name": "HBoxModel",
            "_view_count": null,
            "_view_module": "@jupyter-widgets/controls",
            "_view_module_version": "1.5.0",
            "_view_name": "HBoxView",
            "box_style": "",
            "children": [
              "IPY_MODEL_c2f842fb293f4a8da67ca87bae2a61c9",
              "IPY_MODEL_283e5a48ae6441d0842eb9fcebfbaf18",
              "IPY_MODEL_c7f19b79b943478aa7a89c4ccdd43367"
            ],
            "layout": "IPY_MODEL_dd00e5508eb34ba8a34c2209e2e57fc8"
          }
        },
        "b007dff31b604ac2a8dcd5499b98c179": {
          "model_module": "@jupyter-widgets/controls",
          "model_module_version": "1.5.0",
          "model_name": "FloatProgressModel",
          "state": {
            "_dom_classes": [],
            "_model_module": "@jupyter-widgets/controls",
            "_model_module_version": "1.5.0",
            "_model_name": "FloatProgressModel",
            "_view_count": null,
            "_view_module": "@jupyter-widgets/controls",
            "_view_module_version": "1.5.0",
            "_view_name": "ProgressView",
            "bar_style": "success",
            "description": "",
            "description_tooltip": null,
            "layout": "IPY_MODEL_5ad001bea23b468ba7b023ccc3386c2a",
            "max": 66708541,
            "min": 0,
            "orientation": "horizontal",
            "style": "IPY_MODEL_ebdf97cdf6b44da2853fc764da161686",
            "value": 66708541
          }
        },
        "c2f842fb293f4a8da67ca87bae2a61c9": {
          "model_module": "@jupyter-widgets/controls",
          "model_module_version": "1.5.0",
          "model_name": "HTMLModel",
          "state": {
            "_dom_classes": [],
            "_model_module": "@jupyter-widgets/controls",
            "_model_module_version": "1.5.0",
            "_model_name": "HTMLModel",
            "_view_count": null,
            "_view_module": "@jupyter-widgets/controls",
            "_view_module_version": "1.5.0",
            "_view_name": "HTMLView",
            "description": "",
            "description_tooltip": null,
            "layout": "IPY_MODEL_d5d7975a4eb04adaa6139008a0d10a74",
            "placeholder": "​",
            "style": "IPY_MODEL_f40ec6c316ce47438ad7fd1ba14e9e65",
            "value": "config.json: 100%"
          }
        },
        "c7f19b79b943478aa7a89c4ccdd43367": {
          "model_module": "@jupyter-widgets/controls",
          "model_module_version": "1.5.0",
          "model_name": "HTMLModel",
          "state": {
            "_dom_classes": [],
            "_model_module": "@jupyter-widgets/controls",
            "_model_module_version": "1.5.0",
            "_model_name": "HTMLModel",
            "_view_count": null,
            "_view_module": "@jupyter-widgets/controls",
            "_view_module_version": "1.5.0",
            "_view_name": "HTMLView",
            "description": "",
            "description_tooltip": null,
            "layout": "IPY_MODEL_94f64b7ea6e14259b3c311a260ca4c78",
            "placeholder": "​",
            "style": "IPY_MODEL_8ac57fa6e210486bad35699b22db4507",
            "value": " 1.02k/1.02k [00:00&lt;00:00, 22.0kB/s]"
          }
        },
        "d5d7975a4eb04adaa6139008a0d10a74": {
          "model_module": "@jupyter-widgets/base",
          "model_module_version": "1.2.0",
          "model_name": "LayoutModel",
          "state": {
            "_model_module": "@jupyter-widgets/base",
            "_model_module_version": "1.2.0",
            "_model_name": "LayoutModel",
            "_view_count": null,
            "_view_module": "@jupyter-widgets/base",
            "_view_module_version": "1.2.0",
            "_view_name": "LayoutView",
            "align_content": null,
            "align_items": null,
            "align_self": null,
            "border": null,
            "bottom": null,
            "display": null,
            "flex": null,
            "flex_flow": null,
            "grid_area": null,
            "grid_auto_columns": null,
            "grid_auto_flow": null,
            "grid_auto_rows": null,
            "grid_column": null,
            "grid_gap": null,
            "grid_row": null,
            "grid_template_areas": null,
            "grid_template_columns": null,
            "grid_template_rows": null,
            "height": null,
            "justify_content": null,
            "justify_items": null,
            "left": null,
            "margin": null,
            "max_height": null,
            "max_width": null,
            "min_height": null,
            "min_width": null,
            "object_fit": null,
            "object_position": null,
            "order": null,
            "overflow": null,
            "overflow_x": null,
            "overflow_y": null,
            "padding": null,
            "right": null,
            "top": null,
            "visibility": null,
            "width": null
          }
        },
        "dd00e5508eb34ba8a34c2209e2e57fc8": {
          "model_module": "@jupyter-widgets/base",
          "model_module_version": "1.2.0",
          "model_name": "LayoutModel",
          "state": {
            "_model_module": "@jupyter-widgets/base",
            "_model_module_version": "1.2.0",
            "_model_name": "LayoutModel",
            "_view_count": null,
            "_view_module": "@jupyter-widgets/base",
            "_view_module_version": "1.2.0",
            "_view_name": "LayoutView",
            "align_content": null,
            "align_items": null,
            "align_self": null,
            "border": null,
            "bottom": null,
            "display": null,
            "flex": null,
            "flex_flow": null,
            "grid_area": null,
            "grid_auto_columns": null,
            "grid_auto_flow": null,
            "grid_auto_rows": null,
            "grid_column": null,
            "grid_gap": null,
            "grid_row": null,
            "grid_template_areas": null,
            "grid_template_columns": null,
            "grid_template_rows": null,
            "height": null,
            "justify_content": null,
            "justify_items": null,
            "left": null,
            "margin": null,
            "max_height": null,
            "max_width": null,
            "min_height": null,
            "min_width": null,
            "object_fit": null,
            "object_position": null,
            "order": null,
            "overflow": null,
            "overflow_x": null,
            "overflow_y": null,
            "padding": null,
            "right": null,
            "top": null,
            "visibility": null,
            "width": null
          }
        },
        "e45e685e0acd432e9d024d32dbdad85f": {
          "model_module": "@jupyter-widgets/controls",
          "model_module_version": "1.5.0",
          "model_name": "ProgressStyleModel",
          "state": {
            "_model_module": "@jupyter-widgets/controls",
            "_model_module_version": "1.5.0",
            "_model_name": "ProgressStyleModel",
            "_view_count": null,
            "_view_module": "@jupyter-widgets/base",
            "_view_module_version": "1.2.0",
            "_view_name": "StyleView",
            "bar_color": null,
            "description_width": ""
          }
        },
        "ebdf97cdf6b44da2853fc764da161686": {
          "model_module": "@jupyter-widgets/controls",
          "model_module_version": "1.5.0",
          "model_name": "ProgressStyleModel",
          "state": {
            "_model_module": "@jupyter-widgets/controls",
            "_model_module_version": "1.5.0",
            "_model_name": "ProgressStyleModel",
            "_view_count": null,
            "_view_module": "@jupyter-widgets/base",
            "_view_module_version": "1.2.0",
            "_view_name": "StyleView",
            "bar_color": null,
            "description_width": ""
          }
        },
        "f40ec6c316ce47438ad7fd1ba14e9e65": {
          "model_module": "@jupyter-widgets/controls",
          "model_module_version": "1.5.0",
          "model_name": "DescriptionStyleModel",
          "state": {
            "_model_module": "@jupyter-widgets/controls",
            "_model_module_version": "1.5.0",
            "_model_name": "DescriptionStyleModel",
            "_view_count": null,
            "_view_module": "@jupyter-widgets/base",
            "_view_module_version": "1.2.0",
            "_view_name": "StyleView",
            "description_width": ""
          }
        },
        "fe22d7922af44556b01567a614df0c08": {
          "model_module": "@jupyter-widgets/controls",
          "model_module_version": "1.5.0",
          "model_name": "HBoxModel",
          "state": {
            "_dom_classes": [],
            "_model_module": "@jupyter-widgets/controls",
            "_model_module_version": "1.5.0",
            "_model_name": "HBoxModel",
            "_view_count": null,
            "_view_module": "@jupyter-widgets/controls",
            "_view_module_version": "1.5.0",
            "_view_name": "HBoxView",
            "box_style": "",
            "children": [
              "IPY_MODEL_5ba7f73f6dda4cef9ea9b6750c922c25",
              "IPY_MODEL_b007dff31b604ac2a8dcd5499b98c179",
              "IPY_MODEL_66f2553f42474cc3b2396b9c5169b209"
            ],
            "layout": "IPY_MODEL_09ab3549b25a4ed28b2c0a1192134b07"
          }
        }
      }
    }
  },
  "nbformat": 4,
  "nbformat_minor": 0
}
