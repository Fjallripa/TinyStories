{
  "cells": [
    {
      "cell_type": "markdown",
      "metadata": {
        "id": "view-in-github",
        "colab_type": "text"
      },
      "source": [
        "<a href=\"https://colab.research.google.com/github/Fjallripa/TinyStories/blob/main/1M_german_training.ipynb\" target=\"_parent\"><img src=\"https://colab.research.google.com/assets/colab-badge.svg\" alt=\"Open In Colab\"/></a>"
      ]
    },
    {
      "cell_type": "code",
      "execution_count": null,
      "metadata": {
        "colab": {
          "base_uri": "https://localhost:8080/"
        },
        "id": "1DUsTR2g9aPu",
        "outputId": "f3137eac-bb17-458f-9440-f59932ec4a0b"
      },
      "outputs": [
        {
          "name": "stdout",
          "output_type": "stream",
          "text": [
            "Drive already mounted at /content/drive; to attempt to forcibly remount, call drive.mount(\"/content/drive\", force_remount=True).\n"
          ]
        }
      ],
      "source": [
        "# Use the Colab UI instead. Select the folder button on the left and then the drive button.\n",
        "# This way you will not be asked every execution for permissions\n",
        "from google.colab import drive\n",
        "drive.mount('/content/drive')\n",
        "\n",
        "!pip install -q datasets"
      ]
    },
    {
      "cell_type": "code",
      "execution_count": null,
      "metadata": {
        "colab": {
          "base_uri": "https://localhost:8080/"
        },
        "id": "EyolnRlpqflI",
        "outputId": "92b19a6e-350f-47f3-9556-df6525b27c62"
      },
      "outputs": [
        {
          "name": "stdout",
          "output_type": "stream",
          "text": [
            "Selected device: cuda\n",
            "Selected language: de\n"
          ]
        }
      ],
      "source": [
        "from transformers import GPTNeoConfig, GPTNeoForCausalLM, get_scheduler, DataCollatorForSeq2Seq, AutoTokenizer, DataCollatorForLanguageModeling, AutoModelForCausalLM, AutoConfig\n",
        "from datasets import load_dataset, DatasetDict, Dataset, concatenate_datasets, Sequence, Value\n",
        "import torch\n",
        "from torch.utils.data import DataLoader\n",
        "from datetime import datetime\n",
        "from copy import deepcopy\n",
        "from tqdm.auto import tqdm\n",
        "import numpy as np\n",
        "import os\n",
        "import matplotlib.pyplot as plt\n",
        "import re\n",
        "\n",
        "if torch.cuda.is_available():\n",
        "    device = torch.device(\"cuda\")  # GPU\n",
        "else:\n",
        "    device = torch.device(\"cpu\")  # CPU\n",
        "\n",
        "# for debugging\n",
        "#os.environ['CUDA_LAUNCH_BLOCKING'] = '1'\n",
        "\n",
        "print(\"Selected device:\", device)\n",
        "\n",
        "lang = \"de\" # Can be \"en\" or \"de\"\n",
        "print(f\"Selected language: {lang}\")\n"
      ]
    },
    {
      "cell_type": "markdown",
      "metadata": {
        "id": "jnoU991rQr_w"
      },
      "source": [
        "### Tokenizing dataset"
      ]
    },
    {
      "cell_type": "code",
      "execution_count": null,
      "metadata": {
        "id": "FrQZKqqx1dEc"
      },
      "outputs": [],
      "source": [
        "tokenized_datasets_path = f\"/content/drive/My Drive/genAI project/tiny-stories-{lang}-tokenized\"\n",
        "\n",
        "if os.path.exists(tokenized_datasets_path):\n",
        "    tokenized_datasets = DatasetDict.load_from_disk(tokenized_datasets_path)\n",
        "else:\n",
        "    if lang == \"en\":\n",
        "        raw_dataset = load_dataset(\"roneneldan/TinyStories\")\n",
        "    elif lang == \"de\":\n",
        "        raw_dataset = DatasetDict.load_from_disk(\"/content/drive/MyDrive/genAI project/tiny-stories-de-raw\")\n",
        "    else:\n",
        "        raise NotImplementedError(f\"Language unknown: {lang}\")\n",
        "\n",
        "\n",
        "    # Tokenize text\n",
        "    tokenized_datasets = raw_dataset.map(\n",
        "        lambda examples: tokenizer(examples[\"text\"]),\n",
        "        batched=True)\n",
        "    tokenized_datasets = tokenized_datasets.remove_columns([\"text\"])\n",
        "    tokenized_datasets.set_format(\"torch\")\n",
        "    tokenized_datasets.save_to_disk(tokenized_datasets_path)\n",
        "\n"
      ]
    },
    {
      "cell_type": "markdown",
      "metadata": {
        "id": "SuUxK5MeQjcf"
      },
      "source": [
        "### Preprocessing tokenized dataset into chunks"
      ]
    },
    {
      "cell_type": "code",
      "execution_count": null,
      "metadata": {
        "colab": {
          "base_uri": "https://localhost:8080/",
          "height": 49,
          "referenced_widgets": [
            "f43c77e915ee4629a51b84be1f7c7a4f",
            "2dae46ca62d344db899f0dade6bfe57e",
            "3653400acf684011b710ad2df44e9fa0",
            "771520422cdc4d588a7673c93f776779",
            "2455e19ca26047a1ad488bf359c566e5",
            "bb8fb68bdb7b480e81065c19bfb69729",
            "d48ac216d4974f31bd8f46887ff3c504",
            "9d9b9d0a25b64a0598630a204e8bb07f",
            "9305ee1f989d4a0694bf05f46a016308",
            "8a33fff8878541dfbc514bebbaa76f54",
            "c11405de568d40ea9a2deb254c1fa804"
          ]
        },
        "id": "qnCcYTdMQoxz",
        "outputId": "e5910b20-8aa8-46fd-c0e6-1972e3cc2068"
      },
      "outputs": [
        {
          "data": {
            "application/vnd.jupyter.widget-view+json": {
              "model_id": "f43c77e915ee4629a51b84be1f7c7a4f",
              "version_major": 2,
              "version_minor": 0
            },
            "text/plain": [
              "Loading dataset from disk:   0%|          | 0/35 [00:00<?, ?it/s]"
            ]
          },
          "metadata": {},
          "output_type": "display_data"
        }
      ],
      "source": [
        "# Create 1024 length arrays starting with a given story and filling up the\n",
        "# remaining space with additional ones. Every story should be split by an eos token.\n",
        "preprocessed_datasets_path = f\"/content/drive/My Drive/genAI project/tiny-stories-{lang}-preprocessed\"\n",
        "\n",
        "def split_dataset_generator(chunks):\n",
        "    # Layout of temporary data in memory:\n",
        "    # dim1: Number of story\n",
        "    # dim2: input_ids (0) or labels (1)\n",
        "    # dim3: Concatination of stories beginnnig with story number from dim1.\n",
        "    #       Stories are separated by eos token.\n",
        "    for chunk in chunks:\n",
        "        for row_id in chunk:\n",
        "            batched_input_ids = torch.zeros(1024, dtype=torch.float32)\n",
        "            batch_write_start = 0\n",
        "            batch_write_end = 1024\n",
        "            batch_row_id = row_id\n",
        "\n",
        "            # Loop while there is still data to be added to this batch\n",
        "            while batch_write_end > batch_write_start:\n",
        "                this_row_read_count = min((batch_write_end - batch_write_start,\n",
        "                                        len(tokenized_datasets[split][batch_row_id][\"input_ids\"])))\n",
        "                batched_input_ids[batch_write_start:batch_write_start + this_row_read_count] = tokenized_datasets[split][batch_row_id][\"input_ids\"][0:this_row_read_count]\n",
        "                batch_write_start = batch_write_start + this_row_read_count\n",
        "                batch_row_id = (batch_row_id + 1) % len(tokenized_datasets[split]) # This is resetted in the for loop automatically\n",
        "                if batch_write_start > batch_write_end:\n",
        "                    batched_input_ids[batch_write_start] = tokenizer.eos_token_id\n",
        "                    batch_write_start = batch_write_start + 1\n",
        "\n",
        "            yield {\n",
        "                \"input_ids\": list(batched_input_ids),\n",
        "                \"labels\": list(batched_input_ids.clone())\n",
        "            }\n",
        "\n",
        "\n",
        "preprocessed_datasets_chunks_path = f\"/content/drive/My Drive/genAI project/tiny-stories-{lang}-preprocessed-chunks\"\n",
        "def get_chunks_on_disk():\n",
        "    filenames = {}\n",
        "    start_ids = {}\n",
        "\n",
        "    chunk_map = {\n",
        "        \"train\": {},\n",
        "        \"validation\": {}\n",
        "    }\n",
        "    for filename in os.listdir(preprocessed_datasets_chunks_path):\n",
        "        matches = chunk_pattern.match(filename)\n",
        "        if not matches:\n",
        "            continue\n",
        "        split, chunk_start = matches.groups()\n",
        "        chunk_map[split][int(chunk_start)] = filename\n",
        "\n",
        "    for split in chunk_map.keys():\n",
        "        start_ids[split] = sorted(chunk_map[split].keys())\n",
        "        filenames[split] = [chunk_map[split][start_id] for start_id in start_ids[split]]\n",
        "\n",
        "    return start_ids, filenames\n",
        "\n",
        "\n",
        "if os.path.exists(preprocessed_datasets_path):\n",
        "    preprocessed_datasets = DatasetDict.load_from_disk(preprocessed_datasets_path)\n",
        "else:\n",
        "    checkpoint_frequency = 100\n",
        "    chunk_size = 1000\n",
        "\n",
        "    chunk_pattern = re.compile(f\"tiny-stories-{lang}-preprocessed-chunk-(.+)-(.+)\")\n",
        "    start_ids_on_disk, _ = get_chunks_on_disk()\n",
        "    resume_point = {}\n",
        "    for split in start_ids_on_disk.keys():\n",
        "        if start_ids_on_disk[split]:\n",
        "            resume_point[split] = max(start_ids_on_disk[split])\n",
        "        else:\n",
        "            resume_point[split] = 0\n",
        "    print(f\"resume points: {resume_point}\")\n",
        "\n",
        "    for split in tokenized_datasets.keys():\n",
        "        print(f\"working on split {split}\")\n",
        "        dataset_size = len(tokenized_datasets[split])\n",
        "\n",
        "        chunks = [range(start, min(start + chunk_size, dataset_size)) for start in range(0, dataset_size, chunk_size)]\n",
        "        start_chunk_index = None\n",
        "        for chunk_index, chunk in enumerate(chunks):\n",
        "            if resume_point[split] in chunk:\n",
        "                start_chunk_index = chunk_index\n",
        "                break\n",
        "        if start_chunk_index is None:\n",
        "            continue\n",
        "        for checkpoint_chunk_start_id in range(start_chunk_index, len(chunks), checkpoint_frequency):\n",
        "            checkpoint_chunks = chunks[checkpoint_chunk_start_id:checkpoint_chunk_start_id + checkpoint_frequency]\n",
        "            print(f\"Working on checkpoint beginning with: {checkpoint_chunks[0][0]}\")\n",
        "            chunk_dataset = Dataset.from_generator(split_dataset_generator, gen_kwargs={\"chunks\": checkpoint_chunks}, num_proc=4)\n",
        "            chunk_dataset.save_to_disk(f\"{preprocessed_datasets_chunks_path}/tiny-stories-{lang}-preprocessed-chunk-{split}-{checkpoint_chunks[0][0]}\")\n",
        "\n",
        "    preprocessed_datasets = DatasetDict({})\n",
        "    _, sorted_filenames_on_disk = get_chunks_on_disk()\n",
        "    for split, filenames in sorted_filenames_on_disk.items():\n",
        "        datasets_to_concatinate = []\n",
        "        for filename in filenames:\n",
        "            datasets_to_concatinate.append(Dataset.load_from_disk(f\"{preprocessed_datasets_chunks_path}/{filename}\"))\n",
        "        preprocessed_datasets[split] = concatenate_datasets(datasets_to_concatinate)\n",
        "    preprocessed_datasets.save_to_disk(preprocessed_datasets_path)"
      ]
    },
    {
      "cell_type": "markdown",
      "metadata": {
        "id": "xyxGc5q3QbUK"
      },
      "source": [
        "### Creating DataLoader"
      ]
    },
    {
      "cell_type": "code",
      "execution_count": null,
      "metadata": {
        "colab": {
          "base_uri": "https://localhost:8080/",
          "height": 84,
          "referenced_widgets": [
            "52bea428f8154d0287fd6af5edea3bd0",
            "8449a09dfb4041d4a253399decfcf9f2",
            "5a3eafd178e148fc928229b4d604530b",
            "e7a28ea1d03e436299e09af10df81bea",
            "c6bca594d9e14085a851a9375b8e5070",
            "707ba09d14dc4047bc4a604be16ec7d3",
            "64067e790dd5494d835551669b523ffd",
            "e95ce12fb1b94e7e84209b0e1bf60271",
            "5bd9f1a0fcaa456f8ccd02263b423404",
            "cee386b9df8443c0b4bc7cce5f675565",
            "0ce82209b4a042be88945048f9b8f8ea"
          ]
        },
        "id": "u1Giu77xNgPe",
        "outputId": "63f71755-bf9c-48bf-c02f-a84e55ef50ee"
      },
      "outputs": [
        {
          "data": {
            "application/vnd.jupyter.widget-view+json": {
              "model_id": "52bea428f8154d0287fd6af5edea3bd0",
              "version_major": 2,
              "version_minor": 0
            },
            "text/plain": [
              "Loading dataset from disk:   0%|          | 0/35 [00:00<?, ?it/s]"
            ]
          },
          "metadata": {},
          "output_type": "display_data"
        },
        {
          "name": "stdout",
          "output_type": "stream",
          "text": [
            "Preprocessed datasets loaded from /content/drive/My Drive/genAI project/tiny-stories-de-preprocessed\n"
          ]
        },
        {
          "data": {
            "text/plain": [
              "{'input_ids': torch.Size([20, 1024]), 'labels': torch.Size([20, 1024])}"
            ]
          },
          "execution_count": 3,
          "metadata": {},
          "output_type": "execute_result"
        }
      ],
      "source": [
        "# 12GB RAM CPU\n",
        "#batch_size = 4\n",
        "\n",
        "# V100:\n",
        "#batch_size = 8\n",
        "\n",
        "# A100\n",
        "batch_size = 20\n",
        "\n",
        "# Loading tokenizer\n",
        "tokenizer = AutoTokenizer.from_pretrained(\"dbmdz/german-gpt2\")\n",
        "\n",
        "# Loading training data\n",
        "preprocessed_datasets_path = f\"/content/drive/My Drive/genAI project/tiny-stories-{lang}-preprocessed\"\n",
        "if os.path.exists(preprocessed_datasets_path):\n",
        "    preprocessed_datasets = DatasetDict.load_from_disk(preprocessed_datasets_path)\n",
        "    preprocessed_datasets.set_format(\"torch\")\n",
        "    print(f\"Preprocessed datasets loaded from {preprocessed_datasets_path}\")\n",
        "\n",
        "# Creating dataloader\n",
        "train_dataloader = DataLoader(preprocessed_datasets[\"train\"], batch_size=batch_size, shuffle=True)\n",
        "eval_dataloader = DataLoader(preprocessed_datasets[\"validation\"], batch_size=batch_size)\n",
        "\n",
        "for batch in train_dataloader:\n",
        "    break\n",
        "{k: v.shape for k, v in batch.items()}"
      ]
    },
    {
      "cell_type": "code",
      "execution_count": null,
      "metadata": {
        "colab": {
          "base_uri": "https://localhost:8080/"
        },
        "id": "x9EYdmPlhlLm",
        "outputId": "7dc464a2-1fee-4129-9d5d-f3dd50cb8c27"
      },
      "outputs": [
        {
          "name": "stdout",
          "output_type": "stream",
          "text": [
            "tensor([14693.,  3585.,  2961.,  ...,  1608.,   444.,   418.])\n",
            "tensor([14693.,  3585.,  2961.,  ...,  1608.,   444.,   418.])\n"
          ]
        }
      ],
      "source": [
        "print(preprocessed_datasets[\"train\"][0][\"input_ids\"])\n",
        "print(preprocessed_datasets[\"train\"][0][\"labels\"])"
      ]
    },
    {
      "cell_type": "markdown",
      "metadata": {
        "id": "ZmFX-5F90W2w"
      },
      "source": [
        "## Model setup"
      ]
    },
    {
      "cell_type": "code",
      "execution_count": null,
      "metadata": {
        "colab": {
          "base_uri": "https://localhost:8080/"
        },
        "id": "WUQVhO1A-3DM",
        "outputId": "f8b110a0-efde-417d-c4bc-0afe0920494c"
      },
      "outputs": [
        {
          "name": "stdout",
          "output_type": "stream",
          "text": [
            "Note: Tokenizer vocabulary size (50265) differs from the Model's (50257). Will change that of the Model.\n",
            "Model vocabulary size now 50265\n",
            "Creating fresh model from roneneldan/TinyStories-1M architecture\n"
          ]
        }
      ],
      "source": [
        "architecture = \"roneneldan/TinyStories-1M\"\n",
        "config = AutoConfig.from_pretrained(architecture)\n",
        "\n",
        "model_directory = f\"/content/drive/My Drive/genAI project/model_1m_{lang}\"\n",
        "\n",
        "if os.path.exists(model_directory):\n",
        "    model = GPTNeoForCausalLM.from_pretrained(model_directory)\n",
        "    print(f\"Taking existing model from {model_directory}.\")\n",
        "else:\n",
        "    if tokenizer.vocab_size != config.vocab_size:\n",
        "        print(f\"Note: Tokenizer vocabulary size ({tokenizer.vocab_size}) differs from the Model's ({config.vocab_size}). Will change that of the Model.\")\n",
        "        config.vocab_size = tokenizer.vocab_size\n",
        "        print(f\"Model vocabulary size now {config.vocab_size}\")\n",
        "    model = GPTNeoForCausalLM(config)\n",
        "    print(f\"Creating fresh model from {architecture} architecture\")"
      ]
    },
    {
      "cell_type": "code",
      "execution_count": null,
      "metadata": {
        "id": "PfyyQ8GkW51p"
      },
      "outputs": [],
      "source": [
        "optimizer = torch.optim.AdamW(model.parameters(), lr=5e-4, betas=(0.9, 0.95), weight_decay=0.1)\n",
        "original_batch_size = 80\n",
        "num_epochs = 1\n",
        "num_training_steps = num_epochs * len(train_dataloader)\n",
        "gradient_accumulation_steps=16 * int(original_batch_size / batch_size)\n",
        "lr_scheduler = get_scheduler(\n",
        "    \"constant\",\n",
        "    optimizer=optimizer,\n",
        "    num_warmup_steps=0,\n",
        "    num_training_steps=num_training_steps,\n",
        ")\n",
        "training_checkpoint_frequency = 1_000"
      ]
    },
    {
      "cell_type": "code",
      "execution_count": null,
      "metadata": {
        "colab": {
          "base_uri": "https://localhost:8080/",
          "height": 66,
          "referenced_widgets": [
            "1d0896bfd9b14617ab6f6eb53c57f4ce",
            "c5c604bb5b4e492a9e52a854691128ff",
            "e8a67183932b440784cb9d9ae25cdb06",
            "c64e84272d774887baaacd9699d53d74",
            "dde84f1784524c579af974118740094d",
            "60fd49c347a545b8b47c5469384308e0",
            "a2893a8914624149876885fe2540cc7e",
            "2c372104ede1455d8fcf22af41cfe8b8",
            "1d0c887a390642a094abb9c2cffeac8d",
            "1aebf6f42aab46e69cd137075766c4b8",
            "081784df13a045cc951307ba5374a6c1"
          ]
        },
        "id": "Bl_zfV6WQfVc",
        "outputId": "8b5dafc8-343f-4cc3-a70d-3bb08a20a244"
      },
      "outputs": [
        {
          "metadata": {
            "tags": null
          },
          "name": "stdout",
          "output_type": "stream",
          "text": [
            "Training GPT-Neo type model with 3.7M parameters\n"
          ]
        },
        {
          "data": {
            "application/vnd.jupyter.widget-view+json": {
              "model_id": "1d0896bfd9b14617ab6f6eb53c57f4ce",
              "version_major": 2,
              "version_minor": 0
            },
            "text/plain": [
              "  0%|          | 0/105677 [00:00<?, ?it/s]"
            ]
          },
          "metadata": {},
          "output_type": "display_data"
        }
      ],
      "source": [
        "model_size = sum(t.numel() for t in model.parameters())\n",
        "print(f\"Training GPT-Neo type model with {model_size/1000**2:.1f}M parameters\")\n",
        "\n",
        "losses = []\n",
        "\n",
        "progress_bar = tqdm(range(num_training_steps))\n",
        "model.train().to(device)\n",
        "for epoch in range(num_epochs):\n",
        "    for index, batch in enumerate(train_dataloader):\n",
        "        #with torch.autograd.detect_anomaly():\n",
        "        batch = {k: v.type(torch.int64).to(device) for k, v in batch.items()}\n",
        "        outputs = model(**batch)\n",
        "        loss = outputs.loss\n",
        "        loss = loss / gradient_accumulation_steps\n",
        "        loss.backward()\n",
        "        losses.append(loss.detach().cpu().numpy())\n",
        "\n",
        "        if (index + 1) % gradient_accumulation_steps == 0:\n",
        "            optimizer.step()\n",
        "            lr_scheduler.step()\n",
        "            optimizer.zero_grad()\n",
        "\n",
        "        progress_bar.update(1)\n",
        "\n",
        "        if (index + 1) % training_checkpoint_frequency == 0:\n",
        "            model.save_pretrained(f\"/content/drive/My Drive/genAI project/model-1m-{lang}-{datetime.now().isoformat()}\")\n",
        "            torch.save(np.array(losses), f\"/content/drive/My Drive/genAI project/losses_tensor-1m-{lang}-{datetime.now().isoformat()}.pt\")\n",
        "\n",
        "model.save_pretrained(f\"/content/drive/My Drive/genAI project/model-1m-{lang}-{datetime.now().isoformat()}\")\n",
        "torch.save(np.array(losses), f\"/content/drive/My Drive/genAI project/losses_tensor-1m-{lang}-{datetime.now().isoformat()}.pt\")"
      ]
    }
  ],
  "metadata": {
    "accelerator": "GPU",
    "colab": {
      "gpuType": "A100",
      "machine_shape": "hm",
      "provenance": [],
      "collapsed_sections": [
        "jnoU991rQr_w",
        "SuUxK5MeQjcf"
      ],
      "include_colab_link": true
    },
    "kernelspec": {
      "display_name": "Python 3",
      "name": "python3"
    },
    "language_info": {
      "name": "python"
    },
    "widgets": {
      "application/vnd.jupyter.widget-state+json": {
        "081784df13a045cc951307ba5374a6c1": {
          "model_module": "@jupyter-widgets/controls",
          "model_module_version": "1.5.0",
          "model_name": "DescriptionStyleModel",
          "state": {
            "_model_module": "@jupyter-widgets/controls",
            "_model_module_version": "1.5.0",
            "_model_name": "DescriptionStyleModel",
            "_view_count": null,
            "_view_module": "@jupyter-widgets/base",
            "_view_module_version": "1.2.0",
            "_view_name": "StyleView",
            "description_width": ""
          }
        },
        "0ce82209b4a042be88945048f9b8f8ea": {
          "model_module": "@jupyter-widgets/controls",
          "model_module_version": "1.5.0",
          "model_name": "DescriptionStyleModel",
          "state": {
            "_model_module": "@jupyter-widgets/controls",
            "_model_module_version": "1.5.0",
            "_model_name": "DescriptionStyleModel",
            "_view_count": null,
            "_view_module": "@jupyter-widgets/base",
            "_view_module_version": "1.2.0",
            "_view_name": "StyleView",
            "description_width": ""
          }
        },
        "1aebf6f42aab46e69cd137075766c4b8": {
          "model_module": "@jupyter-widgets/base",
          "model_module_version": "1.2.0",
          "model_name": "LayoutModel",
          "state": {
            "_model_module": "@jupyter-widgets/base",
            "_model_module_version": "1.2.0",
            "_model_name": "LayoutModel",
            "_view_count": null,
            "_view_module": "@jupyter-widgets/base",
            "_view_module_version": "1.2.0",
            "_view_name": "LayoutView",
            "align_content": null,
            "align_items": null,
            "align_self": null,
            "border": null,
            "bottom": null,
            "display": null,
            "flex": null,
            "flex_flow": null,
            "grid_area": null,
            "grid_auto_columns": null,
            "grid_auto_flow": null,
            "grid_auto_rows": null,
            "grid_column": null,
            "grid_gap": null,
            "grid_row": null,
            "grid_template_areas": null,
            "grid_template_columns": null,
            "grid_template_rows": null,
            "height": null,
            "justify_content": null,
            "justify_items": null,
            "left": null,
            "margin": null,
            "max_height": null,
            "max_width": null,
            "min_height": null,
            "min_width": null,
            "object_fit": null,
            "object_position": null,
            "order": null,
            "overflow": null,
            "overflow_x": null,
            "overflow_y": null,
            "padding": null,
            "right": null,
            "top": null,
            "visibility": null,
            "width": null
          }
        },
        "1d0896bfd9b14617ab6f6eb53c57f4ce": {
          "model_module": "@jupyter-widgets/controls",
          "model_module_version": "1.5.0",
          "model_name": "HBoxModel",
          "state": {
            "_dom_classes": [],
            "_model_module": "@jupyter-widgets/controls",
            "_model_module_version": "1.5.0",
            "_model_name": "HBoxModel",
            "_view_count": null,
            "_view_module": "@jupyter-widgets/controls",
            "_view_module_version": "1.5.0",
            "_view_name": "HBoxView",
            "box_style": "",
            "children": [
              "IPY_MODEL_c5c604bb5b4e492a9e52a854691128ff",
              "IPY_MODEL_e8a67183932b440784cb9d9ae25cdb06",
              "IPY_MODEL_c64e84272d774887baaacd9699d53d74"
            ],
            "layout": "IPY_MODEL_dde84f1784524c579af974118740094d"
          }
        },
        "1d0c887a390642a094abb9c2cffeac8d": {
          "model_module": "@jupyter-widgets/controls",
          "model_module_version": "1.5.0",
          "model_name": "ProgressStyleModel",
          "state": {
            "_model_module": "@jupyter-widgets/controls",
            "_model_module_version": "1.5.0",
            "_model_name": "ProgressStyleModel",
            "_view_count": null,
            "_view_module": "@jupyter-widgets/base",
            "_view_module_version": "1.2.0",
            "_view_name": "StyleView",
            "bar_color": null,
            "description_width": ""
          }
        },
        "2455e19ca26047a1ad488bf359c566e5": {
          "model_module": "@jupyter-widgets/base",
          "model_module_version": "1.2.0",
          "model_name": "LayoutModel",
          "state": {
            "_model_module": "@jupyter-widgets/base",
            "_model_module_version": "1.2.0",
            "_model_name": "LayoutModel",
            "_view_count": null,
            "_view_module": "@jupyter-widgets/base",
            "_view_module_version": "1.2.0",
            "_view_name": "LayoutView",
            "align_content": null,
            "align_items": null,
            "align_self": null,
            "border": null,
            "bottom": null,
            "display": null,
            "flex": null,
            "flex_flow": null,
            "grid_area": null,
            "grid_auto_columns": null,
            "grid_auto_flow": null,
            "grid_auto_rows": null,
            "grid_column": null,
            "grid_gap": null,
            "grid_row": null,
            "grid_template_areas": null,
            "grid_template_columns": null,
            "grid_template_rows": null,
            "height": null,
            "justify_content": null,
            "justify_items": null,
            "left": null,
            "margin": null,
            "max_height": null,
            "max_width": null,
            "min_height": null,
            "min_width": null,
            "object_fit": null,
            "object_position": null,
            "order": null,
            "overflow": null,
            "overflow_x": null,
            "overflow_y": null,
            "padding": null,
            "right": null,
            "top": null,
            "visibility": null,
            "width": null
          }
        },
        "2c372104ede1455d8fcf22af41cfe8b8": {
          "model_module": "@jupyter-widgets/base",
          "model_module_version": "1.2.0",
          "model_name": "LayoutModel",
          "state": {
            "_model_module": "@jupyter-widgets/base",
            "_model_module_version": "1.2.0",
            "_model_name": "LayoutModel",
            "_view_count": null,
            "_view_module": "@jupyter-widgets/base",
            "_view_module_version": "1.2.0",
            "_view_name": "LayoutView",
            "align_content": null,
            "align_items": null,
            "align_self": null,
            "border": null,
            "bottom": null,
            "display": null,
            "flex": null,
            "flex_flow": null,
            "grid_area": null,
            "grid_auto_columns": null,
            "grid_auto_flow": null,
            "grid_auto_rows": null,
            "grid_column": null,
            "grid_gap": null,
            "grid_row": null,
            "grid_template_areas": null,
            "grid_template_columns": null,
            "grid_template_rows": null,
            "height": null,
            "justify_content": null,
            "justify_items": null,
            "left": null,
            "margin": null,
            "max_height": null,
            "max_width": null,
            "min_height": null,
            "min_width": null,
            "object_fit": null,
            "object_position": null,
            "order": null,
            "overflow": null,
            "overflow_x": null,
            "overflow_y": null,
            "padding": null,
            "right": null,
            "top": null,
            "visibility": null,
            "width": null
          }
        },
        "2dae46ca62d344db899f0dade6bfe57e": {
          "model_module": "@jupyter-widgets/controls",
          "model_module_version": "1.5.0",
          "model_name": "HTMLModel",
          "state": {
            "_dom_classes": [],
            "_model_module": "@jupyter-widgets/controls",
            "_model_module_version": "1.5.0",
            "_model_name": "HTMLModel",
            "_view_count": null,
            "_view_module": "@jupyter-widgets/controls",
            "_view_module_version": "1.5.0",
            "_view_name": "HTMLView",
            "description": "",
            "description_tooltip": null,
            "layout": "IPY_MODEL_bb8fb68bdb7b480e81065c19bfb69729",
            "placeholder": "​",
            "style": "IPY_MODEL_d48ac216d4974f31bd8f46887ff3c504",
            "value": "Loading dataset from disk: 100%"
          }
        },
        "3653400acf684011b710ad2df44e9fa0": {
          "model_module": "@jupyter-widgets/controls",
          "model_module_version": "1.5.0",
          "model_name": "FloatProgressModel",
          "state": {
            "_dom_classes": [],
            "_model_module": "@jupyter-widgets/controls",
            "_model_module_version": "1.5.0",
            "_model_name": "FloatProgressModel",
            "_view_count": null,
            "_view_module": "@jupyter-widgets/controls",
            "_view_module_version": "1.5.0",
            "_view_name": "ProgressView",
            "bar_style": "success",
            "description": "",
            "description_tooltip": null,
            "layout": "IPY_MODEL_9d9b9d0a25b64a0598630a204e8bb07f",
            "max": 35,
            "min": 0,
            "orientation": "horizontal",
            "style": "IPY_MODEL_9305ee1f989d4a0694bf05f46a016308",
            "value": 35
          }
        },
        "52bea428f8154d0287fd6af5edea3bd0": {
          "model_module": "@jupyter-widgets/controls",
          "model_module_version": "1.5.0",
          "model_name": "HBoxModel",
          "state": {
            "_dom_classes": [],
            "_model_module": "@jupyter-widgets/controls",
            "_model_module_version": "1.5.0",
            "_model_name": "HBoxModel",
            "_view_count": null,
            "_view_module": "@jupyter-widgets/controls",
            "_view_module_version": "1.5.0",
            "_view_name": "HBoxView",
            "box_style": "",
            "children": [
              "IPY_MODEL_8449a09dfb4041d4a253399decfcf9f2",
              "IPY_MODEL_5a3eafd178e148fc928229b4d604530b",
              "IPY_MODEL_e7a28ea1d03e436299e09af10df81bea"
            ],
            "layout": "IPY_MODEL_c6bca594d9e14085a851a9375b8e5070"
          }
        },
        "5a3eafd178e148fc928229b4d604530b": {
          "model_module": "@jupyter-widgets/controls",
          "model_module_version": "1.5.0",
          "model_name": "FloatProgressModel",
          "state": {
            "_dom_classes": [],
            "_model_module": "@jupyter-widgets/controls",
            "_model_module_version": "1.5.0",
            "_model_name": "FloatProgressModel",
            "_view_count": null,
            "_view_module": "@jupyter-widgets/controls",
            "_view_module_version": "1.5.0",
            "_view_name": "ProgressView",
            "bar_style": "success",
            "description": "",
            "description_tooltip": null,
            "layout": "IPY_MODEL_e95ce12fb1b94e7e84209b0e1bf60271",
            "max": 35,
            "min": 0,
            "orientation": "horizontal",
            "style": "IPY_MODEL_5bd9f1a0fcaa456f8ccd02263b423404",
            "value": 35
          }
        },
        "5bd9f1a0fcaa456f8ccd02263b423404": {
          "model_module": "@jupyter-widgets/controls",
          "model_module_version": "1.5.0",
          "model_name": "ProgressStyleModel",
          "state": {
            "_model_module": "@jupyter-widgets/controls",
            "_model_module_version": "1.5.0",
            "_model_name": "ProgressStyleModel",
            "_view_count": null,
            "_view_module": "@jupyter-widgets/base",
            "_view_module_version": "1.2.0",
            "_view_name": "StyleView",
            "bar_color": null,
            "description_width": ""
          }
        },
        "60fd49c347a545b8b47c5469384308e0": {
          "model_module": "@jupyter-widgets/base",
          "model_module_version": "1.2.0",
          "model_name": "LayoutModel",
          "state": {
            "_model_module": "@jupyter-widgets/base",
            "_model_module_version": "1.2.0",
            "_model_name": "LayoutModel",
            "_view_count": null,
            "_view_module": "@jupyter-widgets/base",
            "_view_module_version": "1.2.0",
            "_view_name": "LayoutView",
            "align_content": null,
            "align_items": null,
            "align_self": null,
            "border": null,
            "bottom": null,
            "display": null,
            "flex": null,
            "flex_flow": null,
            "grid_area": null,
            "grid_auto_columns": null,
            "grid_auto_flow": null,
            "grid_auto_rows": null,
            "grid_column": null,
            "grid_gap": null,
            "grid_row": null,
            "grid_template_areas": null,
            "grid_template_columns": null,
            "grid_template_rows": null,
            "height": null,
            "justify_content": null,
            "justify_items": null,
            "left": null,
            "margin": null,
            "max_height": null,
            "max_width": null,
            "min_height": null,
            "min_width": null,
            "object_fit": null,
            "object_position": null,
            "order": null,
            "overflow": null,
            "overflow_x": null,
            "overflow_y": null,
            "padding": null,
            "right": null,
            "top": null,
            "visibility": null,
            "width": null
          }
        },
        "64067e790dd5494d835551669b523ffd": {
          "model_module": "@jupyter-widgets/controls",
          "model_module_version": "1.5.0",
          "model_name": "DescriptionStyleModel",
          "state": {
            "_model_module": "@jupyter-widgets/controls",
            "_model_module_version": "1.5.0",
            "_model_name": "DescriptionStyleModel",
            "_view_count": null,
            "_view_module": "@jupyter-widgets/base",
            "_view_module_version": "1.2.0",
            "_view_name": "StyleView",
            "description_width": ""
          }
        },
        "707ba09d14dc4047bc4a604be16ec7d3": {
          "model_module": "@jupyter-widgets/base",
          "model_module_version": "1.2.0",
          "model_name": "LayoutModel",
          "state": {
            "_model_module": "@jupyter-widgets/base",
            "_model_module_version": "1.2.0",
            "_model_name": "LayoutModel",
            "_view_count": null,
            "_view_module": "@jupyter-widgets/base",
            "_view_module_version": "1.2.0",
            "_view_name": "LayoutView",
            "align_content": null,
            "align_items": null,
            "align_self": null,
            "border": null,
            "bottom": null,
            "display": null,
            "flex": null,
            "flex_flow": null,
            "grid_area": null,
            "grid_auto_columns": null,
            "grid_auto_flow": null,
            "grid_auto_rows": null,
            "grid_column": null,
            "grid_gap": null,
            "grid_row": null,
            "grid_template_areas": null,
            "grid_template_columns": null,
            "grid_template_rows": null,
            "height": null,
            "justify_content": null,
            "justify_items": null,
            "left": null,
            "margin": null,
            "max_height": null,
            "max_width": null,
            "min_height": null,
            "min_width": null,
            "object_fit": null,
            "object_position": null,
            "order": null,
            "overflow": null,
            "overflow_x": null,
            "overflow_y": null,
            "padding": null,
            "right": null,
            "top": null,
            "visibility": null,
            "width": null
          }
        },
        "771520422cdc4d588a7673c93f776779": {
          "model_module": "@jupyter-widgets/controls",
          "model_module_version": "1.5.0",
          "model_name": "HTMLModel",
          "state": {
            "_dom_classes": [],
            "_model_module": "@jupyter-widgets/controls",
            "_model_module_version": "1.5.0",
            "_model_name": "HTMLModel",
            "_view_count": null,
            "_view_module": "@jupyter-widgets/controls",
            "_view_module_version": "1.5.0",
            "_view_name": "HTMLView",
            "description": "",
            "description_tooltip": null,
            "layout": "IPY_MODEL_8a33fff8878541dfbc514bebbaa76f54",
            "placeholder": "​",
            "style": "IPY_MODEL_c11405de568d40ea9a2deb254c1fa804",
            "value": " 35/35 [01:25&lt;00:00,  3.12s/it]"
          }
        },
        "8449a09dfb4041d4a253399decfcf9f2": {
          "model_module": "@jupyter-widgets/controls",
          "model_module_version": "1.5.0",
          "model_name": "HTMLModel",
          "state": {
            "_dom_classes": [],
            "_model_module": "@jupyter-widgets/controls",
            "_model_module_version": "1.5.0",
            "_model_name": "HTMLModel",
            "_view_count": null,
            "_view_module": "@jupyter-widgets/controls",
            "_view_module_version": "1.5.0",
            "_view_name": "HTMLView",
            "description": "",
            "description_tooltip": null,
            "layout": "IPY_MODEL_707ba09d14dc4047bc4a604be16ec7d3",
            "placeholder": "​",
            "style": "IPY_MODEL_64067e790dd5494d835551669b523ffd",
            "value": "Loading dataset from disk: 100%"
          }
        },
        "8a33fff8878541dfbc514bebbaa76f54": {
          "model_module": "@jupyter-widgets/base",
          "model_module_version": "1.2.0",
          "model_name": "LayoutModel",
          "state": {
            "_model_module": "@jupyter-widgets/base",
            "_model_module_version": "1.2.0",
            "_model_name": "LayoutModel",
            "_view_count": null,
            "_view_module": "@jupyter-widgets/base",
            "_view_module_version": "1.2.0",
            "_view_name": "LayoutView",
            "align_content": null,
            "align_items": null,
            "align_self": null,
            "border": null,
            "bottom": null,
            "display": null,
            "flex": null,
            "flex_flow": null,
            "grid_area": null,
            "grid_auto_columns": null,
            "grid_auto_flow": null,
            "grid_auto_rows": null,
            "grid_column": null,
            "grid_gap": null,
            "grid_row": null,
            "grid_template_areas": null,
            "grid_template_columns": null,
            "grid_template_rows": null,
            "height": null,
            "justify_content": null,
            "justify_items": null,
            "left": null,
            "margin": null,
            "max_height": null,
            "max_width": null,
            "min_height": null,
            "min_width": null,
            "object_fit": null,
            "object_position": null,
            "order": null,
            "overflow": null,
            "overflow_x": null,
            "overflow_y": null,
            "padding": null,
            "right": null,
            "top": null,
            "visibility": null,
            "width": null
          }
        },
        "9305ee1f989d4a0694bf05f46a016308": {
          "model_module": "@jupyter-widgets/controls",
          "model_module_version": "1.5.0",
          "model_name": "ProgressStyleModel",
          "state": {
            "_model_module": "@jupyter-widgets/controls",
            "_model_module_version": "1.5.0",
            "_model_name": "ProgressStyleModel",
            "_view_count": null,
            "_view_module": "@jupyter-widgets/base",
            "_view_module_version": "1.2.0",
            "_view_name": "StyleView",
            "bar_color": null,
            "description_width": ""
          }
        },
        "9d9b9d0a25b64a0598630a204e8bb07f": {
          "model_module": "@jupyter-widgets/base",
          "model_module_version": "1.2.0",
          "model_name": "LayoutModel",
          "state": {
            "_model_module": "@jupyter-widgets/base",
            "_model_module_version": "1.2.0",
            "_model_name": "LayoutModel",
            "_view_count": null,
            "_view_module": "@jupyter-widgets/base",
            "_view_module_version": "1.2.0",
            "_view_name": "LayoutView",
            "align_content": null,
            "align_items": null,
            "align_self": null,
            "border": null,
            "bottom": null,
            "display": null,
            "flex": null,
            "flex_flow": null,
            "grid_area": null,
            "grid_auto_columns": null,
            "grid_auto_flow": null,
            "grid_auto_rows": null,
            "grid_column": null,
            "grid_gap": null,
            "grid_row": null,
            "grid_template_areas": null,
            "grid_template_columns": null,
            "grid_template_rows": null,
            "height": null,
            "justify_content": null,
            "justify_items": null,
            "left": null,
            "margin": null,
            "max_height": null,
            "max_width": null,
            "min_height": null,
            "min_width": null,
            "object_fit": null,
            "object_position": null,
            "order": null,
            "overflow": null,
            "overflow_x": null,
            "overflow_y": null,
            "padding": null,
            "right": null,
            "top": null,
            "visibility": null,
            "width": null
          }
        },
        "a2893a8914624149876885fe2540cc7e": {
          "model_module": "@jupyter-widgets/controls",
          "model_module_version": "1.5.0",
          "model_name": "DescriptionStyleModel",
          "state": {
            "_model_module": "@jupyter-widgets/controls",
            "_model_module_version": "1.5.0",
            "_model_name": "DescriptionStyleModel",
            "_view_count": null,
            "_view_module": "@jupyter-widgets/base",
            "_view_module_version": "1.2.0",
            "_view_name": "StyleView",
            "description_width": ""
          }
        },
        "bb8fb68bdb7b480e81065c19bfb69729": {
          "model_module": "@jupyter-widgets/base",
          "model_module_version": "1.2.0",
          "model_name": "LayoutModel",
          "state": {
            "_model_module": "@jupyter-widgets/base",
            "_model_module_version": "1.2.0",
            "_model_name": "LayoutModel",
            "_view_count": null,
            "_view_module": "@jupyter-widgets/base",
            "_view_module_version": "1.2.0",
            "_view_name": "LayoutView",
            "align_content": null,
            "align_items": null,
            "align_self": null,
            "border": null,
            "bottom": null,
            "display": null,
            "flex": null,
            "flex_flow": null,
            "grid_area": null,
            "grid_auto_columns": null,
            "grid_auto_flow": null,
            "grid_auto_rows": null,
            "grid_column": null,
            "grid_gap": null,
            "grid_row": null,
            "grid_template_areas": null,
            "grid_template_columns": null,
            "grid_template_rows": null,
            "height": null,
            "justify_content": null,
            "justify_items": null,
            "left": null,
            "margin": null,
            "max_height": null,
            "max_width": null,
            "min_height": null,
            "min_width": null,
            "object_fit": null,
            "object_position": null,
            "order": null,
            "overflow": null,
            "overflow_x": null,
            "overflow_y": null,
            "padding": null,
            "right": null,
            "top": null,
            "visibility": null,
            "width": null
          }
        },
        "c11405de568d40ea9a2deb254c1fa804": {
          "model_module": "@jupyter-widgets/controls",
          "model_module_version": "1.5.0",
          "model_name": "DescriptionStyleModel",
          "state": {
            "_model_module": "@jupyter-widgets/controls",
            "_model_module_version": "1.5.0",
            "_model_name": "DescriptionStyleModel",
            "_view_count": null,
            "_view_module": "@jupyter-widgets/base",
            "_view_module_version": "1.2.0",
            "_view_name": "StyleView",
            "description_width": ""
          }
        },
        "c5c604bb5b4e492a9e52a854691128ff": {
          "model_module": "@jupyter-widgets/controls",
          "model_module_version": "1.5.0",
          "model_name": "HTMLModel",
          "state": {
            "_dom_classes": [],
            "_model_module": "@jupyter-widgets/controls",
            "_model_module_version": "1.5.0",
            "_model_name": "HTMLModel",
            "_view_count": null,
            "_view_module": "@jupyter-widgets/controls",
            "_view_module_version": "1.5.0",
            "_view_name": "HTMLView",
            "description": "",
            "description_tooltip": null,
            "layout": "IPY_MODEL_60fd49c347a545b8b47c5469384308e0",
            "placeholder": "​",
            "style": "IPY_MODEL_a2893a8914624149876885fe2540cc7e",
            "value": " 76%"
          }
        },
        "c64e84272d774887baaacd9699d53d74": {
          "model_module": "@jupyter-widgets/controls",
          "model_module_version": "1.5.0",
          "model_name": "HTMLModel",
          "state": {
            "_dom_classes": [],
            "_model_module": "@jupyter-widgets/controls",
            "_model_module_version": "1.5.0",
            "_model_name": "HTMLModel",
            "_view_count": null,
            "_view_module": "@jupyter-widgets/controls",
            "_view_module_version": "1.5.0",
            "_view_name": "HTMLView",
            "description": "",
            "description_tooltip": null,
            "layout": "IPY_MODEL_1aebf6f42aab46e69cd137075766c4b8",
            "placeholder": "​",
            "style": "IPY_MODEL_081784df13a045cc951307ba5374a6c1",
            "value": " 80185/105677 [8:11:58&lt;2:35:50,  2.73it/s]"
          }
        },
        "c6bca594d9e14085a851a9375b8e5070": {
          "model_module": "@jupyter-widgets/base",
          "model_module_version": "1.2.0",
          "model_name": "LayoutModel",
          "state": {
            "_model_module": "@jupyter-widgets/base",
            "_model_module_version": "1.2.0",
            "_model_name": "LayoutModel",
            "_view_count": null,
            "_view_module": "@jupyter-widgets/base",
            "_view_module_version": "1.2.0",
            "_view_name": "LayoutView",
            "align_content": null,
            "align_items": null,
            "align_self": null,
            "border": null,
            "bottom": null,
            "display": null,
            "flex": null,
            "flex_flow": null,
            "grid_area": null,
            "grid_auto_columns": null,
            "grid_auto_flow": null,
            "grid_auto_rows": null,
            "grid_column": null,
            "grid_gap": null,
            "grid_row": null,
            "grid_template_areas": null,
            "grid_template_columns": null,
            "grid_template_rows": null,
            "height": null,
            "justify_content": null,
            "justify_items": null,
            "left": null,
            "margin": null,
            "max_height": null,
            "max_width": null,
            "min_height": null,
            "min_width": null,
            "object_fit": null,
            "object_position": null,
            "order": null,
            "overflow": null,
            "overflow_x": null,
            "overflow_y": null,
            "padding": null,
            "right": null,
            "top": null,
            "visibility": null,
            "width": null
          }
        },
        "cee386b9df8443c0b4bc7cce5f675565": {
          "model_module": "@jupyter-widgets/base",
          "model_module_version": "1.2.0",
          "model_name": "LayoutModel",
          "state": {
            "_model_module": "@jupyter-widgets/base",
            "_model_module_version": "1.2.0",
            "_model_name": "LayoutModel",
            "_view_count": null,
            "_view_module": "@jupyter-widgets/base",
            "_view_module_version": "1.2.0",
            "_view_name": "LayoutView",
            "align_content": null,
            "align_items": null,
            "align_self": null,
            "border": null,
            "bottom": null,
            "display": null,
            "flex": null,
            "flex_flow": null,
            "grid_area": null,
            "grid_auto_columns": null,
            "grid_auto_flow": null,
            "grid_auto_rows": null,
            "grid_column": null,
            "grid_gap": null,
            "grid_row": null,
            "grid_template_areas": null,
            "grid_template_columns": null,
            "grid_template_rows": null,
            "height": null,
            "justify_content": null,
            "justify_items": null,
            "left": null,
            "margin": null,
            "max_height": null,
            "max_width": null,
            "min_height": null,
            "min_width": null,
            "object_fit": null,
            "object_position": null,
            "order": null,
            "overflow": null,
            "overflow_x": null,
            "overflow_y": null,
            "padding": null,
            "right": null,
            "top": null,
            "visibility": null,
            "width": null
          }
        },
        "d48ac216d4974f31bd8f46887ff3c504": {
          "model_module": "@jupyter-widgets/controls",
          "model_module_version": "1.5.0",
          "model_name": "DescriptionStyleModel",
          "state": {
            "_model_module": "@jupyter-widgets/controls",
            "_model_module_version": "1.5.0",
            "_model_name": "DescriptionStyleModel",
            "_view_count": null,
            "_view_module": "@jupyter-widgets/base",
            "_view_module_version": "1.2.0",
            "_view_name": "StyleView",
            "description_width": ""
          }
        },
        "dde84f1784524c579af974118740094d": {
          "model_module": "@jupyter-widgets/base",
          "model_module_version": "1.2.0",
          "model_name": "LayoutModel",
          "state": {
            "_model_module": "@jupyter-widgets/base",
            "_model_module_version": "1.2.0",
            "_model_name": "LayoutModel",
            "_view_count": null,
            "_view_module": "@jupyter-widgets/base",
            "_view_module_version": "1.2.0",
            "_view_name": "LayoutView",
            "align_content": null,
            "align_items": null,
            "align_self": null,
            "border": null,
            "bottom": null,
            "display": null,
            "flex": null,
            "flex_flow": null,
            "grid_area": null,
            "grid_auto_columns": null,
            "grid_auto_flow": null,
            "grid_auto_rows": null,
            "grid_column": null,
            "grid_gap": null,
            "grid_row": null,
            "grid_template_areas": null,
            "grid_template_columns": null,
            "grid_template_rows": null,
            "height": null,
            "justify_content": null,
            "justify_items": null,
            "left": null,
            "margin": null,
            "max_height": null,
            "max_width": null,
            "min_height": null,
            "min_width": null,
            "object_fit": null,
            "object_position": null,
            "order": null,
            "overflow": null,
            "overflow_x": null,
            "overflow_y": null,
            "padding": null,
            "right": null,
            "top": null,
            "visibility": null,
            "width": null
          }
        },
        "e7a28ea1d03e436299e09af10df81bea": {
          "model_module": "@jupyter-widgets/controls",
          "model_module_version": "1.5.0",
          "model_name": "HTMLModel",
          "state": {
            "_dom_classes": [],
            "_model_module": "@jupyter-widgets/controls",
            "_model_module_version": "1.5.0",
            "_model_name": "HTMLModel",
            "_view_count": null,
            "_view_module": "@jupyter-widgets/controls",
            "_view_module_version": "1.5.0",
            "_view_name": "HTMLView",
            "description": "",
            "description_tooltip": null,
            "layout": "IPY_MODEL_cee386b9df8443c0b4bc7cce5f675565",
            "placeholder": "​",
            "style": "IPY_MODEL_0ce82209b4a042be88945048f9b8f8ea",
            "value": " 35/35 [00:00&lt;00:00, 42.54it/s]"
          }
        },
        "e8a67183932b440784cb9d9ae25cdb06": {
          "model_module": "@jupyter-widgets/controls",
          "model_module_version": "1.5.0",
          "model_name": "FloatProgressModel",
          "state": {
            "_dom_classes": [],
            "_model_module": "@jupyter-widgets/controls",
            "_model_module_version": "1.5.0",
            "_model_name": "FloatProgressModel",
            "_view_count": null,
            "_view_module": "@jupyter-widgets/controls",
            "_view_module_version": "1.5.0",
            "_view_name": "ProgressView",
            "bar_style": "",
            "description": "",
            "description_tooltip": null,
            "layout": "IPY_MODEL_2c372104ede1455d8fcf22af41cfe8b8",
            "max": 105677,
            "min": 0,
            "orientation": "horizontal",
            "style": "IPY_MODEL_1d0c887a390642a094abb9c2cffeac8d",
            "value": 80185
          }
        },
        "e95ce12fb1b94e7e84209b0e1bf60271": {
          "model_module": "@jupyter-widgets/base",
          "model_module_version": "1.2.0",
          "model_name": "LayoutModel",
          "state": {
            "_model_module": "@jupyter-widgets/base",
            "_model_module_version": "1.2.0",
            "_model_name": "LayoutModel",
            "_view_count": null,
            "_view_module": "@jupyter-widgets/base",
            "_view_module_version": "1.2.0",
            "_view_name": "LayoutView",
            "align_content": null,
            "align_items": null,
            "align_self": null,
            "border": null,
            "bottom": null,
            "display": null,
            "flex": null,
            "flex_flow": null,
            "grid_area": null,
            "grid_auto_columns": null,
            "grid_auto_flow": null,
            "grid_auto_rows": null,
            "grid_column": null,
            "grid_gap": null,
            "grid_row": null,
            "grid_template_areas": null,
            "grid_template_columns": null,
            "grid_template_rows": null,
            "height": null,
            "justify_content": null,
            "justify_items": null,
            "left": null,
            "margin": null,
            "max_height": null,
            "max_width": null,
            "min_height": null,
            "min_width": null,
            "object_fit": null,
            "object_position": null,
            "order": null,
            "overflow": null,
            "overflow_x": null,
            "overflow_y": null,
            "padding": null,
            "right": null,
            "top": null,
            "visibility": null,
            "width": null
          }
        },
        "f43c77e915ee4629a51b84be1f7c7a4f": {
          "model_module": "@jupyter-widgets/controls",
          "model_module_version": "1.5.0",
          "model_name": "HBoxModel",
          "state": {
            "_dom_classes": [],
            "_model_module": "@jupyter-widgets/controls",
            "_model_module_version": "1.5.0",
            "_model_name": "HBoxModel",
            "_view_count": null,
            "_view_module": "@jupyter-widgets/controls",
            "_view_module_version": "1.5.0",
            "_view_name": "HBoxView",
            "box_style": "",
            "children": [
              "IPY_MODEL_2dae46ca62d344db899f0dade6bfe57e",
              "IPY_MODEL_3653400acf684011b710ad2df44e9fa0",
              "IPY_MODEL_771520422cdc4d588a7673c93f776779"
            ],
            "layout": "IPY_MODEL_2455e19ca26047a1ad488bf359c566e5"
          }
        }
      }
    }
  },
  "nbformat": 4,
  "nbformat_minor": 0
}