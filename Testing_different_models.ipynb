{
  "nbformat": 4,
  "nbformat_minor": 0,
  "metadata": {
    "colab": {
      "provenance": [],
      "mount_file_id": "1exvCcF0P25iDbgZ7XyvfCgJSS6SfVyY6",
      "authorship_tag": "ABX9TyNE/jQUXT2TBoxBQnfVJ/yj",
      "include_colab_link": true
    },
    "kernelspec": {
      "name": "python3",
      "display_name": "Python 3"
    },
    "language_info": {
      "name": "python"
    },
    "widgets": {
      "application/vnd.jupyter.widget-state+json": {
        "aaa73ad47c5f441eb104a5016f27213d": {
          "model_module": "@jupyter-widgets/controls",
          "model_name": "HBoxModel",
          "model_module_version": "1.5.0",
          "state": {
            "_dom_classes": [],
            "_model_module": "@jupyter-widgets/controls",
            "_model_module_version": "1.5.0",
            "_model_name": "HBoxModel",
            "_view_count": null,
            "_view_module": "@jupyter-widgets/controls",
            "_view_module_version": "1.5.0",
            "_view_name": "HBoxView",
            "box_style": "",
            "children": [
              "IPY_MODEL_c2f842fb293f4a8da67ca87bae2a61c9",
              "IPY_MODEL_283e5a48ae6441d0842eb9fcebfbaf18",
              "IPY_MODEL_c7f19b79b943478aa7a89c4ccdd43367"
            ],
            "layout": "IPY_MODEL_dd00e5508eb34ba8a34c2209e2e57fc8"
          }
        },
        "c2f842fb293f4a8da67ca87bae2a61c9": {
          "model_module": "@jupyter-widgets/controls",
          "model_name": "HTMLModel",
          "model_module_version": "1.5.0",
          "state": {
            "_dom_classes": [],
            "_model_module": "@jupyter-widgets/controls",
            "_model_module_version": "1.5.0",
            "_model_name": "HTMLModel",
            "_view_count": null,
            "_view_module": "@jupyter-widgets/controls",
            "_view_module_version": "1.5.0",
            "_view_name": "HTMLView",
            "description": "",
            "description_tooltip": null,
            "layout": "IPY_MODEL_d5d7975a4eb04adaa6139008a0d10a74",
            "placeholder": "​",
            "style": "IPY_MODEL_f40ec6c316ce47438ad7fd1ba14e9e65",
            "value": "config.json: 100%"
          }
        },
        "283e5a48ae6441d0842eb9fcebfbaf18": {
          "model_module": "@jupyter-widgets/controls",
          "model_name": "FloatProgressModel",
          "model_module_version": "1.5.0",
          "state": {
            "_dom_classes": [],
            "_model_module": "@jupyter-widgets/controls",
            "_model_module_version": "1.5.0",
            "_model_name": "FloatProgressModel",
            "_view_count": null,
            "_view_module": "@jupyter-widgets/controls",
            "_view_module_version": "1.5.0",
            "_view_name": "ProgressView",
            "bar_style": "success",
            "description": "",
            "description_tooltip": null,
            "layout": "IPY_MODEL_1a968755205e4125b398ba15cf515bd5",
            "max": 1022,
            "min": 0,
            "orientation": "horizontal",
            "style": "IPY_MODEL_e45e685e0acd432e9d024d32dbdad85f",
            "value": 1022
          }
        },
        "c7f19b79b943478aa7a89c4ccdd43367": {
          "model_module": "@jupyter-widgets/controls",
          "model_name": "HTMLModel",
          "model_module_version": "1.5.0",
          "state": {
            "_dom_classes": [],
            "_model_module": "@jupyter-widgets/controls",
            "_model_module_version": "1.5.0",
            "_model_name": "HTMLModel",
            "_view_count": null,
            "_view_module": "@jupyter-widgets/controls",
            "_view_module_version": "1.5.0",
            "_view_name": "HTMLView",
            "description": "",
            "description_tooltip": null,
            "layout": "IPY_MODEL_94f64b7ea6e14259b3c311a260ca4c78",
            "placeholder": "​",
            "style": "IPY_MODEL_8ac57fa6e210486bad35699b22db4507",
            "value": " 1.02k/1.02k [00:00&lt;00:00, 22.0kB/s]"
          }
        },
        "dd00e5508eb34ba8a34c2209e2e57fc8": {
          "model_module": "@jupyter-widgets/base",
          "model_name": "LayoutModel",
          "model_module_version": "1.2.0",
          "state": {
            "_model_module": "@jupyter-widgets/base",
            "_model_module_version": "1.2.0",
            "_model_name": "LayoutModel",
            "_view_count": null,
            "_view_module": "@jupyter-widgets/base",
            "_view_module_version": "1.2.0",
            "_view_name": "LayoutView",
            "align_content": null,
            "align_items": null,
            "align_self": null,
            "border": null,
            "bottom": null,
            "display": null,
            "flex": null,
            "flex_flow": null,
            "grid_area": null,
            "grid_auto_columns": null,
            "grid_auto_flow": null,
            "grid_auto_rows": null,
            "grid_column": null,
            "grid_gap": null,
            "grid_row": null,
            "grid_template_areas": null,
            "grid_template_columns": null,
            "grid_template_rows": null,
            "height": null,
            "justify_content": null,
            "justify_items": null,
            "left": null,
            "margin": null,
            "max_height": null,
            "max_width": null,
            "min_height": null,
            "min_width": null,
            "object_fit": null,
            "object_position": null,
            "order": null,
            "overflow": null,
            "overflow_x": null,
            "overflow_y": null,
            "padding": null,
            "right": null,
            "top": null,
            "visibility": null,
            "width": null
          }
        },
        "d5d7975a4eb04adaa6139008a0d10a74": {
          "model_module": "@jupyter-widgets/base",
          "model_name": "LayoutModel",
          "model_module_version": "1.2.0",
          "state": {
            "_model_module": "@jupyter-widgets/base",
            "_model_module_version": "1.2.0",
            "_model_name": "LayoutModel",
            "_view_count": null,
            "_view_module": "@jupyter-widgets/base",
            "_view_module_version": "1.2.0",
            "_view_name": "LayoutView",
            "align_content": null,
            "align_items": null,
            "align_self": null,
            "border": null,
            "bottom": null,
            "display": null,
            "flex": null,
            "flex_flow": null,
            "grid_area": null,
            "grid_auto_columns": null,
            "grid_auto_flow": null,
            "grid_auto_rows": null,
            "grid_column": null,
            "grid_gap": null,
            "grid_row": null,
            "grid_template_areas": null,
            "grid_template_columns": null,
            "grid_template_rows": null,
            "height": null,
            "justify_content": null,
            "justify_items": null,
            "left": null,
            "margin": null,
            "max_height": null,
            "max_width": null,
            "min_height": null,
            "min_width": null,
            "object_fit": null,
            "object_position": null,
            "order": null,
            "overflow": null,
            "overflow_x": null,
            "overflow_y": null,
            "padding": null,
            "right": null,
            "top": null,
            "visibility": null,
            "width": null
          }
        },
        "f40ec6c316ce47438ad7fd1ba14e9e65": {
          "model_module": "@jupyter-widgets/controls",
          "model_name": "DescriptionStyleModel",
          "model_module_version": "1.5.0",
          "state": {
            "_model_module": "@jupyter-widgets/controls",
            "_model_module_version": "1.5.0",
            "_model_name": "DescriptionStyleModel",
            "_view_count": null,
            "_view_module": "@jupyter-widgets/base",
            "_view_module_version": "1.2.0",
            "_view_name": "StyleView",
            "description_width": ""
          }
        },
        "1a968755205e4125b398ba15cf515bd5": {
          "model_module": "@jupyter-widgets/base",
          "model_name": "LayoutModel",
          "model_module_version": "1.2.0",
          "state": {
            "_model_module": "@jupyter-widgets/base",
            "_model_module_version": "1.2.0",
            "_model_name": "LayoutModel",
            "_view_count": null,
            "_view_module": "@jupyter-widgets/base",
            "_view_module_version": "1.2.0",
            "_view_name": "LayoutView",
            "align_content": null,
            "align_items": null,
            "align_self": null,
            "border": null,
            "bottom": null,
            "display": null,
            "flex": null,
            "flex_flow": null,
            "grid_area": null,
            "grid_auto_columns": null,
            "grid_auto_flow": null,
            "grid_auto_rows": null,
            "grid_column": null,
            "grid_gap": null,
            "grid_row": null,
            "grid_template_areas": null,
            "grid_template_columns": null,
            "grid_template_rows": null,
            "height": null,
            "justify_content": null,
            "justify_items": null,
            "left": null,
            "margin": null,
            "max_height": null,
            "max_width": null,
            "min_height": null,
            "min_width": null,
            "object_fit": null,
            "object_position": null,
            "order": null,
            "overflow": null,
            "overflow_x": null,
            "overflow_y": null,
            "padding": null,
            "right": null,
            "top": null,
            "visibility": null,
            "width": null
          }
        },
        "e45e685e0acd432e9d024d32dbdad85f": {
          "model_module": "@jupyter-widgets/controls",
          "model_name": "ProgressStyleModel",
          "model_module_version": "1.5.0",
          "state": {
            "_model_module": "@jupyter-widgets/controls",
            "_model_module_version": "1.5.0",
            "_model_name": "ProgressStyleModel",
            "_view_count": null,
            "_view_module": "@jupyter-widgets/base",
            "_view_module_version": "1.2.0",
            "_view_name": "StyleView",
            "bar_color": null,
            "description_width": ""
          }
        },
        "94f64b7ea6e14259b3c311a260ca4c78": {
          "model_module": "@jupyter-widgets/base",
          "model_name": "LayoutModel",
          "model_module_version": "1.2.0",
          "state": {
            "_model_module": "@jupyter-widgets/base",
            "_model_module_version": "1.2.0",
            "_model_name": "LayoutModel",
            "_view_count": null,
            "_view_module": "@jupyter-widgets/base",
            "_view_module_version": "1.2.0",
            "_view_name": "LayoutView",
            "align_content": null,
            "align_items": null,
            "align_self": null,
            "border": null,
            "bottom": null,
            "display": null,
            "flex": null,
            "flex_flow": null,
            "grid_area": null,
            "grid_auto_columns": null,
            "grid_auto_flow": null,
            "grid_auto_rows": null,
            "grid_column": null,
            "grid_gap": null,
            "grid_row": null,
            "grid_template_areas": null,
            "grid_template_columns": null,
            "grid_template_rows": null,
            "height": null,
            "justify_content": null,
            "justify_items": null,
            "left": null,
            "margin": null,
            "max_height": null,
            "max_width": null,
            "min_height": null,
            "min_width": null,
            "object_fit": null,
            "object_position": null,
            "order": null,
            "overflow": null,
            "overflow_x": null,
            "overflow_y": null,
            "padding": null,
            "right": null,
            "top": null,
            "visibility": null,
            "width": null
          }
        },
        "8ac57fa6e210486bad35699b22db4507": {
          "model_module": "@jupyter-widgets/controls",
          "model_name": "DescriptionStyleModel",
          "model_module_version": "1.5.0",
          "state": {
            "_model_module": "@jupyter-widgets/controls",
            "_model_module_version": "1.5.0",
            "_model_name": "DescriptionStyleModel",
            "_view_count": null,
            "_view_module": "@jupyter-widgets/base",
            "_view_module_version": "1.2.0",
            "_view_name": "StyleView",
            "description_width": ""
          }
        },
        "fe22d7922af44556b01567a614df0c08": {
          "model_module": "@jupyter-widgets/controls",
          "model_name": "HBoxModel",
          "model_module_version": "1.5.0",
          "state": {
            "_dom_classes": [],
            "_model_module": "@jupyter-widgets/controls",
            "_model_module_version": "1.5.0",
            "_model_name": "HBoxModel",
            "_view_count": null,
            "_view_module": "@jupyter-widgets/controls",
            "_view_module_version": "1.5.0",
            "_view_name": "HBoxView",
            "box_style": "",
            "children": [
              "IPY_MODEL_5ba7f73f6dda4cef9ea9b6750c922c25",
              "IPY_MODEL_b007dff31b604ac2a8dcd5499b98c179",
              "IPY_MODEL_66f2553f42474cc3b2396b9c5169b209"
            ],
            "layout": "IPY_MODEL_09ab3549b25a4ed28b2c0a1192134b07"
          }
        },
        "5ba7f73f6dda4cef9ea9b6750c922c25": {
          "model_module": "@jupyter-widgets/controls",
          "model_name": "HTMLModel",
          "model_module_version": "1.5.0",
          "state": {
            "_dom_classes": [],
            "_model_module": "@jupyter-widgets/controls",
            "_model_module_version": "1.5.0",
            "_model_name": "HTMLModel",
            "_view_count": null,
            "_view_module": "@jupyter-widgets/controls",
            "_view_module_version": "1.5.0",
            "_view_name": "HTMLView",
            "description": "",
            "description_tooltip": null,
            "layout": "IPY_MODEL_0aafc91a52514f4e9c6daebebdd8af1d",
            "placeholder": "​",
            "style": "IPY_MODEL_6869fc205ec149b3a08827c2de2e0684",
            "value": "pytorch_model.bin: 100%"
          }
        },
        "b007dff31b604ac2a8dcd5499b98c179": {
          "model_module": "@jupyter-widgets/controls",
          "model_name": "FloatProgressModel",
          "model_module_version": "1.5.0",
          "state": {
            "_dom_classes": [],
            "_model_module": "@jupyter-widgets/controls",
            "_model_module_version": "1.5.0",
            "_model_name": "FloatProgressModel",
            "_view_count": null,
            "_view_module": "@jupyter-widgets/controls",
            "_view_module_version": "1.5.0",
            "_view_name": "ProgressView",
            "bar_style": "success",
            "description": "",
            "description_tooltip": null,
            "layout": "IPY_MODEL_5ad001bea23b468ba7b023ccc3386c2a",
            "max": 66708541,
            "min": 0,
            "orientation": "horizontal",
            "style": "IPY_MODEL_ebdf97cdf6b44da2853fc764da161686",
            "value": 66708541
          }
        },
        "66f2553f42474cc3b2396b9c5169b209": {
          "model_module": "@jupyter-widgets/controls",
          "model_name": "HTMLModel",
          "model_module_version": "1.5.0",
          "state": {
            "_dom_classes": [],
            "_model_module": "@jupyter-widgets/controls",
            "_model_module_version": "1.5.0",
            "_model_name": "HTMLModel",
            "_view_count": null,
            "_view_module": "@jupyter-widgets/controls",
            "_view_module_version": "1.5.0",
            "_view_name": "HTMLView",
            "description": "",
            "description_tooltip": null,
            "layout": "IPY_MODEL_4822a3a9767b4b679d7e0acc60a07456",
            "placeholder": "​",
            "style": "IPY_MODEL_06e2fc833aad426f93c51859d07c1c2d",
            "value": " 66.7M/66.7M [00:00&lt;00:00, 80.7MB/s]"
          }
        },
        "09ab3549b25a4ed28b2c0a1192134b07": {
          "model_module": "@jupyter-widgets/base",
          "model_name": "LayoutModel",
          "model_module_version": "1.2.0",
          "state": {
            "_model_module": "@jupyter-widgets/base",
            "_model_module_version": "1.2.0",
            "_model_name": "LayoutModel",
            "_view_count": null,
            "_view_module": "@jupyter-widgets/base",
            "_view_module_version": "1.2.0",
            "_view_name": "LayoutView",
            "align_content": null,
            "align_items": null,
            "align_self": null,
            "border": null,
            "bottom": null,
            "display": null,
            "flex": null,
            "flex_flow": null,
            "grid_area": null,
            "grid_auto_columns": null,
            "grid_auto_flow": null,
            "grid_auto_rows": null,
            "grid_column": null,
            "grid_gap": null,
            "grid_row": null,
            "grid_template_areas": null,
            "grid_template_columns": null,
            "grid_template_rows": null,
            "height": null,
            "justify_content": null,
            "justify_items": null,
            "left": null,
            "margin": null,
            "max_height": null,
            "max_width": null,
            "min_height": null,
            "min_width": null,
            "object_fit": null,
            "object_position": null,
            "order": null,
            "overflow": null,
            "overflow_x": null,
            "overflow_y": null,
            "padding": null,
            "right": null,
            "top": null,
            "visibility": null,
            "width": null
          }
        },
        "0aafc91a52514f4e9c6daebebdd8af1d": {
          "model_module": "@jupyter-widgets/base",
          "model_name": "LayoutModel",
          "model_module_version": "1.2.0",
          "state": {
            "_model_module": "@jupyter-widgets/base",
            "_model_module_version": "1.2.0",
            "_model_name": "LayoutModel",
            "_view_count": null,
            "_view_module": "@jupyter-widgets/base",
            "_view_module_version": "1.2.0",
            "_view_name": "LayoutView",
            "align_content": null,
            "align_items": null,
            "align_self": null,
            "border": null,
            "bottom": null,
            "display": null,
            "flex": null,
            "flex_flow": null,
            "grid_area": null,
            "grid_auto_columns": null,
            "grid_auto_flow": null,
            "grid_auto_rows": null,
            "grid_column": null,
            "grid_gap": null,
            "grid_row": null,
            "grid_template_areas": null,
            "grid_template_columns": null,
            "grid_template_rows": null,
            "height": null,
            "justify_content": null,
            "justify_items": null,
            "left": null,
            "margin": null,
            "max_height": null,
            "max_width": null,
            "min_height": null,
            "min_width": null,
            "object_fit": null,
            "object_position": null,
            "order": null,
            "overflow": null,
            "overflow_x": null,
            "overflow_y": null,
            "padding": null,
            "right": null,
            "top": null,
            "visibility": null,
            "width": null
          }
        },
        "6869fc205ec149b3a08827c2de2e0684": {
          "model_module": "@jupyter-widgets/controls",
          "model_name": "DescriptionStyleModel",
          "model_module_version": "1.5.0",
          "state": {
            "_model_module": "@jupyter-widgets/controls",
            "_model_module_version": "1.5.0",
            "_model_name": "DescriptionStyleModel",
            "_view_count": null,
            "_view_module": "@jupyter-widgets/base",
            "_view_module_version": "1.2.0",
            "_view_name": "StyleView",
            "description_width": ""
          }
        },
        "5ad001bea23b468ba7b023ccc3386c2a": {
          "model_module": "@jupyter-widgets/base",
          "model_name": "LayoutModel",
          "model_module_version": "1.2.0",
          "state": {
            "_model_module": "@jupyter-widgets/base",
            "_model_module_version": "1.2.0",
            "_model_name": "LayoutModel",
            "_view_count": null,
            "_view_module": "@jupyter-widgets/base",
            "_view_module_version": "1.2.0",
            "_view_name": "LayoutView",
            "align_content": null,
            "align_items": null,
            "align_self": null,
            "border": null,
            "bottom": null,
            "display": null,
            "flex": null,
            "flex_flow": null,
            "grid_area": null,
            "grid_auto_columns": null,
            "grid_auto_flow": null,
            "grid_auto_rows": null,
            "grid_column": null,
            "grid_gap": null,
            "grid_row": null,
            "grid_template_areas": null,
            "grid_template_columns": null,
            "grid_template_rows": null,
            "height": null,
            "justify_content": null,
            "justify_items": null,
            "left": null,
            "margin": null,
            "max_height": null,
            "max_width": null,
            "min_height": null,
            "min_width": null,
            "object_fit": null,
            "object_position": null,
            "order": null,
            "overflow": null,
            "overflow_x": null,
            "overflow_y": null,
            "padding": null,
            "right": null,
            "top": null,
            "visibility": null,
            "width": null
          }
        },
        "ebdf97cdf6b44da2853fc764da161686": {
          "model_module": "@jupyter-widgets/controls",
          "model_name": "ProgressStyleModel",
          "model_module_version": "1.5.0",
          "state": {
            "_model_module": "@jupyter-widgets/controls",
            "_model_module_version": "1.5.0",
            "_model_name": "ProgressStyleModel",
            "_view_count": null,
            "_view_module": "@jupyter-widgets/base",
            "_view_module_version": "1.2.0",
            "_view_name": "StyleView",
            "bar_color": null,
            "description_width": ""
          }
        },
        "4822a3a9767b4b679d7e0acc60a07456": {
          "model_module": "@jupyter-widgets/base",
          "model_name": "LayoutModel",
          "model_module_version": "1.2.0",
          "state": {
            "_model_module": "@jupyter-widgets/base",
            "_model_module_version": "1.2.0",
            "_model_name": "LayoutModel",
            "_view_count": null,
            "_view_module": "@jupyter-widgets/base",
            "_view_module_version": "1.2.0",
            "_view_name": "LayoutView",
            "align_content": null,
            "align_items": null,
            "align_self": null,
            "border": null,
            "bottom": null,
            "display": null,
            "flex": null,
            "flex_flow": null,
            "grid_area": null,
            "grid_auto_columns": null,
            "grid_auto_flow": null,
            "grid_auto_rows": null,
            "grid_column": null,
            "grid_gap": null,
            "grid_row": null,
            "grid_template_areas": null,
            "grid_template_columns": null,
            "grid_template_rows": null,
            "height": null,
            "justify_content": null,
            "justify_items": null,
            "left": null,
            "margin": null,
            "max_height": null,
            "max_width": null,
            "min_height": null,
            "min_width": null,
            "object_fit": null,
            "object_position": null,
            "order": null,
            "overflow": null,
            "overflow_x": null,
            "overflow_y": null,
            "padding": null,
            "right": null,
            "top": null,
            "visibility": null,
            "width": null
          }
        },
        "06e2fc833aad426f93c51859d07c1c2d": {
          "model_module": "@jupyter-widgets/controls",
          "model_name": "DescriptionStyleModel",
          "model_module_version": "1.5.0",
          "state": {
            "_model_module": "@jupyter-widgets/controls",
            "_model_module_version": "1.5.0",
            "_model_name": "DescriptionStyleModel",
            "_view_count": null,
            "_view_module": "@jupyter-widgets/base",
            "_view_module_version": "1.2.0",
            "_view_name": "StyleView",
            "description_width": ""
          }
        },
        "b8ec73f65f264685a62a4a363b817fcf": {
          "model_module": "@jupyter-widgets/controls",
          "model_name": "HBoxModel",
          "model_module_version": "1.5.0",
          "state": {
            "_dom_classes": [],
            "_model_module": "@jupyter-widgets/controls",
            "_model_module_version": "1.5.0",
            "_model_name": "HBoxModel",
            "_view_count": null,
            "_view_module": "@jupyter-widgets/controls",
            "_view_module_version": "1.5.0",
            "_view_name": "HBoxView",
            "box_style": "",
            "children": [
              "IPY_MODEL_4ce9094d84774ff9800e8bfddba348c5",
              "IPY_MODEL_e492f955f17446a0a21bb3508ef8ab47",
              "IPY_MODEL_803e6450e5814c9498bf05bab7a8366f"
            ],
            "layout": "IPY_MODEL_91d1366f80a44a58a786355a5f5b5515"
          }
        },
        "4ce9094d84774ff9800e8bfddba348c5": {
          "model_module": "@jupyter-widgets/controls",
          "model_name": "HTMLModel",
          "model_module_version": "1.5.0",
          "state": {
            "_dom_classes": [],
            "_model_module": "@jupyter-widgets/controls",
            "_model_module_version": "1.5.0",
            "_model_name": "HTMLModel",
            "_view_count": null,
            "_view_module": "@jupyter-widgets/controls",
            "_view_module_version": "1.5.0",
            "_view_name": "HTMLView",
            "description": "",
            "description_tooltip": null,
            "layout": "IPY_MODEL_31adad93da72440d8f9eb4fb97886099",
            "placeholder": "​",
            "style": "IPY_MODEL_d8705b02f0bf41609b85a40b13033f63",
            "value": "tokenizer_config.json: 100%"
          }
        },
        "e492f955f17446a0a21bb3508ef8ab47": {
          "model_module": "@jupyter-widgets/controls",
          "model_name": "FloatProgressModel",
          "model_module_version": "1.5.0",
          "state": {
            "_dom_classes": [],
            "_model_module": "@jupyter-widgets/controls",
            "_model_module_version": "1.5.0",
            "_model_name": "FloatProgressModel",
            "_view_count": null,
            "_view_module": "@jupyter-widgets/controls",
            "_view_module_version": "1.5.0",
            "_view_name": "ProgressView",
            "bar_style": "success",
            "description": "",
            "description_tooltip": null,
            "layout": "IPY_MODEL_7c7fe31e60eb46c4ad7aa6b4bdc06d83",
            "max": 727,
            "min": 0,
            "orientation": "horizontal",
            "style": "IPY_MODEL_a84b1810b7e94db595762245eeb8f35f",
            "value": 727
          }
        },
        "803e6450e5814c9498bf05bab7a8366f": {
          "model_module": "@jupyter-widgets/controls",
          "model_name": "HTMLModel",
          "model_module_version": "1.5.0",
          "state": {
            "_dom_classes": [],
            "_model_module": "@jupyter-widgets/controls",
            "_model_module_version": "1.5.0",
            "_model_name": "HTMLModel",
            "_view_count": null,
            "_view_module": "@jupyter-widgets/controls",
            "_view_module_version": "1.5.0",
            "_view_name": "HTMLView",
            "description": "",
            "description_tooltip": null,
            "layout": "IPY_MODEL_53872077da1b40948eeac7542a14021e",
            "placeholder": "​",
            "style": "IPY_MODEL_bd88a44846ab42c8b324d1c79b30cbcc",
            "value": " 727/727 [00:00&lt;00:00, 10.6kB/s]"
          }
        },
        "91d1366f80a44a58a786355a5f5b5515": {
          "model_module": "@jupyter-widgets/base",
          "model_name": "LayoutModel",
          "model_module_version": "1.2.0",
          "state": {
            "_model_module": "@jupyter-widgets/base",
            "_model_module_version": "1.2.0",
            "_model_name": "LayoutModel",
            "_view_count": null,
            "_view_module": "@jupyter-widgets/base",
            "_view_module_version": "1.2.0",
            "_view_name": "LayoutView",
            "align_content": null,
            "align_items": null,
            "align_self": null,
            "border": null,
            "bottom": null,
            "display": null,
            "flex": null,
            "flex_flow": null,
            "grid_area": null,
            "grid_auto_columns": null,
            "grid_auto_flow": null,
            "grid_auto_rows": null,
            "grid_column": null,
            "grid_gap": null,
            "grid_row": null,
            "grid_template_areas": null,
            "grid_template_columns": null,
            "grid_template_rows": null,
            "height": null,
            "justify_content": null,
            "justify_items": null,
            "left": null,
            "margin": null,
            "max_height": null,
            "max_width": null,
            "min_height": null,
            "min_width": null,
            "object_fit": null,
            "object_position": null,
            "order": null,
            "overflow": null,
            "overflow_x": null,
            "overflow_y": null,
            "padding": null,
            "right": null,
            "top": null,
            "visibility": null,
            "width": null
          }
        },
        "31adad93da72440d8f9eb4fb97886099": {
          "model_module": "@jupyter-widgets/base",
          "model_name": "LayoutModel",
          "model_module_version": "1.2.0",
          "state": {
            "_model_module": "@jupyter-widgets/base",
            "_model_module_version": "1.2.0",
            "_model_name": "LayoutModel",
            "_view_count": null,
            "_view_module": "@jupyter-widgets/base",
            "_view_module_version": "1.2.0",
            "_view_name": "LayoutView",
            "align_content": null,
            "align_items": null,
            "align_self": null,
            "border": null,
            "bottom": null,
            "display": null,
            "flex": null,
            "flex_flow": null,
            "grid_area": null,
            "grid_auto_columns": null,
            "grid_auto_flow": null,
            "grid_auto_rows": null,
            "grid_column": null,
            "grid_gap": null,
            "grid_row": null,
            "grid_template_areas": null,
            "grid_template_columns": null,
            "grid_template_rows": null,
            "height": null,
            "justify_content": null,
            "justify_items": null,
            "left": null,
            "margin": null,
            "max_height": null,
            "max_width": null,
            "min_height": null,
            "min_width": null,
            "object_fit": null,
            "object_position": null,
            "order": null,
            "overflow": null,
            "overflow_x": null,
            "overflow_y": null,
            "padding": null,
            "right": null,
            "top": null,
            "visibility": null,
            "width": null
          }
        },
        "d8705b02f0bf41609b85a40b13033f63": {
          "model_module": "@jupyter-widgets/controls",
          "model_name": "DescriptionStyleModel",
          "model_module_version": "1.5.0",
          "state": {
            "_model_module": "@jupyter-widgets/controls",
            "_model_module_version": "1.5.0",
            "_model_name": "DescriptionStyleModel",
            "_view_count": null,
            "_view_module": "@jupyter-widgets/base",
            "_view_module_version": "1.2.0",
            "_view_name": "StyleView",
            "description_width": ""
          }
        },
        "7c7fe31e60eb46c4ad7aa6b4bdc06d83": {
          "model_module": "@jupyter-widgets/base",
          "model_name": "LayoutModel",
          "model_module_version": "1.2.0",
          "state": {
            "_model_module": "@jupyter-widgets/base",
            "_model_module_version": "1.2.0",
            "_model_name": "LayoutModel",
            "_view_count": null,
            "_view_module": "@jupyter-widgets/base",
            "_view_module_version": "1.2.0",
            "_view_name": "LayoutView",
            "align_content": null,
            "align_items": null,
            "align_self": null,
            "border": null,
            "bottom": null,
            "display": null,
            "flex": null,
            "flex_flow": null,
            "grid_area": null,
            "grid_auto_columns": null,
            "grid_auto_flow": null,
            "grid_auto_rows": null,
            "grid_column": null,
            "grid_gap": null,
            "grid_row": null,
            "grid_template_areas": null,
            "grid_template_columns": null,
            "grid_template_rows": null,
            "height": null,
            "justify_content": null,
            "justify_items": null,
            "left": null,
            "margin": null,
            "max_height": null,
            "max_width": null,
            "min_height": null,
            "min_width": null,
            "object_fit": null,
            "object_position": null,
            "order": null,
            "overflow": null,
            "overflow_x": null,
            "overflow_y": null,
            "padding": null,
            "right": null,
            "top": null,
            "visibility": null,
            "width": null
          }
        },
        "a84b1810b7e94db595762245eeb8f35f": {
          "model_module": "@jupyter-widgets/controls",
          "model_name": "ProgressStyleModel",
          "model_module_version": "1.5.0",
          "state": {
            "_model_module": "@jupyter-widgets/controls",
            "_model_module_version": "1.5.0",
            "_model_name": "ProgressStyleModel",
            "_view_count": null,
            "_view_module": "@jupyter-widgets/base",
            "_view_module_version": "1.2.0",
            "_view_name": "StyleView",
            "bar_color": null,
            "description_width": ""
          }
        },
        "53872077da1b40948eeac7542a14021e": {
          "model_module": "@jupyter-widgets/base",
          "model_name": "LayoutModel",
          "model_module_version": "1.2.0",
          "state": {
            "_model_module": "@jupyter-widgets/base",
            "_model_module_version": "1.2.0",
            "_model_name": "LayoutModel",
            "_view_count": null,
            "_view_module": "@jupyter-widgets/base",
            "_view_module_version": "1.2.0",
            "_view_name": "LayoutView",
            "align_content": null,
            "align_items": null,
            "align_self": null,
            "border": null,
            "bottom": null,
            "display": null,
            "flex": null,
            "flex_flow": null,
            "grid_area": null,
            "grid_auto_columns": null,
            "grid_auto_flow": null,
            "grid_auto_rows": null,
            "grid_column": null,
            "grid_gap": null,
            "grid_row": null,
            "grid_template_areas": null,
            "grid_template_columns": null,
            "grid_template_rows": null,
            "height": null,
            "justify_content": null,
            "justify_items": null,
            "left": null,
            "margin": null,
            "max_height": null,
            "max_width": null,
            "min_height": null,
            "min_width": null,
            "object_fit": null,
            "object_position": null,
            "order": null,
            "overflow": null,
            "overflow_x": null,
            "overflow_y": null,
            "padding": null,
            "right": null,
            "top": null,
            "visibility": null,
            "width": null
          }
        },
        "bd88a44846ab42c8b324d1c79b30cbcc": {
          "model_module": "@jupyter-widgets/controls",
          "model_name": "DescriptionStyleModel",
          "model_module_version": "1.5.0",
          "state": {
            "_model_module": "@jupyter-widgets/controls",
            "_model_module_version": "1.5.0",
            "_model_name": "DescriptionStyleModel",
            "_view_count": null,
            "_view_module": "@jupyter-widgets/base",
            "_view_module_version": "1.2.0",
            "_view_name": "StyleView",
            "description_width": ""
          }
        },
        "e2ca2e01e7ed494199d78af8f8c281b1": {
          "model_module": "@jupyter-widgets/controls",
          "model_name": "HBoxModel",
          "model_module_version": "1.5.0",
          "state": {
            "_dom_classes": [],
            "_model_module": "@jupyter-widgets/controls",
            "_model_module_version": "1.5.0",
            "_model_name": "HBoxModel",
            "_view_count": null,
            "_view_module": "@jupyter-widgets/controls",
            "_view_module_version": "1.5.0",
            "_view_name": "HBoxView",
            "box_style": "",
            "children": [
              "IPY_MODEL_4a1efaa484714b91af5ddbc1df085d8b",
              "IPY_MODEL_9af8da6a03944742a442bc18ae2dac58",
              "IPY_MODEL_0cffc2bfa87743caadcdf558ad95e30b"
            ],
            "layout": "IPY_MODEL_5ed06d98591a446bb6f87d948bd02bdf"
          }
        },
        "4a1efaa484714b91af5ddbc1df085d8b": {
          "model_module": "@jupyter-widgets/controls",
          "model_name": "HTMLModel",
          "model_module_version": "1.5.0",
          "state": {
            "_dom_classes": [],
            "_model_module": "@jupyter-widgets/controls",
            "_model_module_version": "1.5.0",
            "_model_name": "HTMLModel",
            "_view_count": null,
            "_view_module": "@jupyter-widgets/controls",
            "_view_module_version": "1.5.0",
            "_view_name": "HTMLView",
            "description": "",
            "description_tooltip": null,
            "layout": "IPY_MODEL_fff8423bbde643b9ac42eb8475ea66bc",
            "placeholder": "​",
            "style": "IPY_MODEL_9ec94736ec824e009e871d7641b8e70b",
            "value": "vocab.json: 100%"
          }
        },
        "9af8da6a03944742a442bc18ae2dac58": {
          "model_module": "@jupyter-widgets/controls",
          "model_name": "FloatProgressModel",
          "model_module_version": "1.5.0",
          "state": {
            "_dom_classes": [],
            "_model_module": "@jupyter-widgets/controls",
            "_model_module_version": "1.5.0",
            "_model_name": "FloatProgressModel",
            "_view_count": null,
            "_view_module": "@jupyter-widgets/controls",
            "_view_module_version": "1.5.0",
            "_view_name": "ProgressView",
            "bar_style": "success",
            "description": "",
            "description_tooltip": null,
            "layout": "IPY_MODEL_61b8860d9f1d43daa8930b96399e0509",
            "max": 898669,
            "min": 0,
            "orientation": "horizontal",
            "style": "IPY_MODEL_43d922c7a859430a9153cb226a6274c3",
            "value": 898669
          }
        },
        "0cffc2bfa87743caadcdf558ad95e30b": {
          "model_module": "@jupyter-widgets/controls",
          "model_name": "HTMLModel",
          "model_module_version": "1.5.0",
          "state": {
            "_dom_classes": [],
            "_model_module": "@jupyter-widgets/controls",
            "_model_module_version": "1.5.0",
            "_model_name": "HTMLModel",
            "_view_count": null,
            "_view_module": "@jupyter-widgets/controls",
            "_view_module_version": "1.5.0",
            "_view_name": "HTMLView",
            "description": "",
            "description_tooltip": null,
            "layout": "IPY_MODEL_82145a85608840fba8877820f40aa07b",
            "placeholder": "​",
            "style": "IPY_MODEL_0cb01440c2db44c88718698e3eadaab3",
            "value": " 899k/899k [00:00&lt;00:00, 12.7MB/s]"
          }
        },
        "5ed06d98591a446bb6f87d948bd02bdf": {
          "model_module": "@jupyter-widgets/base",
          "model_name": "LayoutModel",
          "model_module_version": "1.2.0",
          "state": {
            "_model_module": "@jupyter-widgets/base",
            "_model_module_version": "1.2.0",
            "_model_name": "LayoutModel",
            "_view_count": null,
            "_view_module": "@jupyter-widgets/base",
            "_view_module_version": "1.2.0",
            "_view_name": "LayoutView",
            "align_content": null,
            "align_items": null,
            "align_self": null,
            "border": null,
            "bottom": null,
            "display": null,
            "flex": null,
            "flex_flow": null,
            "grid_area": null,
            "grid_auto_columns": null,
            "grid_auto_flow": null,
            "grid_auto_rows": null,
            "grid_column": null,
            "grid_gap": null,
            "grid_row": null,
            "grid_template_areas": null,
            "grid_template_columns": null,
            "grid_template_rows": null,
            "height": null,
            "justify_content": null,
            "justify_items": null,
            "left": null,
            "margin": null,
            "max_height": null,
            "max_width": null,
            "min_height": null,
            "min_width": null,
            "object_fit": null,
            "object_position": null,
            "order": null,
            "overflow": null,
            "overflow_x": null,
            "overflow_y": null,
            "padding": null,
            "right": null,
            "top": null,
            "visibility": null,
            "width": null
          }
        },
        "fff8423bbde643b9ac42eb8475ea66bc": {
          "model_module": "@jupyter-widgets/base",
          "model_name": "LayoutModel",
          "model_module_version": "1.2.0",
          "state": {
            "_model_module": "@jupyter-widgets/base",
            "_model_module_version": "1.2.0",
            "_model_name": "LayoutModel",
            "_view_count": null,
            "_view_module": "@jupyter-widgets/base",
            "_view_module_version": "1.2.0",
            "_view_name": "LayoutView",
            "align_content": null,
            "align_items": null,
            "align_self": null,
            "border": null,
            "bottom": null,
            "display": null,
            "flex": null,
            "flex_flow": null,
            "grid_area": null,
            "grid_auto_columns": null,
            "grid_auto_flow": null,
            "grid_auto_rows": null,
            "grid_column": null,
            "grid_gap": null,
            "grid_row": null,
            "grid_template_areas": null,
            "grid_template_columns": null,
            "grid_template_rows": null,
            "height": null,
            "justify_content": null,
            "justify_items": null,
            "left": null,
            "margin": null,
            "max_height": null,
            "max_width": null,
            "min_height": null,
            "min_width": null,
            "object_fit": null,
            "object_position": null,
            "order": null,
            "overflow": null,
            "overflow_x": null,
            "overflow_y": null,
            "padding": null,
            "right": null,
            "top": null,
            "visibility": null,
            "width": null
          }
        },
        "9ec94736ec824e009e871d7641b8e70b": {
          "model_module": "@jupyter-widgets/controls",
          "model_name": "DescriptionStyleModel",
          "model_module_version": "1.5.0",
          "state": {
            "_model_module": "@jupyter-widgets/controls",
            "_model_module_version": "1.5.0",
            "_model_name": "DescriptionStyleModel",
            "_view_count": null,
            "_view_module": "@jupyter-widgets/base",
            "_view_module_version": "1.2.0",
            "_view_name": "StyleView",
            "description_width": ""
          }
        },
        "61b8860d9f1d43daa8930b96399e0509": {
          "model_module": "@jupyter-widgets/base",
          "model_name": "LayoutModel",
          "model_module_version": "1.2.0",
          "state": {
            "_model_module": "@jupyter-widgets/base",
            "_model_module_version": "1.2.0",
            "_model_name": "LayoutModel",
            "_view_count": null,
            "_view_module": "@jupyter-widgets/base",
            "_view_module_version": "1.2.0",
            "_view_name": "LayoutView",
            "align_content": null,
            "align_items": null,
            "align_self": null,
            "border": null,
            "bottom": null,
            "display": null,
            "flex": null,
            "flex_flow": null,
            "grid_area": null,
            "grid_auto_columns": null,
            "grid_auto_flow": null,
            "grid_auto_rows": null,
            "grid_column": null,
            "grid_gap": null,
            "grid_row": null,
            "grid_template_areas": null,
            "grid_template_columns": null,
            "grid_template_rows": null,
            "height": null,
            "justify_content": null,
            "justify_items": null,
            "left": null,
            "margin": null,
            "max_height": null,
            "max_width": null,
            "min_height": null,
            "min_width": null,
            "object_fit": null,
            "object_position": null,
            "order": null,
            "overflow": null,
            "overflow_x": null,
            "overflow_y": null,
            "padding": null,
            "right": null,
            "top": null,
            "visibility": null,
            "width": null
          }
        },
        "43d922c7a859430a9153cb226a6274c3": {
          "model_module": "@jupyter-widgets/controls",
          "model_name": "ProgressStyleModel",
          "model_module_version": "1.5.0",
          "state": {
            "_model_module": "@jupyter-widgets/controls",
            "_model_module_version": "1.5.0",
            "_model_name": "ProgressStyleModel",
            "_view_count": null,
            "_view_module": "@jupyter-widgets/base",
            "_view_module_version": "1.2.0",
            "_view_name": "StyleView",
            "bar_color": null,
            "description_width": ""
          }
        },
        "82145a85608840fba8877820f40aa07b": {
          "model_module": "@jupyter-widgets/base",
          "model_name": "LayoutModel",
          "model_module_version": "1.2.0",
          "state": {
            "_model_module": "@jupyter-widgets/base",
            "_model_module_version": "1.2.0",
            "_model_name": "LayoutModel",
            "_view_count": null,
            "_view_module": "@jupyter-widgets/base",
            "_view_module_version": "1.2.0",
            "_view_name": "LayoutView",
            "align_content": null,
            "align_items": null,
            "align_self": null,
            "border": null,
            "bottom": null,
            "display": null,
            "flex": null,
            "flex_flow": null,
            "grid_area": null,
            "grid_auto_columns": null,
            "grid_auto_flow": null,
            "grid_auto_rows": null,
            "grid_column": null,
            "grid_gap": null,
            "grid_row": null,
            "grid_template_areas": null,
            "grid_template_columns": null,
            "grid_template_rows": null,
            "height": null,
            "justify_content": null,
            "justify_items": null,
            "left": null,
            "margin": null,
            "max_height": null,
            "max_width": null,
            "min_height": null,
            "min_width": null,
            "object_fit": null,
            "object_position": null,
            "order": null,
            "overflow": null,
            "overflow_x": null,
            "overflow_y": null,
            "padding": null,
            "right": null,
            "top": null,
            "visibility": null,
            "width": null
          }
        },
        "0cb01440c2db44c88718698e3eadaab3": {
          "model_module": "@jupyter-widgets/controls",
          "model_name": "DescriptionStyleModel",
          "model_module_version": "1.5.0",
          "state": {
            "_model_module": "@jupyter-widgets/controls",
            "_model_module_version": "1.5.0",
            "_model_name": "DescriptionStyleModel",
            "_view_count": null,
            "_view_module": "@jupyter-widgets/base",
            "_view_module_version": "1.2.0",
            "_view_name": "StyleView",
            "description_width": ""
          }
        },
        "1a04f4952ab34015af0fe1df69132c4c": {
          "model_module": "@jupyter-widgets/controls",
          "model_name": "HBoxModel",
          "model_module_version": "1.5.0",
          "state": {
            "_dom_classes": [],
            "_model_module": "@jupyter-widgets/controls",
            "_model_module_version": "1.5.0",
            "_model_name": "HBoxModel",
            "_view_count": null,
            "_view_module": "@jupyter-widgets/controls",
            "_view_module_version": "1.5.0",
            "_view_name": "HBoxView",
            "box_style": "",
            "children": [
              "IPY_MODEL_489cb14b500c4181940312a0bc6603f1",
              "IPY_MODEL_45e200ea0f144092bd5a7b737d082320",
              "IPY_MODEL_072a9b621c6e4b60ac4399f57a62b42e"
            ],
            "layout": "IPY_MODEL_3b3e246bdedf4221aada668054150b36"
          }
        },
        "489cb14b500c4181940312a0bc6603f1": {
          "model_module": "@jupyter-widgets/controls",
          "model_name": "HTMLModel",
          "model_module_version": "1.5.0",
          "state": {
            "_dom_classes": [],
            "_model_module": "@jupyter-widgets/controls",
            "_model_module_version": "1.5.0",
            "_model_name": "HTMLModel",
            "_view_count": null,
            "_view_module": "@jupyter-widgets/controls",
            "_view_module_version": "1.5.0",
            "_view_name": "HTMLView",
            "description": "",
            "description_tooltip": null,
            "layout": "IPY_MODEL_63a2061a1ac84b61b44f17127704cd76",
            "placeholder": "​",
            "style": "IPY_MODEL_b9cfd06163074818a5a52b8556dbbdc4",
            "value": "merges.txt: 100%"
          }
        },
        "45e200ea0f144092bd5a7b737d082320": {
          "model_module": "@jupyter-widgets/controls",
          "model_name": "FloatProgressModel",
          "model_module_version": "1.5.0",
          "state": {
            "_dom_classes": [],
            "_model_module": "@jupyter-widgets/controls",
            "_model_module_version": "1.5.0",
            "_model_name": "FloatProgressModel",
            "_view_count": null,
            "_view_module": "@jupyter-widgets/controls",
            "_view_module_version": "1.5.0",
            "_view_name": "ProgressView",
            "bar_style": "success",
            "description": "",
            "description_tooltip": null,
            "layout": "IPY_MODEL_00d4ffbcf3ac423d927a8747b87496a2",
            "max": 456318,
            "min": 0,
            "orientation": "horizontal",
            "style": "IPY_MODEL_ed5f13713e004fc4949e24a939ecb29e",
            "value": 456318
          }
        },
        "072a9b621c6e4b60ac4399f57a62b42e": {
          "model_module": "@jupyter-widgets/controls",
          "model_name": "HTMLModel",
          "model_module_version": "1.5.0",
          "state": {
            "_dom_classes": [],
            "_model_module": "@jupyter-widgets/controls",
            "_model_module_version": "1.5.0",
            "_model_name": "HTMLModel",
            "_view_count": null,
            "_view_module": "@jupyter-widgets/controls",
            "_view_module_version": "1.5.0",
            "_view_name": "HTMLView",
            "description": "",
            "description_tooltip": null,
            "layout": "IPY_MODEL_4d15239cfc9c4cba92bb40a8acb12345",
            "placeholder": "​",
            "style": "IPY_MODEL_49d881a719be4f2f83cbd2587e260d82",
            "value": " 456k/456k [00:00&lt;00:00, 12.0MB/s]"
          }
        },
        "3b3e246bdedf4221aada668054150b36": {
          "model_module": "@jupyter-widgets/base",
          "model_name": "LayoutModel",
          "model_module_version": "1.2.0",
          "state": {
            "_model_module": "@jupyter-widgets/base",
            "_model_module_version": "1.2.0",
            "_model_name": "LayoutModel",
            "_view_count": null,
            "_view_module": "@jupyter-widgets/base",
            "_view_module_version": "1.2.0",
            "_view_name": "LayoutView",
            "align_content": null,
            "align_items": null,
            "align_self": null,
            "border": null,
            "bottom": null,
            "display": null,
            "flex": null,
            "flex_flow": null,
            "grid_area": null,
            "grid_auto_columns": null,
            "grid_auto_flow": null,
            "grid_auto_rows": null,
            "grid_column": null,
            "grid_gap": null,
            "grid_row": null,
            "grid_template_areas": null,
            "grid_template_columns": null,
            "grid_template_rows": null,
            "height": null,
            "justify_content": null,
            "justify_items": null,
            "left": null,
            "margin": null,
            "max_height": null,
            "max_width": null,
            "min_height": null,
            "min_width": null,
            "object_fit": null,
            "object_position": null,
            "order": null,
            "overflow": null,
            "overflow_x": null,
            "overflow_y": null,
            "padding": null,
            "right": null,
            "top": null,
            "visibility": null,
            "width": null
          }
        },
        "63a2061a1ac84b61b44f17127704cd76": {
          "model_module": "@jupyter-widgets/base",
          "model_name": "LayoutModel",
          "model_module_version": "1.2.0",
          "state": {
            "_model_module": "@jupyter-widgets/base",
            "_model_module_version": "1.2.0",
            "_model_name": "LayoutModel",
            "_view_count": null,
            "_view_module": "@jupyter-widgets/base",
            "_view_module_version": "1.2.0",
            "_view_name": "LayoutView",
            "align_content": null,
            "align_items": null,
            "align_self": null,
            "border": null,
            "bottom": null,
            "display": null,
            "flex": null,
            "flex_flow": null,
            "grid_area": null,
            "grid_auto_columns": null,
            "grid_auto_flow": null,
            "grid_auto_rows": null,
            "grid_column": null,
            "grid_gap": null,
            "grid_row": null,
            "grid_template_areas": null,
            "grid_template_columns": null,
            "grid_template_rows": null,
            "height": null,
            "justify_content": null,
            "justify_items": null,
            "left": null,
            "margin": null,
            "max_height": null,
            "max_width": null,
            "min_height": null,
            "min_width": null,
            "object_fit": null,
            "object_position": null,
            "order": null,
            "overflow": null,
            "overflow_x": null,
            "overflow_y": null,
            "padding": null,
            "right": null,
            "top": null,
            "visibility": null,
            "width": null
          }
        },
        "b9cfd06163074818a5a52b8556dbbdc4": {
          "model_module": "@jupyter-widgets/controls",
          "model_name": "DescriptionStyleModel",
          "model_module_version": "1.5.0",
          "state": {
            "_model_module": "@jupyter-widgets/controls",
            "_model_module_version": "1.5.0",
            "_model_name": "DescriptionStyleModel",
            "_view_count": null,
            "_view_module": "@jupyter-widgets/base",
            "_view_module_version": "1.2.0",
            "_view_name": "StyleView",
            "description_width": ""
          }
        },
        "00d4ffbcf3ac423d927a8747b87496a2": {
          "model_module": "@jupyter-widgets/base",
          "model_name": "LayoutModel",
          "model_module_version": "1.2.0",
          "state": {
            "_model_module": "@jupyter-widgets/base",
            "_model_module_version": "1.2.0",
            "_model_name": "LayoutModel",
            "_view_count": null,
            "_view_module": "@jupyter-widgets/base",
            "_view_module_version": "1.2.0",
            "_view_name": "LayoutView",
            "align_content": null,
            "align_items": null,
            "align_self": null,
            "border": null,
            "bottom": null,
            "display": null,
            "flex": null,
            "flex_flow": null,
            "grid_area": null,
            "grid_auto_columns": null,
            "grid_auto_flow": null,
            "grid_auto_rows": null,
            "grid_column": null,
            "grid_gap": null,
            "grid_row": null,
            "grid_template_areas": null,
            "grid_template_columns": null,
            "grid_template_rows": null,
            "height": null,
            "justify_content": null,
            "justify_items": null,
            "left": null,
            "margin": null,
            "max_height": null,
            "max_width": null,
            "min_height": null,
            "min_width": null,
            "object_fit": null,
            "object_position": null,
            "order": null,
            "overflow": null,
            "overflow_x": null,
            "overflow_y": null,
            "padding": null,
            "right": null,
            "top": null,
            "visibility": null,
            "width": null
          }
        },
        "ed5f13713e004fc4949e24a939ecb29e": {
          "model_module": "@jupyter-widgets/controls",
          "model_name": "ProgressStyleModel",
          "model_module_version": "1.5.0",
          "state": {
            "_model_module": "@jupyter-widgets/controls",
            "_model_module_version": "1.5.0",
            "_model_name": "ProgressStyleModel",
            "_view_count": null,
            "_view_module": "@jupyter-widgets/base",
            "_view_module_version": "1.2.0",
            "_view_name": "StyleView",
            "bar_color": null,
            "description_width": ""
          }
        },
        "4d15239cfc9c4cba92bb40a8acb12345": {
          "model_module": "@jupyter-widgets/base",
          "model_name": "LayoutModel",
          "model_module_version": "1.2.0",
          "state": {
            "_model_module": "@jupyter-widgets/base",
            "_model_module_version": "1.2.0",
            "_model_name": "LayoutModel",
            "_view_count": null,
            "_view_module": "@jupyter-widgets/base",
            "_view_module_version": "1.2.0",
            "_view_name": "LayoutView",
            "align_content": null,
            "align_items": null,
            "align_self": null,
            "border": null,
            "bottom": null,
            "display": null,
            "flex": null,
            "flex_flow": null,
            "grid_area": null,
            "grid_auto_columns": null,
            "grid_auto_flow": null,
            "grid_auto_rows": null,
            "grid_column": null,
            "grid_gap": null,
            "grid_row": null,
            "grid_template_areas": null,
            "grid_template_columns": null,
            "grid_template_rows": null,
            "height": null,
            "justify_content": null,
            "justify_items": null,
            "left": null,
            "margin": null,
            "max_height": null,
            "max_width": null,
            "min_height": null,
            "min_width": null,
            "object_fit": null,
            "object_position": null,
            "order": null,
            "overflow": null,
            "overflow_x": null,
            "overflow_y": null,
            "padding": null,
            "right": null,
            "top": null,
            "visibility": null,
            "width": null
          }
        },
        "49d881a719be4f2f83cbd2587e260d82": {
          "model_module": "@jupyter-widgets/controls",
          "model_name": "DescriptionStyleModel",
          "model_module_version": "1.5.0",
          "state": {
            "_model_module": "@jupyter-widgets/controls",
            "_model_module_version": "1.5.0",
            "_model_name": "DescriptionStyleModel",
            "_view_count": null,
            "_view_module": "@jupyter-widgets/base",
            "_view_module_version": "1.2.0",
            "_view_name": "StyleView",
            "description_width": ""
          }
        },
        "b99b3417ea69498ab44c7b9a35c1f982": {
          "model_module": "@jupyter-widgets/controls",
          "model_name": "HBoxModel",
          "model_module_version": "1.5.0",
          "state": {
            "_dom_classes": [],
            "_model_module": "@jupyter-widgets/controls",
            "_model_module_version": "1.5.0",
            "_model_name": "HBoxModel",
            "_view_count": null,
            "_view_module": "@jupyter-widgets/controls",
            "_view_module_version": "1.5.0",
            "_view_name": "HBoxView",
            "box_style": "",
            "children": [
              "IPY_MODEL_57ef0487fdbc43a487669e270958a61d",
              "IPY_MODEL_0ddea6f4058540cdaf792398dce2ba12",
              "IPY_MODEL_5e37a6f0366947cd8a1d5202a32cf31a"
            ],
            "layout": "IPY_MODEL_3cf3d135e55444e3ae1399af6729a22d"
          }
        },
        "57ef0487fdbc43a487669e270958a61d": {
          "model_module": "@jupyter-widgets/controls",
          "model_name": "HTMLModel",
          "model_module_version": "1.5.0",
          "state": {
            "_dom_classes": [],
            "_model_module": "@jupyter-widgets/controls",
            "_model_module_version": "1.5.0",
            "_model_name": "HTMLModel",
            "_view_count": null,
            "_view_module": "@jupyter-widgets/controls",
            "_view_module_version": "1.5.0",
            "_view_name": "HTMLView",
            "description": "",
            "description_tooltip": null,
            "layout": "IPY_MODEL_07b47ec2de8d4bda90cf23280f834d53",
            "placeholder": "​",
            "style": "IPY_MODEL_3d488a18601c40679abf48c1ab1eff8b",
            "value": "tokenizer.json: 100%"
          }
        },
        "0ddea6f4058540cdaf792398dce2ba12": {
          "model_module": "@jupyter-widgets/controls",
          "model_name": "FloatProgressModel",
          "model_module_version": "1.5.0",
          "state": {
            "_dom_classes": [],
            "_model_module": "@jupyter-widgets/controls",
            "_model_module_version": "1.5.0",
            "_model_name": "FloatProgressModel",
            "_view_count": null,
            "_view_module": "@jupyter-widgets/controls",
            "_view_module_version": "1.5.0",
            "_view_name": "ProgressView",
            "bar_style": "success",
            "description": "",
            "description_tooltip": null,
            "layout": "IPY_MODEL_a120a10407a64c38953be93e1b095315",
            "max": 2107652,
            "min": 0,
            "orientation": "horizontal",
            "style": "IPY_MODEL_b5fbd89c3a5c41488256a13ec5bf8b99",
            "value": 2107652
          }
        },
        "5e37a6f0366947cd8a1d5202a32cf31a": {
          "model_module": "@jupyter-widgets/controls",
          "model_name": "HTMLModel",
          "model_module_version": "1.5.0",
          "state": {
            "_dom_classes": [],
            "_model_module": "@jupyter-widgets/controls",
            "_model_module_version": "1.5.0",
            "_model_name": "HTMLModel",
            "_view_count": null,
            "_view_module": "@jupyter-widgets/controls",
            "_view_module_version": "1.5.0",
            "_view_name": "HTMLView",
            "description": "",
            "description_tooltip": null,
            "layout": "IPY_MODEL_4f0c541331054672b2e3666148c21f65",
            "placeholder": "​",
            "style": "IPY_MODEL_d1810f56cc8447bbbe3b56f9c8218301",
            "value": " 2.11M/2.11M [00:00&lt;00:00, 25.1MB/s]"
          }
        },
        "3cf3d135e55444e3ae1399af6729a22d": {
          "model_module": "@jupyter-widgets/base",
          "model_name": "LayoutModel",
          "model_module_version": "1.2.0",
          "state": {
            "_model_module": "@jupyter-widgets/base",
            "_model_module_version": "1.2.0",
            "_model_name": "LayoutModel",
            "_view_count": null,
            "_view_module": "@jupyter-widgets/base",
            "_view_module_version": "1.2.0",
            "_view_name": "LayoutView",
            "align_content": null,
            "align_items": null,
            "align_self": null,
            "border": null,
            "bottom": null,
            "display": null,
            "flex": null,
            "flex_flow": null,
            "grid_area": null,
            "grid_auto_columns": null,
            "grid_auto_flow": null,
            "grid_auto_rows": null,
            "grid_column": null,
            "grid_gap": null,
            "grid_row": null,
            "grid_template_areas": null,
            "grid_template_columns": null,
            "grid_template_rows": null,
            "height": null,
            "justify_content": null,
            "justify_items": null,
            "left": null,
            "margin": null,
            "max_height": null,
            "max_width": null,
            "min_height": null,
            "min_width": null,
            "object_fit": null,
            "object_position": null,
            "order": null,
            "overflow": null,
            "overflow_x": null,
            "overflow_y": null,
            "padding": null,
            "right": null,
            "top": null,
            "visibility": null,
            "width": null
          }
        },
        "07b47ec2de8d4bda90cf23280f834d53": {
          "model_module": "@jupyter-widgets/base",
          "model_name": "LayoutModel",
          "model_module_version": "1.2.0",
          "state": {
            "_model_module": "@jupyter-widgets/base",
            "_model_module_version": "1.2.0",
            "_model_name": "LayoutModel",
            "_view_count": null,
            "_view_module": "@jupyter-widgets/base",
            "_view_module_version": "1.2.0",
            "_view_name": "LayoutView",
            "align_content": null,
            "align_items": null,
            "align_self": null,
            "border": null,
            "bottom": null,
            "display": null,
            "flex": null,
            "flex_flow": null,
            "grid_area": null,
            "grid_auto_columns": null,
            "grid_auto_flow": null,
            "grid_auto_rows": null,
            "grid_column": null,
            "grid_gap": null,
            "grid_row": null,
            "grid_template_areas": null,
            "grid_template_columns": null,
            "grid_template_rows": null,
            "height": null,
            "justify_content": null,
            "justify_items": null,
            "left": null,
            "margin": null,
            "max_height": null,
            "max_width": null,
            "min_height": null,
            "min_width": null,
            "object_fit": null,
            "object_position": null,
            "order": null,
            "overflow": null,
            "overflow_x": null,
            "overflow_y": null,
            "padding": null,
            "right": null,
            "top": null,
            "visibility": null,
            "width": null
          }
        },
        "3d488a18601c40679abf48c1ab1eff8b": {
          "model_module": "@jupyter-widgets/controls",
          "model_name": "DescriptionStyleModel",
          "model_module_version": "1.5.0",
          "state": {
            "_model_module": "@jupyter-widgets/controls",
            "_model_module_version": "1.5.0",
            "_model_name": "DescriptionStyleModel",
            "_view_count": null,
            "_view_module": "@jupyter-widgets/base",
            "_view_module_version": "1.2.0",
            "_view_name": "StyleView",
            "description_width": ""
          }
        },
        "a120a10407a64c38953be93e1b095315": {
          "model_module": "@jupyter-widgets/base",
          "model_name": "LayoutModel",
          "model_module_version": "1.2.0",
          "state": {
            "_model_module": "@jupyter-widgets/base",
            "_model_module_version": "1.2.0",
            "_model_name": "LayoutModel",
            "_view_count": null,
            "_view_module": "@jupyter-widgets/base",
            "_view_module_version": "1.2.0",
            "_view_name": "LayoutView",
            "align_content": null,
            "align_items": null,
            "align_self": null,
            "border": null,
            "bottom": null,
            "display": null,
            "flex": null,
            "flex_flow": null,
            "grid_area": null,
            "grid_auto_columns": null,
            "grid_auto_flow": null,
            "grid_auto_rows": null,
            "grid_column": null,
            "grid_gap": null,
            "grid_row": null,
            "grid_template_areas": null,
            "grid_template_columns": null,
            "grid_template_rows": null,
            "height": null,
            "justify_content": null,
            "justify_items": null,
            "left": null,
            "margin": null,
            "max_height": null,
            "max_width": null,
            "min_height": null,
            "min_width": null,
            "object_fit": null,
            "object_position": null,
            "order": null,
            "overflow": null,
            "overflow_x": null,
            "overflow_y": null,
            "padding": null,
            "right": null,
            "top": null,
            "visibility": null,
            "width": null
          }
        },
        "b5fbd89c3a5c41488256a13ec5bf8b99": {
          "model_module": "@jupyter-widgets/controls",
          "model_name": "ProgressStyleModel",
          "model_module_version": "1.5.0",
          "state": {
            "_model_module": "@jupyter-widgets/controls",
            "_model_module_version": "1.5.0",
            "_model_name": "ProgressStyleModel",
            "_view_count": null,
            "_view_module": "@jupyter-widgets/base",
            "_view_module_version": "1.2.0",
            "_view_name": "StyleView",
            "bar_color": null,
            "description_width": ""
          }
        },
        "4f0c541331054672b2e3666148c21f65": {
          "model_module": "@jupyter-widgets/base",
          "model_name": "LayoutModel",
          "model_module_version": "1.2.0",
          "state": {
            "_model_module": "@jupyter-widgets/base",
            "_model_module_version": "1.2.0",
            "_model_name": "LayoutModel",
            "_view_count": null,
            "_view_module": "@jupyter-widgets/base",
            "_view_module_version": "1.2.0",
            "_view_name": "LayoutView",
            "align_content": null,
            "align_items": null,
            "align_self": null,
            "border": null,
            "bottom": null,
            "display": null,
            "flex": null,
            "flex_flow": null,
            "grid_area": null,
            "grid_auto_columns": null,
            "grid_auto_flow": null,
            "grid_auto_rows": null,
            "grid_column": null,
            "grid_gap": null,
            "grid_row": null,
            "grid_template_areas": null,
            "grid_template_columns": null,
            "grid_template_rows": null,
            "height": null,
            "justify_content": null,
            "justify_items": null,
            "left": null,
            "margin": null,
            "max_height": null,
            "max_width": null,
            "min_height": null,
            "min_width": null,
            "object_fit": null,
            "object_position": null,
            "order": null,
            "overflow": null,
            "overflow_x": null,
            "overflow_y": null,
            "padding": null,
            "right": null,
            "top": null,
            "visibility": null,
            "width": null
          }
        },
        "d1810f56cc8447bbbe3b56f9c8218301": {
          "model_module": "@jupyter-widgets/controls",
          "model_name": "DescriptionStyleModel",
          "model_module_version": "1.5.0",
          "state": {
            "_model_module": "@jupyter-widgets/controls",
            "_model_module_version": "1.5.0",
            "_model_name": "DescriptionStyleModel",
            "_view_count": null,
            "_view_module": "@jupyter-widgets/base",
            "_view_module_version": "1.2.0",
            "_view_name": "StyleView",
            "description_width": ""
          }
        },
        "441eb01568b0460e88e9ad9ce58759a7": {
          "model_module": "@jupyter-widgets/controls",
          "model_name": "HBoxModel",
          "model_module_version": "1.5.0",
          "state": {
            "_dom_classes": [],
            "_model_module": "@jupyter-widgets/controls",
            "_model_module_version": "1.5.0",
            "_model_name": "HBoxModel",
            "_view_count": null,
            "_view_module": "@jupyter-widgets/controls",
            "_view_module_version": "1.5.0",
            "_view_name": "HBoxView",
            "box_style": "",
            "children": [
              "IPY_MODEL_22a5c5560ba44877a878368be798e152",
              "IPY_MODEL_040de586698d4e54bb87045649ed719f",
              "IPY_MODEL_83781d83f5274c38b65e068266a426d1"
            ],
            "layout": "IPY_MODEL_2f702221adae4dc99cc45f0c365b84f4"
          }
        },
        "22a5c5560ba44877a878368be798e152": {
          "model_module": "@jupyter-widgets/controls",
          "model_name": "HTMLModel",
          "model_module_version": "1.5.0",
          "state": {
            "_dom_classes": [],
            "_model_module": "@jupyter-widgets/controls",
            "_model_module_version": "1.5.0",
            "_model_name": "HTMLModel",
            "_view_count": null,
            "_view_module": "@jupyter-widgets/controls",
            "_view_module_version": "1.5.0",
            "_view_name": "HTMLView",
            "description": "",
            "description_tooltip": null,
            "layout": "IPY_MODEL_6290fa8f3cff45ab9294388b84bda823",
            "placeholder": "​",
            "style": "IPY_MODEL_c55dedeeabba4339ba5ef7d572a9f609",
            "value": "special_tokens_map.json: 100%"
          }
        },
        "040de586698d4e54bb87045649ed719f": {
          "model_module": "@jupyter-widgets/controls",
          "model_name": "FloatProgressModel",
          "model_module_version": "1.5.0",
          "state": {
            "_dom_classes": [],
            "_model_module": "@jupyter-widgets/controls",
            "_model_module_version": "1.5.0",
            "_model_name": "FloatProgressModel",
            "_view_count": null,
            "_view_module": "@jupyter-widgets/controls",
            "_view_module_version": "1.5.0",
            "_view_name": "ProgressView",
            "bar_style": "success",
            "description": "",
            "description_tooltip": null,
            "layout": "IPY_MODEL_6ae1dda5876543f397e47ac235d3e3de",
            "max": 357,
            "min": 0,
            "orientation": "horizontal",
            "style": "IPY_MODEL_adce1841bdbe4d08a84e51bd2294cd2d",
            "value": 357
          }
        },
        "83781d83f5274c38b65e068266a426d1": {
          "model_module": "@jupyter-widgets/controls",
          "model_name": "HTMLModel",
          "model_module_version": "1.5.0",
          "state": {
            "_dom_classes": [],
            "_model_module": "@jupyter-widgets/controls",
            "_model_module_version": "1.5.0",
            "_model_name": "HTMLModel",
            "_view_count": null,
            "_view_module": "@jupyter-widgets/controls",
            "_view_module_version": "1.5.0",
            "_view_name": "HTMLView",
            "description": "",
            "description_tooltip": null,
            "layout": "IPY_MODEL_f97e42b7bbf6482d89d6b9c9b0922648",
            "placeholder": "​",
            "style": "IPY_MODEL_65f0aaa2c6c342c5a540d18d948a3824",
            "value": " 357/357 [00:00&lt;00:00, 5.19kB/s]"
          }
        },
        "2f702221adae4dc99cc45f0c365b84f4": {
          "model_module": "@jupyter-widgets/base",
          "model_name": "LayoutModel",
          "model_module_version": "1.2.0",
          "state": {
            "_model_module": "@jupyter-widgets/base",
            "_model_module_version": "1.2.0",
            "_model_name": "LayoutModel",
            "_view_count": null,
            "_view_module": "@jupyter-widgets/base",
            "_view_module_version": "1.2.0",
            "_view_name": "LayoutView",
            "align_content": null,
            "align_items": null,
            "align_self": null,
            "border": null,
            "bottom": null,
            "display": null,
            "flex": null,
            "flex_flow": null,
            "grid_area": null,
            "grid_auto_columns": null,
            "grid_auto_flow": null,
            "grid_auto_rows": null,
            "grid_column": null,
            "grid_gap": null,
            "grid_row": null,
            "grid_template_areas": null,
            "grid_template_columns": null,
            "grid_template_rows": null,
            "height": null,
            "justify_content": null,
            "justify_items": null,
            "left": null,
            "margin": null,
            "max_height": null,
            "max_width": null,
            "min_height": null,
            "min_width": null,
            "object_fit": null,
            "object_position": null,
            "order": null,
            "overflow": null,
            "overflow_x": null,
            "overflow_y": null,
            "padding": null,
            "right": null,
            "top": null,
            "visibility": null,
            "width": null
          }
        },
        "6290fa8f3cff45ab9294388b84bda823": {
          "model_module": "@jupyter-widgets/base",
          "model_name": "LayoutModel",
          "model_module_version": "1.2.0",
          "state": {
            "_model_module": "@jupyter-widgets/base",
            "_model_module_version": "1.2.0",
            "_model_name": "LayoutModel",
            "_view_count": null,
            "_view_module": "@jupyter-widgets/base",
            "_view_module_version": "1.2.0",
            "_view_name": "LayoutView",
            "align_content": null,
            "align_items": null,
            "align_self": null,
            "border": null,
            "bottom": null,
            "display": null,
            "flex": null,
            "flex_flow": null,
            "grid_area": null,
            "grid_auto_columns": null,
            "grid_auto_flow": null,
            "grid_auto_rows": null,
            "grid_column": null,
            "grid_gap": null,
            "grid_row": null,
            "grid_template_areas": null,
            "grid_template_columns": null,
            "grid_template_rows": null,
            "height": null,
            "justify_content": null,
            "justify_items": null,
            "left": null,
            "margin": null,
            "max_height": null,
            "max_width": null,
            "min_height": null,
            "min_width": null,
            "object_fit": null,
            "object_position": null,
            "order": null,
            "overflow": null,
            "overflow_x": null,
            "overflow_y": null,
            "padding": null,
            "right": null,
            "top": null,
            "visibility": null,
            "width": null
          }
        },
        "c55dedeeabba4339ba5ef7d572a9f609": {
          "model_module": "@jupyter-widgets/controls",
          "model_name": "DescriptionStyleModel",
          "model_module_version": "1.5.0",
          "state": {
            "_model_module": "@jupyter-widgets/controls",
            "_model_module_version": "1.5.0",
            "_model_name": "DescriptionStyleModel",
            "_view_count": null,
            "_view_module": "@jupyter-widgets/base",
            "_view_module_version": "1.2.0",
            "_view_name": "StyleView",
            "description_width": ""
          }
        },
        "6ae1dda5876543f397e47ac235d3e3de": {
          "model_module": "@jupyter-widgets/base",
          "model_name": "LayoutModel",
          "model_module_version": "1.2.0",
          "state": {
            "_model_module": "@jupyter-widgets/base",
            "_model_module_version": "1.2.0",
            "_model_name": "LayoutModel",
            "_view_count": null,
            "_view_module": "@jupyter-widgets/base",
            "_view_module_version": "1.2.0",
            "_view_name": "LayoutView",
            "align_content": null,
            "align_items": null,
            "align_self": null,
            "border": null,
            "bottom": null,
            "display": null,
            "flex": null,
            "flex_flow": null,
            "grid_area": null,
            "grid_auto_columns": null,
            "grid_auto_flow": null,
            "grid_auto_rows": null,
            "grid_column": null,
            "grid_gap": null,
            "grid_row": null,
            "grid_template_areas": null,
            "grid_template_columns": null,
            "grid_template_rows": null,
            "height": null,
            "justify_content": null,
            "justify_items": null,
            "left": null,
            "margin": null,
            "max_height": null,
            "max_width": null,
            "min_height": null,
            "min_width": null,
            "object_fit": null,
            "object_position": null,
            "order": null,
            "overflow": null,
            "overflow_x": null,
            "overflow_y": null,
            "padding": null,
            "right": null,
            "top": null,
            "visibility": null,
            "width": null
          }
        },
        "adce1841bdbe4d08a84e51bd2294cd2d": {
          "model_module": "@jupyter-widgets/controls",
          "model_name": "ProgressStyleModel",
          "model_module_version": "1.5.0",
          "state": {
            "_model_module": "@jupyter-widgets/controls",
            "_model_module_version": "1.5.0",
            "_model_name": "ProgressStyleModel",
            "_view_count": null,
            "_view_module": "@jupyter-widgets/base",
            "_view_module_version": "1.2.0",
            "_view_name": "StyleView",
            "bar_color": null,
            "description_width": ""
          }
        },
        "f97e42b7bbf6482d89d6b9c9b0922648": {
          "model_module": "@jupyter-widgets/base",
          "model_name": "LayoutModel",
          "model_module_version": "1.2.0",
          "state": {
            "_model_module": "@jupyter-widgets/base",
            "_model_module_version": "1.2.0",
            "_model_name": "LayoutModel",
            "_view_count": null,
            "_view_module": "@jupyter-widgets/base",
            "_view_module_version": "1.2.0",
            "_view_name": "LayoutView",
            "align_content": null,
            "align_items": null,
            "align_self": null,
            "border": null,
            "bottom": null,
            "display": null,
            "flex": null,
            "flex_flow": null,
            "grid_area": null,
            "grid_auto_columns": null,
            "grid_auto_flow": null,
            "grid_auto_rows": null,
            "grid_column": null,
            "grid_gap": null,
            "grid_row": null,
            "grid_template_areas": null,
            "grid_template_columns": null,
            "grid_template_rows": null,
            "height": null,
            "justify_content": null,
            "justify_items": null,
            "left": null,
            "margin": null,
            "max_height": null,
            "max_width": null,
            "min_height": null,
            "min_width": null,
            "object_fit": null,
            "object_position": null,
            "order": null,
            "overflow": null,
            "overflow_x": null,
            "overflow_y": null,
            "padding": null,
            "right": null,
            "top": null,
            "visibility": null,
            "width": null
          }
        },
        "65f0aaa2c6c342c5a540d18d948a3824": {
          "model_module": "@jupyter-widgets/controls",
          "model_name": "DescriptionStyleModel",
          "model_module_version": "1.5.0",
          "state": {
            "_model_module": "@jupyter-widgets/controls",
            "_model_module_version": "1.5.0",
            "_model_name": "DescriptionStyleModel",
            "_view_count": null,
            "_view_module": "@jupyter-widgets/base",
            "_view_module_version": "1.2.0",
            "_view_name": "StyleView",
            "description_width": ""
          }
        },
        "de6b5426f0434e72a622797b930f561b": {
          "model_module": "@jupyter-widgets/controls",
          "model_name": "HBoxModel",
          "model_module_version": "1.5.0",
          "state": {
            "_dom_classes": [],
            "_model_module": "@jupyter-widgets/controls",
            "_model_module_version": "1.5.0",
            "_model_name": "HBoxModel",
            "_view_count": null,
            "_view_module": "@jupyter-widgets/controls",
            "_view_module_version": "1.5.0",
            "_view_name": "HBoxView",
            "box_style": "",
            "children": [
              "IPY_MODEL_272de4c9f66744609d00d1a40bab9fd6",
              "IPY_MODEL_b3f6928eceaa406997cdcd3280a23dd5",
              "IPY_MODEL_fd5e2401538444dda008c87e2a199b09"
            ],
            "layout": "IPY_MODEL_6f0211117b88467d9c545f1aa9d98b04"
          }
        },
        "272de4c9f66744609d00d1a40bab9fd6": {
          "model_module": "@jupyter-widgets/controls",
          "model_name": "HTMLModel",
          "model_module_version": "1.5.0",
          "state": {
            "_dom_classes": [],
            "_model_module": "@jupyter-widgets/controls",
            "_model_module_version": "1.5.0",
            "_model_name": "HTMLModel",
            "_view_count": null,
            "_view_module": "@jupyter-widgets/controls",
            "_view_module_version": "1.5.0",
            "_view_name": "HTMLView",
            "description": "",
            "description_tooltip": null,
            "layout": "IPY_MODEL_3acfa82ff0784a2ea43b67a433eb5cb2",
            "placeholder": "​",
            "style": "IPY_MODEL_87398082a7df4f22a4453bd4e51ba28c",
            "value": "config.json: 100%"
          }
        },
        "b3f6928eceaa406997cdcd3280a23dd5": {
          "model_module": "@jupyter-widgets/controls",
          "model_name": "FloatProgressModel",
          "model_module_version": "1.5.0",
          "state": {
            "_dom_classes": [],
            "_model_module": "@jupyter-widgets/controls",
            "_model_module_version": "1.5.0",
            "_model_name": "FloatProgressModel",
            "_view_count": null,
            "_view_module": "@jupyter-widgets/controls",
            "_view_module_version": "1.5.0",
            "_view_name": "ProgressView",
            "bar_style": "success",
            "description": "",
            "description_tooltip": null,
            "layout": "IPY_MODEL_34c0b950ce4a46b1af1c4a71e285ca69",
            "max": 865,
            "min": 0,
            "orientation": "horizontal",
            "style": "IPY_MODEL_c57f5dca24ff44a1ada54e8f22957a19",
            "value": 865
          }
        },
        "fd5e2401538444dda008c87e2a199b09": {
          "model_module": "@jupyter-widgets/controls",
          "model_name": "HTMLModel",
          "model_module_version": "1.5.0",
          "state": {
            "_dom_classes": [],
            "_model_module": "@jupyter-widgets/controls",
            "_model_module_version": "1.5.0",
            "_model_name": "HTMLModel",
            "_view_count": null,
            "_view_module": "@jupyter-widgets/controls",
            "_view_module_version": "1.5.0",
            "_view_name": "HTMLView",
            "description": "",
            "description_tooltip": null,
            "layout": "IPY_MODEL_169edf99859745ca8e3e32accaa17d63",
            "placeholder": "​",
            "style": "IPY_MODEL_56888ab88b444456918ac2df1668ccb8",
            "value": " 865/865 [00:00&lt;00:00, 29.0kB/s]"
          }
        },
        "6f0211117b88467d9c545f1aa9d98b04": {
          "model_module": "@jupyter-widgets/base",
          "model_name": "LayoutModel",
          "model_module_version": "1.2.0",
          "state": {
            "_model_module": "@jupyter-widgets/base",
            "_model_module_version": "1.2.0",
            "_model_name": "LayoutModel",
            "_view_count": null,
            "_view_module": "@jupyter-widgets/base",
            "_view_module_version": "1.2.0",
            "_view_name": "LayoutView",
            "align_content": null,
            "align_items": null,
            "align_self": null,
            "border": null,
            "bottom": null,
            "display": null,
            "flex": null,
            "flex_flow": null,
            "grid_area": null,
            "grid_auto_columns": null,
            "grid_auto_flow": null,
            "grid_auto_rows": null,
            "grid_column": null,
            "grid_gap": null,
            "grid_row": null,
            "grid_template_areas": null,
            "grid_template_columns": null,
            "grid_template_rows": null,
            "height": null,
            "justify_content": null,
            "justify_items": null,
            "left": null,
            "margin": null,
            "max_height": null,
            "max_width": null,
            "min_height": null,
            "min_width": null,
            "object_fit": null,
            "object_position": null,
            "order": null,
            "overflow": null,
            "overflow_x": null,
            "overflow_y": null,
            "padding": null,
            "right": null,
            "top": null,
            "visibility": null,
            "width": null
          }
        },
        "3acfa82ff0784a2ea43b67a433eb5cb2": {
          "model_module": "@jupyter-widgets/base",
          "model_name": "LayoutModel",
          "model_module_version": "1.2.0",
          "state": {
            "_model_module": "@jupyter-widgets/base",
            "_model_module_version": "1.2.0",
            "_model_name": "LayoutModel",
            "_view_count": null,
            "_view_module": "@jupyter-widgets/base",
            "_view_module_version": "1.2.0",
            "_view_name": "LayoutView",
            "align_content": null,
            "align_items": null,
            "align_self": null,
            "border": null,
            "bottom": null,
            "display": null,
            "flex": null,
            "flex_flow": null,
            "grid_area": null,
            "grid_auto_columns": null,
            "grid_auto_flow": null,
            "grid_auto_rows": null,
            "grid_column": null,
            "grid_gap": null,
            "grid_row": null,
            "grid_template_areas": null,
            "grid_template_columns": null,
            "grid_template_rows": null,
            "height": null,
            "justify_content": null,
            "justify_items": null,
            "left": null,
            "margin": null,
            "max_height": null,
            "max_width": null,
            "min_height": null,
            "min_width": null,
            "object_fit": null,
            "object_position": null,
            "order": null,
            "overflow": null,
            "overflow_x": null,
            "overflow_y": null,
            "padding": null,
            "right": null,
            "top": null,
            "visibility": null,
            "width": null
          }
        },
        "87398082a7df4f22a4453bd4e51ba28c": {
          "model_module": "@jupyter-widgets/controls",
          "model_name": "DescriptionStyleModel",
          "model_module_version": "1.5.0",
          "state": {
            "_model_module": "@jupyter-widgets/controls",
            "_model_module_version": "1.5.0",
            "_model_name": "DescriptionStyleModel",
            "_view_count": null,
            "_view_module": "@jupyter-widgets/base",
            "_view_module_version": "1.2.0",
            "_view_name": "StyleView",
            "description_width": ""
          }
        },
        "34c0b950ce4a46b1af1c4a71e285ca69": {
          "model_module": "@jupyter-widgets/base",
          "model_name": "LayoutModel",
          "model_module_version": "1.2.0",
          "state": {
            "_model_module": "@jupyter-widgets/base",
            "_model_module_version": "1.2.0",
            "_model_name": "LayoutModel",
            "_view_count": null,
            "_view_module": "@jupyter-widgets/base",
            "_view_module_version": "1.2.0",
            "_view_name": "LayoutView",
            "align_content": null,
            "align_items": null,
            "align_self": null,
            "border": null,
            "bottom": null,
            "display": null,
            "flex": null,
            "flex_flow": null,
            "grid_area": null,
            "grid_auto_columns": null,
            "grid_auto_flow": null,
            "grid_auto_rows": null,
            "grid_column": null,
            "grid_gap": null,
            "grid_row": null,
            "grid_template_areas": null,
            "grid_template_columns": null,
            "grid_template_rows": null,
            "height": null,
            "justify_content": null,
            "justify_items": null,
            "left": null,
            "margin": null,
            "max_height": null,
            "max_width": null,
            "min_height": null,
            "min_width": null,
            "object_fit": null,
            "object_position": null,
            "order": null,
            "overflow": null,
            "overflow_x": null,
            "overflow_y": null,
            "padding": null,
            "right": null,
            "top": null,
            "visibility": null,
            "width": null
          }
        },
        "c57f5dca24ff44a1ada54e8f22957a19": {
          "model_module": "@jupyter-widgets/controls",
          "model_name": "ProgressStyleModel",
          "model_module_version": "1.5.0",
          "state": {
            "_model_module": "@jupyter-widgets/controls",
            "_model_module_version": "1.5.0",
            "_model_name": "ProgressStyleModel",
            "_view_count": null,
            "_view_module": "@jupyter-widgets/base",
            "_view_module_version": "1.2.0",
            "_view_name": "StyleView",
            "bar_color": null,
            "description_width": ""
          }
        },
        "169edf99859745ca8e3e32accaa17d63": {
          "model_module": "@jupyter-widgets/base",
          "model_name": "LayoutModel",
          "model_module_version": "1.2.0",
          "state": {
            "_model_module": "@jupyter-widgets/base",
            "_model_module_version": "1.2.0",
            "_model_name": "LayoutModel",
            "_view_count": null,
            "_view_module": "@jupyter-widgets/base",
            "_view_module_version": "1.2.0",
            "_view_name": "LayoutView",
            "align_content": null,
            "align_items": null,
            "align_self": null,
            "border": null,
            "bottom": null,
            "display": null,
            "flex": null,
            "flex_flow": null,
            "grid_area": null,
            "grid_auto_columns": null,
            "grid_auto_flow": null,
            "grid_auto_rows": null,
            "grid_column": null,
            "grid_gap": null,
            "grid_row": null,
            "grid_template_areas": null,
            "grid_template_columns": null,
            "grid_template_rows": null,
            "height": null,
            "justify_content": null,
            "justify_items": null,
            "left": null,
            "margin": null,
            "max_height": null,
            "max_width": null,
            "min_height": null,
            "min_width": null,
            "object_fit": null,
            "object_position": null,
            "order": null,
            "overflow": null,
            "overflow_x": null,
            "overflow_y": null,
            "padding": null,
            "right": null,
            "top": null,
            "visibility": null,
            "width": null
          }
        },
        "56888ab88b444456918ac2df1668ccb8": {
          "model_module": "@jupyter-widgets/controls",
          "model_name": "DescriptionStyleModel",
          "model_module_version": "1.5.0",
          "state": {
            "_model_module": "@jupyter-widgets/controls",
            "_model_module_version": "1.5.0",
            "_model_name": "DescriptionStyleModel",
            "_view_count": null,
            "_view_module": "@jupyter-widgets/base",
            "_view_module_version": "1.2.0",
            "_view_name": "StyleView",
            "description_width": ""
          }
        },
        "20a92a6c13994467b228b66fe9c2abad": {
          "model_module": "@jupyter-widgets/controls",
          "model_name": "HBoxModel",
          "model_module_version": "1.5.0",
          "state": {
            "_dom_classes": [],
            "_model_module": "@jupyter-widgets/controls",
            "_model_module_version": "1.5.0",
            "_model_name": "HBoxModel",
            "_view_count": null,
            "_view_module": "@jupyter-widgets/controls",
            "_view_module_version": "1.5.0",
            "_view_name": "HBoxView",
            "box_style": "",
            "children": [
              "IPY_MODEL_7a3fe9bebd164f96a0da4e998e88ee30",
              "IPY_MODEL_a9f0c08269094a9f9e0ae46545af34ae",
              "IPY_MODEL_5d848732079c4815b2f402782d4c7d75"
            ],
            "layout": "IPY_MODEL_bf5556c47cbe49d7b7598c5142687b89"
          }
        },
        "7a3fe9bebd164f96a0da4e998e88ee30": {
          "model_module": "@jupyter-widgets/controls",
          "model_name": "HTMLModel",
          "model_module_version": "1.5.0",
          "state": {
            "_dom_classes": [],
            "_model_module": "@jupyter-widgets/controls",
            "_model_module_version": "1.5.0",
            "_model_name": "HTMLModel",
            "_view_count": null,
            "_view_module": "@jupyter-widgets/controls",
            "_view_module_version": "1.5.0",
            "_view_name": "HTMLView",
            "description": "",
            "description_tooltip": null,
            "layout": "IPY_MODEL_1c08d39b443f4e9fa5c03a9b82b90cd0",
            "placeholder": "​",
            "style": "IPY_MODEL_64ec4ab04e304c1fae5a7c3a0aaca98e",
            "value": "tokenizer.json: 100%"
          }
        },
        "a9f0c08269094a9f9e0ae46545af34ae": {
          "model_module": "@jupyter-widgets/controls",
          "model_name": "FloatProgressModel",
          "model_module_version": "1.5.0",
          "state": {
            "_dom_classes": [],
            "_model_module": "@jupyter-widgets/controls",
            "_model_module_version": "1.5.0",
            "_model_name": "FloatProgressModel",
            "_view_count": null,
            "_view_module": "@jupyter-widgets/controls",
            "_view_module_version": "1.5.0",
            "_view_name": "ProgressView",
            "bar_style": "success",
            "description": "",
            "description_tooltip": null,
            "layout": "IPY_MODEL_96aa8e71317543218c643b08d61912f7",
            "max": 1434580,
            "min": 0,
            "orientation": "horizontal",
            "style": "IPY_MODEL_805c234a504b460f88b98f47794b79b3",
            "value": 1434580
          }
        },
        "5d848732079c4815b2f402782d4c7d75": {
          "model_module": "@jupyter-widgets/controls",
          "model_name": "HTMLModel",
          "model_module_version": "1.5.0",
          "state": {
            "_dom_classes": [],
            "_model_module": "@jupyter-widgets/controls",
            "_model_module_version": "1.5.0",
            "_model_name": "HTMLModel",
            "_view_count": null,
            "_view_module": "@jupyter-widgets/controls",
            "_view_module_version": "1.5.0",
            "_view_name": "HTMLView",
            "description": "",
            "description_tooltip": null,
            "layout": "IPY_MODEL_ab29bbfa1c0a40b58532bc2dad690c3a",
            "placeholder": "​",
            "style": "IPY_MODEL_4a1ddea947dd4405a22ea7d59cc7cde6",
            "value": " 1.43M/1.43M [00:00&lt;00:00, 8.80MB/s]"
          }
        },
        "bf5556c47cbe49d7b7598c5142687b89": {
          "model_module": "@jupyter-widgets/base",
          "model_name": "LayoutModel",
          "model_module_version": "1.2.0",
          "state": {
            "_model_module": "@jupyter-widgets/base",
            "_model_module_version": "1.2.0",
            "_model_name": "LayoutModel",
            "_view_count": null,
            "_view_module": "@jupyter-widgets/base",
            "_view_module_version": "1.2.0",
            "_view_name": "LayoutView",
            "align_content": null,
            "align_items": null,
            "align_self": null,
            "border": null,
            "bottom": null,
            "display": null,
            "flex": null,
            "flex_flow": null,
            "grid_area": null,
            "grid_auto_columns": null,
            "grid_auto_flow": null,
            "grid_auto_rows": null,
            "grid_column": null,
            "grid_gap": null,
            "grid_row": null,
            "grid_template_areas": null,
            "grid_template_columns": null,
            "grid_template_rows": null,
            "height": null,
            "justify_content": null,
            "justify_items": null,
            "left": null,
            "margin": null,
            "max_height": null,
            "max_width": null,
            "min_height": null,
            "min_width": null,
            "object_fit": null,
            "object_position": null,
            "order": null,
            "overflow": null,
            "overflow_x": null,
            "overflow_y": null,
            "padding": null,
            "right": null,
            "top": null,
            "visibility": null,
            "width": null
          }
        },
        "1c08d39b443f4e9fa5c03a9b82b90cd0": {
          "model_module": "@jupyter-widgets/base",
          "model_name": "LayoutModel",
          "model_module_version": "1.2.0",
          "state": {
            "_model_module": "@jupyter-widgets/base",
            "_model_module_version": "1.2.0",
            "_model_name": "LayoutModel",
            "_view_count": null,
            "_view_module": "@jupyter-widgets/base",
            "_view_module_version": "1.2.0",
            "_view_name": "LayoutView",
            "align_content": null,
            "align_items": null,
            "align_self": null,
            "border": null,
            "bottom": null,
            "display": null,
            "flex": null,
            "flex_flow": null,
            "grid_area": null,
            "grid_auto_columns": null,
            "grid_auto_flow": null,
            "grid_auto_rows": null,
            "grid_column": null,
            "grid_gap": null,
            "grid_row": null,
            "grid_template_areas": null,
            "grid_template_columns": null,
            "grid_template_rows": null,
            "height": null,
            "justify_content": null,
            "justify_items": null,
            "left": null,
            "margin": null,
            "max_height": null,
            "max_width": null,
            "min_height": null,
            "min_width": null,
            "object_fit": null,
            "object_position": null,
            "order": null,
            "overflow": null,
            "overflow_x": null,
            "overflow_y": null,
            "padding": null,
            "right": null,
            "top": null,
            "visibility": null,
            "width": null
          }
        },
        "64ec4ab04e304c1fae5a7c3a0aaca98e": {
          "model_module": "@jupyter-widgets/controls",
          "model_name": "DescriptionStyleModel",
          "model_module_version": "1.5.0",
          "state": {
            "_model_module": "@jupyter-widgets/controls",
            "_model_module_version": "1.5.0",
            "_model_name": "DescriptionStyleModel",
            "_view_count": null,
            "_view_module": "@jupyter-widgets/base",
            "_view_module_version": "1.2.0",
            "_view_name": "StyleView",
            "description_width": ""
          }
        },
        "96aa8e71317543218c643b08d61912f7": {
          "model_module": "@jupyter-widgets/base",
          "model_name": "LayoutModel",
          "model_module_version": "1.2.0",
          "state": {
            "_model_module": "@jupyter-widgets/base",
            "_model_module_version": "1.2.0",
            "_model_name": "LayoutModel",
            "_view_count": null,
            "_view_module": "@jupyter-widgets/base",
            "_view_module_version": "1.2.0",
            "_view_name": "LayoutView",
            "align_content": null,
            "align_items": null,
            "align_self": null,
            "border": null,
            "bottom": null,
            "display": null,
            "flex": null,
            "flex_flow": null,
            "grid_area": null,
            "grid_auto_columns": null,
            "grid_auto_flow": null,
            "grid_auto_rows": null,
            "grid_column": null,
            "grid_gap": null,
            "grid_row": null,
            "grid_template_areas": null,
            "grid_template_columns": null,
            "grid_template_rows": null,
            "height": null,
            "justify_content": null,
            "justify_items": null,
            "left": null,
            "margin": null,
            "max_height": null,
            "max_width": null,
            "min_height": null,
            "min_width": null,
            "object_fit": null,
            "object_position": null,
            "order": null,
            "overflow": null,
            "overflow_x": null,
            "overflow_y": null,
            "padding": null,
            "right": null,
            "top": null,
            "visibility": null,
            "width": null
          }
        },
        "805c234a504b460f88b98f47794b79b3": {
          "model_module": "@jupyter-widgets/controls",
          "model_name": "ProgressStyleModel",
          "model_module_version": "1.5.0",
          "state": {
            "_model_module": "@jupyter-widgets/controls",
            "_model_module_version": "1.5.0",
            "_model_name": "ProgressStyleModel",
            "_view_count": null,
            "_view_module": "@jupyter-widgets/base",
            "_view_module_version": "1.2.0",
            "_view_name": "StyleView",
            "bar_color": null,
            "description_width": ""
          }
        },
        "ab29bbfa1c0a40b58532bc2dad690c3a": {
          "model_module": "@jupyter-widgets/base",
          "model_name": "LayoutModel",
          "model_module_version": "1.2.0",
          "state": {
            "_model_module": "@jupyter-widgets/base",
            "_model_module_version": "1.2.0",
            "_model_name": "LayoutModel",
            "_view_count": null,
            "_view_module": "@jupyter-widgets/base",
            "_view_module_version": "1.2.0",
            "_view_name": "LayoutView",
            "align_content": null,
            "align_items": null,
            "align_self": null,
            "border": null,
            "bottom": null,
            "display": null,
            "flex": null,
            "flex_flow": null,
            "grid_area": null,
            "grid_auto_columns": null,
            "grid_auto_flow": null,
            "grid_auto_rows": null,
            "grid_column": null,
            "grid_gap": null,
            "grid_row": null,
            "grid_template_areas": null,
            "grid_template_columns": null,
            "grid_template_rows": null,
            "height": null,
            "justify_content": null,
            "justify_items": null,
            "left": null,
            "margin": null,
            "max_height": null,
            "max_width": null,
            "min_height": null,
            "min_width": null,
            "object_fit": null,
            "object_position": null,
            "order": null,
            "overflow": null,
            "overflow_x": null,
            "overflow_y": null,
            "padding": null,
            "right": null,
            "top": null,
            "visibility": null,
            "width": null
          }
        },
        "4a1ddea947dd4405a22ea7d59cc7cde6": {
          "model_module": "@jupyter-widgets/controls",
          "model_name": "DescriptionStyleModel",
          "model_module_version": "1.5.0",
          "state": {
            "_model_module": "@jupyter-widgets/controls",
            "_model_module_version": "1.5.0",
            "_model_name": "DescriptionStyleModel",
            "_view_count": null,
            "_view_module": "@jupyter-widgets/base",
            "_view_module_version": "1.2.0",
            "_view_name": "StyleView",
            "description_width": ""
          }
        }
      }
    }
  },
  "cells": [
    {
      "cell_type": "markdown",
      "metadata": {
        "id": "view-in-github",
        "colab_type": "text"
      },
      "source": [
        "<a href=\"https://colab.research.google.com/github/Fjallripa/TinyStories/blob/main/Testing_different_models.ipynb\" target=\"_parent\"><img src=\"https://colab.research.google.com/assets/colab-badge.svg\" alt=\"Open In Colab\"/></a>"
      ]
    },
    {
      "cell_type": "markdown",
      "source": [
        "# Trying out inference on different transformers"
      ],
      "metadata": {
        "id": "VsLNzdnJdwlC"
      }
    },
    {
      "cell_type": "code",
      "source": [
        "from transformers import GPTNeoForCausalLM, AutoTokenizer, AutoModelForCausalLM\n",
        "import matplotlib.pyplot as plt\n",
        "import numpy as np\n",
        "import torch\n",
        "import os\n",
        "\n",
        "device = \"cuda\" if torch.cuda.is_available() else \"cpu\"\n",
        "print(device)"
      ],
      "metadata": {
        "colab": {
          "base_uri": "https://localhost:8080/"
        },
        "id": "jciTKGUKXqhm",
        "outputId": "e499ecd8-ac71-402c-ae24-4b68c01430dc"
      },
      "execution_count": null,
      "outputs": [
        {
          "output_type": "stream",
          "name": "stdout",
          "text": [
            "cpu\n"
          ]
        }
      ]
    },
    {
      "cell_type": "markdown",
      "source": [
        "## Our German models"
      ],
      "metadata": {
        "id": "p4qSfmny_hIx"
      }
    },
    {
      "cell_type": "code",
      "source": [
        "tokenizer = AutoTokenizer.from_pretrained(\"dbmdz/german-gpt2\")\n",
        "\n",
        "prompt = \"Es war einmal\"\n",
        "input_ids = tokenizer.encode(prompt, return_tensors=\"pt\").to(device)\n",
        "attention_mask = torch.ones(input_ids.shape, device=device)"
      ],
      "metadata": {
        "colab": {
          "base_uri": "https://localhost:8080/",
          "height": 81,
          "referenced_widgets": [
            "de6b5426f0434e72a622797b930f561b",
            "272de4c9f66744609d00d1a40bab9fd6",
            "b3f6928eceaa406997cdcd3280a23dd5",
            "fd5e2401538444dda008c87e2a199b09",
            "6f0211117b88467d9c545f1aa9d98b04",
            "3acfa82ff0784a2ea43b67a433eb5cb2",
            "87398082a7df4f22a4453bd4e51ba28c",
            "34c0b950ce4a46b1af1c4a71e285ca69",
            "c57f5dca24ff44a1ada54e8f22957a19",
            "169edf99859745ca8e3e32accaa17d63",
            "56888ab88b444456918ac2df1668ccb8",
            "20a92a6c13994467b228b66fe9c2abad",
            "7a3fe9bebd164f96a0da4e998e88ee30",
            "a9f0c08269094a9f9e0ae46545af34ae",
            "5d848732079c4815b2f402782d4c7d75",
            "bf5556c47cbe49d7b7598c5142687b89",
            "1c08d39b443f4e9fa5c03a9b82b90cd0",
            "64ec4ab04e304c1fae5a7c3a0aaca98e",
            "96aa8e71317543218c643b08d61912f7",
            "805c234a504b460f88b98f47794b79b3",
            "ab29bbfa1c0a40b58532bc2dad690c3a",
            "4a1ddea947dd4405a22ea7d59cc7cde6"
          ]
        },
        "id": "i-AA-zfNAvMH",
        "outputId": "82c4342e-fade-4ee6-a861-3ea524d5d895"
      },
      "execution_count": null,
      "outputs": [
        {
          "output_type": "display_data",
          "data": {
            "text/plain": [
              "config.json:   0%|          | 0.00/865 [00:00<?, ?B/s]"
            ],
            "application/vnd.jupyter.widget-view+json": {
              "version_major": 2,
              "version_minor": 0,
              "model_id": "de6b5426f0434e72a622797b930f561b"
            }
          },
          "metadata": {}
        },
        {
          "output_type": "display_data",
          "data": {
            "text/plain": [
              "tokenizer.json:   0%|          | 0.00/1.43M [00:00<?, ?B/s]"
            ],
            "application/vnd.jupyter.widget-view+json": {
              "version_major": 2,
              "version_minor": 0,
              "model_id": "20a92a6c13994467b228b66fe9c2abad"
            }
          },
          "metadata": {}
        }
      ]
    },
    {
      "cell_type": "markdown",
      "source": [
        "### model-1m-de-2024-03-22T20:26"
      ],
      "metadata": {
        "id": "upeIEIkUCxj6"
      }
    },
    {
      "cell_type": "code",
      "source": [
        "model_directory = \"/content/drive/My Drive/genAI project/model-1m-de-2024-03-22T20:26:55.933894\"\n",
        "model = GPTNeoForCausalLM.from_pretrained(model_directory).to(device)\n",
        "\n",
        "\n",
        "output = model.generate(input_ids, max_length = 200, num_beams=2, temperature=0,\n",
        "                        attention_mask=attention_mask, pad_token_id = 50256,\n",
        "                        repetition_penalty=3.0, #do_sample=True,\n",
        "                        )\n",
        "output_text = tokenizer.decode(output[0], skip_special_tokens=True)\n",
        "print(output_text)"
      ],
      "metadata": {
        "colab": {
          "base_uri": "https://localhost:8080/"
        },
        "id": "f4mxWc1oCiXl",
        "outputId": "8b131879-40ce-4b4f-f21f-cbecaf7062bd"
      },
      "execution_count": null,
      "outputs": [
        {
          "output_type": "stream",
          "name": "stderr",
          "text": [
            "/usr/local/lib/python3.10/dist-packages/transformers/generation/configuration_utils.py:410: UserWarning: `do_sample` is set to `False`. However, `temperature` is set to `0` -- this flag is only used in sample-based generation modes. You should set `do_sample=True` or unset `temperature`.\n",
            "  warnings.warn(\n"
          ]
        },
        {
          "output_type": "stream",
          "name": "stdout",
          "text": [
            "Es war einmal ein kleiner Junge namens Timmy. Timmy liebte es, mit seinen Freunden zu spielen. Eines Tages ging Timmys Mutter in den Park und sagte: \"Ich will nicht aufräumen.\" Timmy fragte ihn, ob er einen großen Baum besteigen könnte. Timmy dachte, was falsch sei. Timmy wollte auch helfen, aber er konnte nicht finden. Timmy fühlte sich traurig, weil er keine Angst hatte. Er wusste nicht, dass seine Mutter Recht hatte, dass er die Hilfe brauchte. Seine Mutter sagte ihm, sie solle vorsichtig sein, wenn man das Essen essen würde. Timmy lernte, dass manchmal wichtig ist, um Dinge zu kümmern.\n",
            " Einmal war da ein kleines Mädchen namens Lily. Sie liebte es, mit ihren Spielzeugen zu spielen. Eines Tages fand Lilys Mami ihr eine große Schachtel Spielzeugauto. Es war sehr hübsch aus dem Boden. Lily sah so glücklich und bat ihre Mami, wie der Laden zu reinigen. Ihre Mami sagte: „\n"
          ]
        }
      ]
    },
    {
      "cell_type": "code",
      "source": [
        "output = model.generate(input_ids, max_length = 1000, num_beams=2, temperature=0,\n",
        "                        attention_mask=attention_mask, pad_token_id = 50256,\n",
        "                        repetition_penalty=3.0, length_penalty=1000.0, #do_sample=True,\n",
        "                        )\n",
        "output_text = tokenizer.decode(output[0], skip_special_tokens=True)\n",
        "print(output_text)"
      ],
      "metadata": {
        "colab": {
          "base_uri": "https://localhost:8080/",
          "height": 356
        },
        "id": "mcwafQBPH1RP",
        "outputId": "db4997e0-d662-4dd0-bda6-3cb89a91c662"
      },
      "execution_count": null,
      "outputs": [
        {
          "output_type": "error",
          "ename": "OverflowError",
          "evalue": "(34, 'Numerical result out of range')",
          "traceback": [
            "\u001b[0;31m---------------------------------------------------------------------------\u001b[0m",
            "\u001b[0;31mOverflowError\u001b[0m                             Traceback (most recent call last)",
            "\u001b[0;32m<ipython-input-13-c3f2a0a69750>\u001b[0m in \u001b[0;36m<cell line: 1>\u001b[0;34m()\u001b[0m\n\u001b[0;32m----> 1\u001b[0;31m output = model.generate(input_ids, max_length = 1000, num_beams=2, temperature=0,\n\u001b[0m\u001b[1;32m      2\u001b[0m                         \u001b[0mattention_mask\u001b[0m\u001b[0;34m=\u001b[0m\u001b[0mattention_mask\u001b[0m\u001b[0;34m,\u001b[0m \u001b[0mpad_token_id\u001b[0m \u001b[0;34m=\u001b[0m \u001b[0;36m50256\u001b[0m\u001b[0;34m,\u001b[0m\u001b[0;34m\u001b[0m\u001b[0;34m\u001b[0m\u001b[0m\n\u001b[1;32m      3\u001b[0m                         \u001b[0mrepetition_penalty\u001b[0m\u001b[0;34m=\u001b[0m\u001b[0;36m3.0\u001b[0m\u001b[0;34m,\u001b[0m \u001b[0mlength_penalty\u001b[0m\u001b[0;34m=\u001b[0m\u001b[0;36m1000.0\u001b[0m\u001b[0;34m,\u001b[0m \u001b[0;31m#do_sample=True,\u001b[0m\u001b[0;34m\u001b[0m\u001b[0;34m\u001b[0m\u001b[0m\n\u001b[1;32m      4\u001b[0m                         )\n\u001b[1;32m      5\u001b[0m \u001b[0moutput_text\u001b[0m \u001b[0;34m=\u001b[0m \u001b[0mtokenizer\u001b[0m\u001b[0;34m.\u001b[0m\u001b[0mdecode\u001b[0m\u001b[0;34m(\u001b[0m\u001b[0moutput\u001b[0m\u001b[0;34m[\u001b[0m\u001b[0;36m0\u001b[0m\u001b[0;34m]\u001b[0m\u001b[0;34m,\u001b[0m \u001b[0mskip_special_tokens\u001b[0m\u001b[0;34m=\u001b[0m\u001b[0;32mTrue\u001b[0m\u001b[0;34m)\u001b[0m\u001b[0;34m\u001b[0m\u001b[0;34m\u001b[0m\u001b[0m\n",
            "\u001b[0;32m/usr/local/lib/python3.10/dist-packages/torch/utils/_contextlib.py\u001b[0m in \u001b[0;36mdecorate_context\u001b[0;34m(*args, **kwargs)\u001b[0m\n\u001b[1;32m    113\u001b[0m     \u001b[0;32mdef\u001b[0m \u001b[0mdecorate_context\u001b[0m\u001b[0;34m(\u001b[0m\u001b[0;34m*\u001b[0m\u001b[0margs\u001b[0m\u001b[0;34m,\u001b[0m \u001b[0;34m**\u001b[0m\u001b[0mkwargs\u001b[0m\u001b[0;34m)\u001b[0m\u001b[0;34m:\u001b[0m\u001b[0;34m\u001b[0m\u001b[0;34m\u001b[0m\u001b[0m\n\u001b[1;32m    114\u001b[0m         \u001b[0;32mwith\u001b[0m \u001b[0mctx_factory\u001b[0m\u001b[0;34m(\u001b[0m\u001b[0;34m)\u001b[0m\u001b[0;34m:\u001b[0m\u001b[0;34m\u001b[0m\u001b[0;34m\u001b[0m\u001b[0m\n\u001b[0;32m--> 115\u001b[0;31m             \u001b[0;32mreturn\u001b[0m \u001b[0mfunc\u001b[0m\u001b[0;34m(\u001b[0m\u001b[0;34m*\u001b[0m\u001b[0margs\u001b[0m\u001b[0;34m,\u001b[0m \u001b[0;34m**\u001b[0m\u001b[0mkwargs\u001b[0m\u001b[0;34m)\u001b[0m\u001b[0;34m\u001b[0m\u001b[0;34m\u001b[0m\u001b[0m\n\u001b[0m\u001b[1;32m    116\u001b[0m \u001b[0;34m\u001b[0m\u001b[0m\n\u001b[1;32m    117\u001b[0m     \u001b[0;32mreturn\u001b[0m \u001b[0mdecorate_context\u001b[0m\u001b[0;34m\u001b[0m\u001b[0;34m\u001b[0m\u001b[0m\n",
            "\u001b[0;32m/usr/local/lib/python3.10/dist-packages/transformers/generation/utils.py\u001b[0m in \u001b[0;36mgenerate\u001b[0;34m(self, inputs, generation_config, logits_processor, stopping_criteria, prefix_allowed_tokens_fn, synced_gpus, assistant_model, streamer, negative_prompt_ids, negative_prompt_attention_mask, **kwargs)\u001b[0m\n\u001b[1;32m   1624\u001b[0m             )\n\u001b[1;32m   1625\u001b[0m             \u001b[0;31m# 13. run beam search\u001b[0m\u001b[0;34m\u001b[0m\u001b[0;34m\u001b[0m\u001b[0m\n\u001b[0;32m-> 1626\u001b[0;31m             return self.beam_search(\n\u001b[0m\u001b[1;32m   1627\u001b[0m                 \u001b[0minput_ids\u001b[0m\u001b[0;34m,\u001b[0m\u001b[0;34m\u001b[0m\u001b[0;34m\u001b[0m\u001b[0m\n\u001b[1;32m   1628\u001b[0m                 \u001b[0mbeam_scorer\u001b[0m\u001b[0;34m,\u001b[0m\u001b[0;34m\u001b[0m\u001b[0;34m\u001b[0m\u001b[0m\n",
            "\u001b[0;32m/usr/local/lib/python3.10/dist-packages/transformers/generation/utils.py\u001b[0m in \u001b[0;36mbeam_search\u001b[0;34m(self, input_ids, beam_scorer, logits_processor, stopping_criteria, max_length, pad_token_id, eos_token_id, output_attentions, output_hidden_states, output_scores, output_logits, return_dict_in_generate, synced_gpus, sequential, **model_kwargs)\u001b[0m\n\u001b[1;32m   3157\u001b[0m                     \u001b[0mthis_peer_finished\u001b[0m \u001b[0;34m=\u001b[0m \u001b[0;32mTrue\u001b[0m\u001b[0;34m\u001b[0m\u001b[0;34m\u001b[0m\u001b[0m\n\u001b[1;32m   3158\u001b[0m \u001b[0;34m\u001b[0m\u001b[0m\n\u001b[0;32m-> 3159\u001b[0;31m         sequence_outputs = beam_scorer.finalize(\n\u001b[0m\u001b[1;32m   3160\u001b[0m             \u001b[0minput_ids\u001b[0m\u001b[0;34m,\u001b[0m\u001b[0;34m\u001b[0m\u001b[0;34m\u001b[0m\u001b[0m\n\u001b[1;32m   3161\u001b[0m             \u001b[0mbeam_scores\u001b[0m\u001b[0;34m,\u001b[0m\u001b[0;34m\u001b[0m\u001b[0;34m\u001b[0m\u001b[0m\n",
            "\u001b[0;32m/usr/local/lib/python3.10/dist-packages/transformers/generation/beam_search.py\u001b[0m in \u001b[0;36mfinalize\u001b[0;34m(self, input_ids, final_beam_scores, final_beam_tokens, final_beam_indices, max_length, pad_token_id, eos_token_id, beam_indices, decoder_prompt_len)\u001b[0m\n\u001b[1;32m    346\u001b[0m                 \u001b[0mbeam_index\u001b[0m \u001b[0;34m=\u001b[0m \u001b[0mbeam_indices\u001b[0m\u001b[0;34m[\u001b[0m\u001b[0mbatch_beam_idx\u001b[0m\u001b[0;34m]\u001b[0m \u001b[0;32mif\u001b[0m \u001b[0mbeam_indices\u001b[0m \u001b[0;32mis\u001b[0m \u001b[0;32mnot\u001b[0m \u001b[0;32mNone\u001b[0m \u001b[0;32melse\u001b[0m \u001b[0;32mNone\u001b[0m\u001b[0;34m\u001b[0m\u001b[0;34m\u001b[0m\u001b[0m\n\u001b[1;32m    347\u001b[0m                 \u001b[0mgenerated_len\u001b[0m \u001b[0;34m=\u001b[0m \u001b[0mfinal_tokens\u001b[0m\u001b[0;34m.\u001b[0m\u001b[0mshape\u001b[0m\u001b[0;34m[\u001b[0m\u001b[0;34m-\u001b[0m\u001b[0;36m1\u001b[0m\u001b[0;34m]\u001b[0m \u001b[0;34m-\u001b[0m \u001b[0mdecoder_prompt_len\u001b[0m\u001b[0;34m\u001b[0m\u001b[0;34m\u001b[0m\u001b[0m\n\u001b[0;32m--> 348\u001b[0;31m                 \u001b[0mbeam_hyp\u001b[0m\u001b[0;34m.\u001b[0m\u001b[0madd\u001b[0m\u001b[0;34m(\u001b[0m\u001b[0mfinal_tokens\u001b[0m\u001b[0;34m,\u001b[0m \u001b[0mfinal_score\u001b[0m\u001b[0;34m,\u001b[0m \u001b[0mbeam_indices\u001b[0m\u001b[0;34m=\u001b[0m\u001b[0mbeam_index\u001b[0m\u001b[0;34m,\u001b[0m \u001b[0mgenerated_len\u001b[0m\u001b[0;34m=\u001b[0m\u001b[0mgenerated_len\u001b[0m\u001b[0;34m)\u001b[0m\u001b[0;34m\u001b[0m\u001b[0;34m\u001b[0m\u001b[0m\n\u001b[0m\u001b[1;32m    349\u001b[0m \u001b[0;34m\u001b[0m\u001b[0m\n\u001b[1;32m    350\u001b[0m         \u001b[0;31m# select the best hypotheses\u001b[0m\u001b[0;34m\u001b[0m\u001b[0;34m\u001b[0m\u001b[0m\n",
            "\u001b[0;32m/usr/local/lib/python3.10/dist-packages/transformers/generation/beam_search.py\u001b[0m in \u001b[0;36madd\u001b[0;34m(self, hyp, sum_logprobs, beam_indices, generated_len)\u001b[0m\n\u001b[1;32m    955\u001b[0m         \"\"\"\n\u001b[1;32m    956\u001b[0m         \u001b[0;32mif\u001b[0m \u001b[0mgenerated_len\u001b[0m \u001b[0;32mis\u001b[0m \u001b[0;32mnot\u001b[0m \u001b[0;32mNone\u001b[0m\u001b[0;34m:\u001b[0m\u001b[0;34m\u001b[0m\u001b[0;34m\u001b[0m\u001b[0m\n\u001b[0;32m--> 957\u001b[0;31m             \u001b[0mscore\u001b[0m \u001b[0;34m=\u001b[0m \u001b[0msum_logprobs\u001b[0m \u001b[0;34m/\u001b[0m \u001b[0;34m(\u001b[0m\u001b[0mgenerated_len\u001b[0m\u001b[0;34m**\u001b[0m\u001b[0mself\u001b[0m\u001b[0;34m.\u001b[0m\u001b[0mlength_penalty\u001b[0m\u001b[0;34m)\u001b[0m\u001b[0;34m\u001b[0m\u001b[0;34m\u001b[0m\u001b[0m\n\u001b[0m\u001b[1;32m    958\u001b[0m         \u001b[0;31m# This 'else' case exists for retrocompatibility\u001b[0m\u001b[0;34m\u001b[0m\u001b[0;34m\u001b[0m\u001b[0m\n\u001b[1;32m    959\u001b[0m         \u001b[0;32melse\u001b[0m\u001b[0;34m:\u001b[0m\u001b[0;34m\u001b[0m\u001b[0;34m\u001b[0m\u001b[0m\n",
            "\u001b[0;31mOverflowError\u001b[0m: (34, 'Numerical result out of range')"
          ]
        }
      ]
    },
    {
      "cell_type": "code",
      "source": [
        "output = model.generate(input_ids, max_length = 200, num_beams=2, temperature=0,\n",
        "                        attention_mask=attention_mask, pad_token_id = 50256,\n",
        "                        #repetition_penalty=0.0, #do_sample=True,\n",
        "                        )\n",
        "output_text = tokenizer.decode(output[0], skip_special_tokens=True)\n",
        "print(output_text)"
      ],
      "metadata": {
        "colab": {
          "base_uri": "https://localhost:8080/"
        },
        "id": "0iVIcfDDDT46",
        "outputId": "7025ac2d-130a-423b-c32c-ebf3199f1e62"
      },
      "execution_count": null,
      "outputs": [
        {
          "output_type": "stream",
          "name": "stderr",
          "text": [
            "/usr/local/lib/python3.10/dist-packages/transformers/generation/configuration_utils.py:410: UserWarning: `do_sample` is set to `False`. However, `temperature` is set to `0` -- this flag is only used in sample-based generation modes. You should set `do_sample=True` or unset `temperature`.\n",
            "  warnings.warn(\n"
          ]
        },
        {
          "output_type": "stream",
          "name": "stdout",
          "text": [
            "Es war einmal ein kleiner Junge namens Timmy. Timmy liebte es, mit seinen Freunden zu spielen. Eines Tages ging Timmy in den Park, um mit seinen Freunden zu spielen. Timmy war sehr glücklich, weil er nicht mehr zu spielen wollte. Timmys Mutter sagte: \"Es ist okay, Timmy. Ich bin froh, dass du mir helfen kann.\" Timmys Mutter sagte: \"Ja, Timmy. Ich bin froh, dass du mir helfen kann.\" Timmy sagte: \"Ja, Timmy. Ich bin froh, dass du mir helfen kann.\" Timmy sagte: \"Ich bin froh, Timmy. Ich bin froh, dass du mir helfen kann.\" Timmy war glücklich und sagte: \"Danke, Timmy. Ich bin froh, dass du mir geholfen hast.\"\n",
            " Einmal war da ein kleiner Junge namens Timmy. Timmy liebte es, mit seinen Freunden zu spielen. Eines Tages ging Timmy mit seiner Mutter in den Park. Timmy liebte es\n"
          ]
        }
      ]
    },
    {
      "cell_type": "code",
      "source": [
        "loss_directory = \"/content/drive/My Drive/genAI project/losses_tensor-1m-de-2024-03-22T20:26:55.933894.pt\"\n",
        "losses = torch.load(loss_directory)\n",
        "fig, ax = plt.subplots()\n",
        "ax.set_title(\"Loss reduction during training\")\n",
        "ax.set_ylabel(\"Loss\")\n",
        "ax.set_xlabel(\"batches processed\")\n",
        "ax.plot(np.array(losses).flatten())\n",
        "fig.show()"
      ],
      "metadata": {
        "colab": {
          "base_uri": "https://localhost:8080/",
          "height": 356
        },
        "id": "Dk-FgLsGHcxR",
        "outputId": "88de6f44-aaba-4ea7-a4e0-c54e4becd308"
      },
      "execution_count": null,
      "outputs": [
        {
          "output_type": "error",
          "ename": "FileNotFoundError",
          "evalue": "[Errno 2] No such file or directory: '/content/drive/My Drive/genAI project/losses_tensor-1m-de-2024-03-22T20:26:55.933894.pt'",
          "traceback": [
            "\u001b[0;31m---------------------------------------------------------------------------\u001b[0m",
            "\u001b[0;31mFileNotFoundError\u001b[0m                         Traceback (most recent call last)",
            "\u001b[0;32m<ipython-input-5-25de94a2e026>\u001b[0m in \u001b[0;36m<cell line: 2>\u001b[0;34m()\u001b[0m\n\u001b[1;32m      1\u001b[0m \u001b[0mloss_directory\u001b[0m \u001b[0;34m=\u001b[0m \u001b[0;34m\"/content/drive/My Drive/genAI project/losses_tensor-1m-de-2024-03-22T20:26:55.933894.pt\"\u001b[0m\u001b[0;34m\u001b[0m\u001b[0;34m\u001b[0m\u001b[0m\n\u001b[0;32m----> 2\u001b[0;31m \u001b[0mlosses\u001b[0m \u001b[0;34m=\u001b[0m \u001b[0mtorch\u001b[0m\u001b[0;34m.\u001b[0m\u001b[0mload\u001b[0m\u001b[0;34m(\u001b[0m\u001b[0mloss_directory\u001b[0m\u001b[0;34m)\u001b[0m\u001b[0;34m\u001b[0m\u001b[0;34m\u001b[0m\u001b[0m\n\u001b[0m\u001b[1;32m      3\u001b[0m \u001b[0mfig\u001b[0m\u001b[0;34m,\u001b[0m \u001b[0max\u001b[0m \u001b[0;34m=\u001b[0m \u001b[0mplt\u001b[0m\u001b[0;34m.\u001b[0m\u001b[0msubplots\u001b[0m\u001b[0;34m(\u001b[0m\u001b[0;34m)\u001b[0m\u001b[0;34m\u001b[0m\u001b[0;34m\u001b[0m\u001b[0m\n\u001b[1;32m      4\u001b[0m \u001b[0max\u001b[0m\u001b[0;34m.\u001b[0m\u001b[0mset_title\u001b[0m\u001b[0;34m(\u001b[0m\u001b[0;34m\"Loss reduction during training\"\u001b[0m\u001b[0;34m)\u001b[0m\u001b[0;34m\u001b[0m\u001b[0;34m\u001b[0m\u001b[0m\n\u001b[1;32m      5\u001b[0m \u001b[0max\u001b[0m\u001b[0;34m.\u001b[0m\u001b[0mset_ylabel\u001b[0m\u001b[0;34m(\u001b[0m\u001b[0;34m\"Loss\"\u001b[0m\u001b[0;34m)\u001b[0m\u001b[0;34m\u001b[0m\u001b[0;34m\u001b[0m\u001b[0m\n",
            "\u001b[0;32m/usr/local/lib/python3.10/dist-packages/torch/serialization.py\u001b[0m in \u001b[0;36mload\u001b[0;34m(f, map_location, pickle_module, weights_only, mmap, **pickle_load_args)\u001b[0m\n\u001b[1;32m    984\u001b[0m         \u001b[0mpickle_load_args\u001b[0m\u001b[0;34m[\u001b[0m\u001b[0;34m'encoding'\u001b[0m\u001b[0;34m]\u001b[0m \u001b[0;34m=\u001b[0m \u001b[0;34m'utf-8'\u001b[0m\u001b[0;34m\u001b[0m\u001b[0;34m\u001b[0m\u001b[0m\n\u001b[1;32m    985\u001b[0m \u001b[0;34m\u001b[0m\u001b[0m\n\u001b[0;32m--> 986\u001b[0;31m     \u001b[0;32mwith\u001b[0m \u001b[0m_open_file_like\u001b[0m\u001b[0;34m(\u001b[0m\u001b[0mf\u001b[0m\u001b[0;34m,\u001b[0m \u001b[0;34m'rb'\u001b[0m\u001b[0;34m)\u001b[0m \u001b[0;32mas\u001b[0m \u001b[0mopened_file\u001b[0m\u001b[0;34m:\u001b[0m\u001b[0;34m\u001b[0m\u001b[0;34m\u001b[0m\u001b[0m\n\u001b[0m\u001b[1;32m    987\u001b[0m         \u001b[0;32mif\u001b[0m \u001b[0m_is_zipfile\u001b[0m\u001b[0;34m(\u001b[0m\u001b[0mopened_file\u001b[0m\u001b[0;34m)\u001b[0m\u001b[0;34m:\u001b[0m\u001b[0;34m\u001b[0m\u001b[0;34m\u001b[0m\u001b[0m\n\u001b[1;32m    988\u001b[0m             \u001b[0;31m# The zipfile reader is going to advance the current file position.\u001b[0m\u001b[0;34m\u001b[0m\u001b[0;34m\u001b[0m\u001b[0m\n",
            "\u001b[0;32m/usr/local/lib/python3.10/dist-packages/torch/serialization.py\u001b[0m in \u001b[0;36m_open_file_like\u001b[0;34m(name_or_buffer, mode)\u001b[0m\n\u001b[1;32m    433\u001b[0m \u001b[0;32mdef\u001b[0m \u001b[0m_open_file_like\u001b[0m\u001b[0;34m(\u001b[0m\u001b[0mname_or_buffer\u001b[0m\u001b[0;34m,\u001b[0m \u001b[0mmode\u001b[0m\u001b[0;34m)\u001b[0m\u001b[0;34m:\u001b[0m\u001b[0;34m\u001b[0m\u001b[0;34m\u001b[0m\u001b[0m\n\u001b[1;32m    434\u001b[0m     \u001b[0;32mif\u001b[0m \u001b[0m_is_path\u001b[0m\u001b[0;34m(\u001b[0m\u001b[0mname_or_buffer\u001b[0m\u001b[0;34m)\u001b[0m\u001b[0;34m:\u001b[0m\u001b[0;34m\u001b[0m\u001b[0;34m\u001b[0m\u001b[0m\n\u001b[0;32m--> 435\u001b[0;31m         \u001b[0;32mreturn\u001b[0m \u001b[0m_open_file\u001b[0m\u001b[0;34m(\u001b[0m\u001b[0mname_or_buffer\u001b[0m\u001b[0;34m,\u001b[0m \u001b[0mmode\u001b[0m\u001b[0;34m)\u001b[0m\u001b[0;34m\u001b[0m\u001b[0;34m\u001b[0m\u001b[0m\n\u001b[0m\u001b[1;32m    436\u001b[0m     \u001b[0;32melse\u001b[0m\u001b[0;34m:\u001b[0m\u001b[0;34m\u001b[0m\u001b[0;34m\u001b[0m\u001b[0m\n\u001b[1;32m    437\u001b[0m         \u001b[0;32mif\u001b[0m \u001b[0;34m'w'\u001b[0m \u001b[0;32min\u001b[0m \u001b[0mmode\u001b[0m\u001b[0;34m:\u001b[0m\u001b[0;34m\u001b[0m\u001b[0;34m\u001b[0m\u001b[0m\n",
            "\u001b[0;32m/usr/local/lib/python3.10/dist-packages/torch/serialization.py\u001b[0m in \u001b[0;36m__init__\u001b[0;34m(self, name, mode)\u001b[0m\n\u001b[1;32m    414\u001b[0m \u001b[0;32mclass\u001b[0m \u001b[0m_open_file\u001b[0m\u001b[0;34m(\u001b[0m\u001b[0m_opener\u001b[0m\u001b[0;34m)\u001b[0m\u001b[0;34m:\u001b[0m\u001b[0;34m\u001b[0m\u001b[0;34m\u001b[0m\u001b[0m\n\u001b[1;32m    415\u001b[0m     \u001b[0;32mdef\u001b[0m \u001b[0m__init__\u001b[0m\u001b[0;34m(\u001b[0m\u001b[0mself\u001b[0m\u001b[0;34m,\u001b[0m \u001b[0mname\u001b[0m\u001b[0;34m,\u001b[0m \u001b[0mmode\u001b[0m\u001b[0;34m)\u001b[0m\u001b[0;34m:\u001b[0m\u001b[0;34m\u001b[0m\u001b[0;34m\u001b[0m\u001b[0m\n\u001b[0;32m--> 416\u001b[0;31m         \u001b[0msuper\u001b[0m\u001b[0;34m(\u001b[0m\u001b[0;34m)\u001b[0m\u001b[0;34m.\u001b[0m\u001b[0m__init__\u001b[0m\u001b[0;34m(\u001b[0m\u001b[0mopen\u001b[0m\u001b[0;34m(\u001b[0m\u001b[0mname\u001b[0m\u001b[0;34m,\u001b[0m \u001b[0mmode\u001b[0m\u001b[0;34m)\u001b[0m\u001b[0;34m)\u001b[0m\u001b[0;34m\u001b[0m\u001b[0;34m\u001b[0m\u001b[0m\n\u001b[0m\u001b[1;32m    417\u001b[0m \u001b[0;34m\u001b[0m\u001b[0m\n\u001b[1;32m    418\u001b[0m     \u001b[0;32mdef\u001b[0m \u001b[0m__exit__\u001b[0m\u001b[0;34m(\u001b[0m\u001b[0mself\u001b[0m\u001b[0;34m,\u001b[0m \u001b[0;34m*\u001b[0m\u001b[0margs\u001b[0m\u001b[0;34m)\u001b[0m\u001b[0;34m:\u001b[0m\u001b[0;34m\u001b[0m\u001b[0;34m\u001b[0m\u001b[0m\n",
            "\u001b[0;31mFileNotFoundError\u001b[0m: [Errno 2] No such file or directory: '/content/drive/My Drive/genAI project/losses_tensor-1m-de-2024-03-22T20:26:55.933894.pt'"
          ]
        }
      ]
    },
    {
      "cell_type": "markdown",
      "source": [
        "### model-1m-de-2024-03-22T13:58"
      ],
      "metadata": {
        "id": "6k9p6PIVd08s"
      }
    },
    {
      "cell_type": "code",
      "source": [
        "model_directory = \"/content/drive/My Drive/genAI project/model-1m-de-2024-03-22T13:58:01.517911\"\n",
        "model = GPTNeoForCausalLM.from_pretrained(model_directory).to(device)\n",
        "\n",
        "\n",
        "output = model.generate(input_ids, max_length = 1024, num_beams=5, #temperature=0,\n",
        "                        attention_mask=attention_mask, pad_token_id = 50256, eos_token_id = 50256,\n",
        "                        do_sample=True)\n",
        "output_text = tokenizer.decode(output[0], skip_special_tokens=True)\n",
        "print(output_text)"
      ],
      "metadata": {
        "colab": {
          "base_uri": "https://localhost:8080/"
        },
        "id": "gljqRAIJd9D-",
        "outputId": "660b7566-76de-4439-b3f2-1743ad5ed909"
      },
      "execution_count": null,
      "outputs": [
        {
          "output_type": "stream",
          "name": "stdout",
          "text": [
            "Es war einmal ein kleines Mädchen namens Lily. Sie liebte es, mit ihrer Mutter, dass sie sich, die sie hatte. Sie liebte es zu spielen. Eines Tages ging sie eine große Umarmte. Lily. Ihre Mami und sagte: \"Nein, ich will es ist nicht getan!\" Lily.\n",
            " Einmal war einmal ein kleines Mädchen namens Lily. Sie liebte es. Sie liebte es, sie ein kleines Mädchen namens Lily. Sie liebte es, Lily. Sie liebte es zu spielen. Sie liebte es zu spielen. Sie liebte es, dass es zu spielen. Sie liebte es zu spielen. Sie liebte es zu spielen. Sie liebte es zu spielen. Sie liebte es, dass sie zu spielen. Lily. Lily war sehr glücklich und sagte: \"Es ist okay, aber es nicht zu spielen.\" Lily namens Lily. Lily namens Lily war einmal ein kleines Mädchen namens Lily. Sie liebte es, Lily. Sie liebte es zu spielen. Sie liebte es nicht zu spielen. Sie sah Lily namens Lily. Sie liebte es zu spielen. Lily. Sie liebte es, mit ihrer Mutter zu spielen. Sie liebte es zu spielen. Sie liebte es zu spielen. Sie sah Lily war glücklich. Lily war da ein kleines Mädchen namens Lily namens Lily liebte es, mit ihrer Mami, mit ihrer Mutter sagte: \"Es ist zu spielen.\" Lily. Lily. Lily. Lily. Lily namens Lily war ein kleines Mädchen namens Lily liebte es zu spielen, Lily. Sie sagte: \"Es ist nicht zu spielen.\" Lily. Lily, dass sie zu spielen. Lily namens Lily liebte es, mit ihrer Mutter sagte: \"Ich will es ist nicht zu spielen.\" Lily sagte: \"Das ist okay, Lily.\" Lily. Ich will es nicht. Lily, Lily, Lily, Lily.\n",
            " Einmal war da ein kleiner Junge namens Lily, Lily, Lily, Lily, Lily. Lily. Sie liebte es nicht zu spielen. Sie sah Lily.\n",
            " Einmal war sehr glücklich. Sie liebte es zu spielen. Lily, Lily. Sie liebte es nicht zu spielen. Sie liebte es nicht zu spielen. Sie liebte es nicht zu spielen. Lily. Sie liebte es, mit ihrer Mutter zu spielen. Sie liebte es zu spielen. Sie liebte es zu spielen. Sie liebte es nicht zu spielen. Sie liebte es nicht zu spielen. Eines Tages sah Lily. Lily. Sie liebte es nicht zu spielen. Sie liebte es zu spielen.\n",
            " Einmal war glücklich. Lily. Sie liebte es zu spielen. Eines Tages sah Lily fühlte sich zu spielen.\n",
            "Es war da ein kleines Mädchen namens Timmy liebte es, dass sie ein kleines Mädchen namens Timmy. Eines Tages sah Lily namens Lily. Timmy. Eines Tages ging Lily. Timmy liebte es zu spielen. Sie liebte es zu spielen. Eines Tages ging zu spielen. Timmy liebte es zu spielen. Timmy liebte es zu spielen. Timmy liebte es zu spielen. Eines Tages sah sie ein kleines Mädchen namens Timmy liebte es zu spielen. Lily. Eines Tages sah Lily liebte es, aber sie ein kleines Mädchen namens Timmy liebte es, dass sie ein kleines Mädchen namens Timmy liebte es zu spielen. Lily. Lily wollte nicht zu spielen. Lily. Sie liebte es, um zu spielen. Sie liebte es, dass sie in den Park. Lily liebte es, mit ihrer Mutter sagte: \"Das ist, mit ihren Freunden spielen. Lily. Lily war traurig und sagte: \"Ich habe ein kleines Mädchen namens Lily. Lily, aber sie ein kleines Mädchen namens Lily, dass Lily. Lily, Lily. Lily, Lily. Lily, Lily sagte: \"Ich will nicht getan, Lily!\" Lily?\" Lily sah Lily: \"Ich bin nicht mit mir helfen.\" Lily. Lily, Lily, dass es nicht, Lily, mit ihrer Mami, es nicht zu spielen.\" Lily sagte Timmy war zu spielen, Lily sagte: \"Das ist nicht zu spielen, Lily, dass es nicht zu spielen?\" Lily sagte: \"Ich will nicht zu spielen?\" Lily sagte: \"Ja, ich bin nicht zu tun, Lily, Lily, Lily, Lily, es nicht zu spielen.\" Lily, Lily, Lily war zu tun, Lily war glücklich zu tun, umarmte sie nicht zu spielen.\n",
            "Es ist nicht zu spielen. Sie liebte es nicht zu spielen. Lily liebte es nicht zu spielen.\n",
            " Einmal war einmal ein kleines Mädchen namens Timmy. Sie liebte es nicht zu spielen. Lily. Sie liebte es nicht zu spielen. Sie liebte es nicht zu spielen.\n",
            " Einmal war ein kleines Mädchen namens Lily. Sie liebte es zu spielen. Sie liebte es zu spielen. Sie liebte es zu spielen. Eines Tages, mit ihrer Mutter zu spielen. Lily liebte es, mit ihrer Mami zu spielen. Lilys Mutter zu spielen. Sie liebte es zu spielen. Eines Tages sah Lily liebte es, mit seinen Freunden zu spielen. Eines Tages ging Lily. Eines Tages sah Lily. Sie liebte es, mit ihrer Mami, mit seiner Mutter. Sie liebte es zu spielen. Lily namens Lily. Lily namens Lily. Eines Tages ging Lily liebte es, mit ihrer Mutter zu spielen. Eines Tages ging Lily\n"
          ]
        }
      ]
    },
    {
      "cell_type": "code",
      "source": [
        "output = model.generate(input_ids, max_length = 1024, num_beams=2, temperature=0,\n",
        "                        attention_mask=attention_mask, pad_token_id = 50256,\n",
        "                        repetition_penalty=3.0, #do_sample=True,\n",
        "                        )\n",
        "output_text = tokenizer.decode(output[0], skip_special_tokens=True)\n",
        "print(output_text)"
      ],
      "metadata": {
        "colab": {
          "base_uri": "https://localhost:8080/"
        },
        "id": "f-2KZKDzhoMJ",
        "outputId": "fd76d4b4-465a-4a43-9682-f90c58d05f27"
      },
      "execution_count": null,
      "outputs": [
        {
          "output_type": "stream",
          "name": "stdout",
          "text": [
            "Es war einmal ein kleines Mädchen namens Lily. Sie liebte es, mit ihren Freunden zu spielen. Eines Tages ging sie einen großen Baum und sagte: \"Ich bin nicht getan!\" Ihre Mutter in den ganzen Tag an diesem Tag im Park.\n",
            " Einmal war da ein kleiner Junge namens Timmys Mami antwortete: „Ja, ich werde dir helfen.\" Timmy. Er wollte ihn auf dem Boden. Timmy fühlte sich umarmte er eine große Umarmung. Timmy lächelte und fragte seine Freunde waren sehr glücklich, aber dann kam Lilys Mutter zum Spielen. Timmy hatte Angst vor Freude. Timmy wusste, dass der Nähe des Hügels! Ich habe keine Sorgen, was falsch sei Zeit für das kleine Katze namens TM sweet säubern\", sagte: „Was ist okay, die Sonne unter einem kleinen Jungen namens Timmy. Du bist du mir leid, wenn wir können uns etwas Besonderes machen?\" Seine Mutter ihr Spielzeugauto wegzulaufen. Als sie ihre Mutter gab sein Freundlichkeit. Von diesem Tag spielte gerne draußen gehen. Aber dann sah Max dachte darüber nach Hause kamen, weil er seinen Kopf. Timmy versuchte, als ob er konnte. Timmy begann zu tun sollte. Timmy mochte es wichtig ist so viel Spaß beim Spielen. Timmy hörte Tims € œLetâ € œIâ € œ€œDas ist mein Vater, â € TM träumte von ihnen zeigen, wie man dich besser fühlen. Es war froh, bis ans Ende. Wir müssen auch gut gemacht haben könnte.â € TM sauren Dinge zusammen. Das Kaninchen wurde nie wieder traurig, wo sie immer noch mehr verängstigt und dankte ihrer Mutter lachten und hatten viele Spielzeugen zu sehen, bevor sie alle Arten von ihrem Haus herumhüpfen. Die Moral der Geschichte ist, dass sie beide spielten jeden Tag langweilten ihm, warum hast mich daran, dass sie fertig sind. Nach einer Weile gingen zurück ins Bett. Der Vogel flog aus dem Weg zur Schule finden würde. Plötzlich erschien ein großes Lächeln auf seinem Gesicht. Ab diesem Tag nahm einige neue Freundin dafür, also entschied sich selbst. Dann bemerkte Jack. Am nächsten Tag ankamen, dass sie hineingehen und bald genug Geld gesehen werden. Schließlich fand Tom neidischst du musst hier bleiben. Socke. Und eines sonnigen Tages traf er schnell überspringen. John schaute durch den Laden spazieren. Bobo-Lily, dass er sicher, dass er dort ankam, dass er je zuvor gesehen hatte. Mittens lernte, dass er näher kommen musste. Jetzt kann. Also entschieden sich stolz auf Wiedersehen und lief rüber und rannte hinaus, dass er hoch am Himmel voller Wasser hinaufging. Joe erkannte, dass er schließlich erinnerte sich gegenseitig hinsah, dass er plötzlich fing anmutig und legte sie weiter hinunterkam, dass er seiner Mutter erklärte, dass er alles danach. Daisy war. Lucy hielt darauf, dass er solle sich schlechtes Geräusch. Sarah zeigte Spot machte. Mama rief: \"Lasst uns versuchen,\" sagte: \"Danke, lass uns nur dein Name ist? Kannst du kannst du wirst du willst du deine Hilfe\". Jane schauten sich hinter dem Fenster und winkte Abschied vom Strand. Was machst du solltest jetzt schön aussehenden Ball herauszukommen. Lass uns reinzugehen. Sellerie pelzige Stimme. Zusammen sagten ja, dass er vorsichtig sein Zimmer öffnete, dass er hätte nichts dagegen, dass er wirklich hart gearbeitet konnten. Später an wurden gute Idee. Bald war aufgeregt, dass er tat. Alle Tiere begannen, dass er langsam davonlaufen würden. Nachdem sie wussten, dass sie bereit, dass sie müde war.\n",
            " Einmal war drei Jahre alt und beobachtete, dass er zwei beste Freunde liebten es kaum erwarten, dass er mutig und bat sie lebten glücklich, dass er sogar andere Seite ihres Hauses zu erkunden. Im Inneren war da ein großer Hund namens Benny. Jeden Tag anhielt, dass er versehentlich all den Wald lebte. Sein Bruder Sam stimmte zu weinen. Jeder war da ein paar Tage später brachte Sally. In dieser Nachthimmel. Ein alter Mann, während er könne. Er hüpferen Blick zu essen. Er sprang überall sahen sie beibringen. Er hob ihn fest. Er suchte gern Blumen und Papa jubelten und ab. Er schrie: \"Nein, damit drinnen tut mir geholfen hat. Er schwammterregende Orte zu nehmen. Er stieg direkt nieder. Er zog Sue half ihm hinterher, schaukelnd, bitte diesen Moment lang und herkommen.\" Jill war überrascht, dass er anfing, dass er beschloss, dass er fast vergessen, dass er jemanden zu bekommen. Er blieb stehen und aß lange Zeit war begeistert, dass er brauchte. Er trat fort, dass er aufwachte und wartete geduldig. Er bekam Tommy freute sich auszuruhen. Er griff hinüber und setzte sich umsah. Er fuhr herunterzulief. Er folgte dem alten Dame vorbei und drehte sich schuldig, dass er hingingen. Er rochse schien heller Bär köstlichste Licht aussah. Er schloss die Tür. Er wünschte, dass er fiel\n"
          ]
        }
      ]
    },
    {
      "cell_type": "code",
      "source": [
        "loss_directory = \"/content/drive/My Drive/genAI project/losses_tensor-1m-de-2024-03-22T13:58:01.587117.pt\"\n",
        "losses = torch.load(loss_directory)\n",
        "fig, ax = plt.subplots()\n",
        "ax.set_title(\"Loss reduction during training\")\n",
        "ax.set_ylabel(\"Loss\")\n",
        "ax.set_xlabel(\"batches processed\")\n",
        "ax.plot(np.array(losses).flatten())\n",
        "fig.show()"
      ],
      "metadata": {
        "colab": {
          "base_uri": "https://localhost:8080/",
          "height": 472
        },
        "id": "XX1Rd2iJgszE",
        "outputId": "0601ada2-cb8f-46e4-f20b-81d5a99eac0c"
      },
      "execution_count": null,
      "outputs": [
        {
          "output_type": "display_data",
          "data": {
            "text/plain": [
              "<Figure size 640x480 with 1 Axes>"
            ],
            "image/png": "[encoded data removed]"
          },
          "metadata": {}
        }
      ]
    },
    {
      "cell_type": "markdown",
      "source": [
        "### model-1m-de-2024-03-22T10:42"
      ],
      "metadata": {
        "id": "_iqJOU8cwaAA"
      }
    },
    {
      "cell_type": "code",
      "source": [
        "model_directory = \"/content/drive/My Drive/genAI project/model-1m-de-2024-03-22T10:42:27.931481\"\n",
        "model = GPTNeoForCausalLM.from_pretrained(model_directory).to(device)\n",
        "\n",
        "output = model.generate(input_ids, max_length = 1024,\n",
        "                        num_beams=5, temperature=0)\n",
        "output_text = tokenizer.decode(output[0], skip_special_tokens=True)\n",
        "print(output_text)"
      ],
      "metadata": {
        "colab": {
          "base_uri": "https://localhost:8080/"
        },
        "id": "WjFbtV3xwdDL",
        "outputId": "8905286c-1680-4602-bfd0-790b7eec914e"
      },
      "execution_count": null,
      "outputs": [
        {
          "output_type": "stream",
          "name": "stderr",
          "text": [
            "/usr/local/lib/python3.10/dist-packages/transformers/generation/configuration_utils.py:410: UserWarning: `do_sample` is set to `False`. However, `temperature` is set to `0` -- this flag is only used in sample-based generation modes. You should set `do_sample=True` or unset `temperature`.\n",
            "  warnings.warn(\n",
            "The attention mask and the pad token id were not set. As a consequence, you may observe unexpected behavior. Please pass your input's `attention_mask` to obtain reliable results.\n",
            "Setting `pad_token_id` to `eos_token_id`:50256 for open-end generation.\n"
          ]
        },
        {
          "output_type": "stream",
          "name": "stdout",
          "text": [
            "Es war einmal. Sie war. Sie war. Sie war. Sie war. Sie war. Sie war. Sie war. Sie war. Sie war. Sie war. Sie war. Sie war. Sie war. Sie war. Sie war. Sie war. Sie war. Sie war. Sie war. Sie war. Sie war. Sie war. Sie war. Sie war. Sie war. Sie war. Sie war. Sie. Sie war. Sie war. Sie war. Sie war. Sie war. Sie war. Sie war. Sie war. Sie war. Sie war. Sie war. Sie war. Sie war. Sie war. Sie war. Sie war. Sie war. Sie war. Sie war. Sie war. Sie war. Sie war. Sie war. Sie war. Sie war. Sie war. Sie war. Sie war. Sie war. Sie war. Sie war. Sie war. Sie war. Sie war. Sie war. Sie war. Sie war. Sie war. Sie war. Sie war. Sie war. Sie war. Sie war. Sie war. Sie war. Sie war. Sie war. Sie war. Sie war. Sie war. Sie war. Sie war. Sie war. Sie war. Sie war. Sie war. Sie war. Sie war. Sie war. Sie war. Sie war. Sie war. Sie war. Sie war. Sie war. Sie war. Sie war. Sie war. Sie war. Sie war. Sie war. Sie war.. Sie war. Sie war. Sie war. Sie war. Sie war. Sie war. Sie war. Sie war. Sie war. Sie war. Sie war. Sie war. Sie war. Sie war. Sie war. Sie war. Sie war. Sie war. Sie war. Sie war. Sie war. Sie war. Sie war. Sie war. Sie war. Sie war. Sie war. Sie war. Sie war. Sie war. Sie war. Sie war. Sie war. Sie war. Sie war. Sie war. Sie war. Sie war. Sie war. Sie war. Sie war. Sie war. Sie war. Sie war. Sie war. Sie war. Sie war. Sie war. Sie war. Sie war. Sie war. Sie war. Sie war. Sie war. Sie war. Sie war. Sie war. Sie war. Sie war. Sie war. Sie war. Sie war. Sie war. Sie war. Sie war. Sie war. Sie war. Sie war. Sie war. Sie war. Sie war. Sie war. Sie war. Sie war. Sie war. Sie war. Sie war. Sie war. Sie war. Sie war. Sie war. Sie war. Sie war. Sie war. Sie war. Sie war. Sie war. Sie war. Sie war. Sie war. Sie war. Sie war. Sie war. Sie war. Sie war. Sie war. Sie war. Sie war. Sie war. Sie war. Sie war. Sie war. Sie war. Sie war. Sie war. Sie war. Sie war. Sie war. Sie war. Sie war. Sie war. Sie war. Sie war. Sie war. Sie war. Sie war. Sie war. Sie war. Sie war. Sie war. Sie war. Sie war. Sie war. Sie war. Sie war. Sie war. Sie war. Sie war. Sie war. Sie war. Sie war. Sie war. Sie war. Sie war. Sie war. Sie war. Sie war. Sie war. Sie war. Sie war. Sie war. Sie war. Sie war. Sie war. Sie war. Sie war. Sie war. Sie war. Sie war. Sie war. Sie war. Sie war. Sie war. Sie war. Sie war. Sie war. Sie war. Sie war. Sie war. Sie war. Sie war. Sie war. Sie war. Sie war. Sie war. Sie war. Sie war. Sie war. Sie war. Sie war. Sie war. Sie war. Sie war. Sie war. Sie war. Sie war. Sie war. Sie war. Sie war. Sie war. Sie war. Sie war. Sie war. Sie war. Sie war. Sie war. Sie war. Sie war. Sie war. Sie war. Sie war. Sie war. Sie war. Sie war. Sie war. Sie war. Sie war. Sie war. Sie war. Sie war. Sie war. Sie war. Sie war. Sie war. Sie war. Sie war. Sie war. Sie war. Sie war. Sie war. Sie war. Sie war. Sie war. Sie war. Sie war. Sie war. Sie war. Sie war. Sie war. Sie war. Sie war. Sie war. Sie war. Sie war. Sie war. Sie war. Sie war. Sie war. Sie war. Sie war. Sie war. Sie war. Sie war. Sie war. Sie war. Sie war. Sie war. Sie war. Sie war. Sie war.\n"
          ]
        }
      ]
    },
    {
      "cell_type": "markdown",
      "source": [
        "### model-1m-de-2024-03-22T07:00"
      ],
      "metadata": {
        "id": "9brkzXVA_NQW"
      }
    },
    {
      "cell_type": "code",
      "source": [
        "model_directory = \"/content/drive/My Drive/genAI project/model-1m-de-2024-03-22T07:00:39.130247\"\n",
        "model = GPTNeoForCausalLM.from_pretrained(model_directory).to(device)\n",
        "\n",
        "output = model.generate(input_ids, max_length = 1024,\n",
        "                        num_beams=5, temperature=0)\n",
        "output_text = tokenizer.decode(output[0], skip_special_tokens=True)\n",
        "print(output_text)"
      ],
      "metadata": {
        "colab": {
          "base_uri": "https://localhost:8080/"
        },
        "id": "Tb0kN7pS_PpB",
        "outputId": "939265ce-8c70-4cbb-9724-7b80c7819836"
      },
      "execution_count": null,
      "outputs": [
        {
          "output_type": "stream",
          "name": "stderr",
          "text": [
            "/usr/local/lib/python3.10/dist-packages/transformers/generation/configuration_utils.py:410: UserWarning: `do_sample` is set to `False`. However, `temperature` is set to `0` -- this flag is only used in sample-based generation modes. You should set `do_sample=True` or unset `temperature`.\n",
            "  warnings.warn(\n",
            "The attention mask and the pad token id were not set. As a consequence, you may observe unexpected behavior. Please pass your input's `attention_mask` to obtain reliable results.\n",
            "Setting `pad_token_id` to `eos_token_id`:50256 for open-end generation.\n"
          ]
        },
        {
          "output_type": "stream",
          "name": "stdout",
          "text": [
            "Es war einmal einmal einmal einmal einmal einmal einmal einmal einmal einmal einmal einmal einmal einmal einmal einmal einmal einmal einmal einmal einmal einmal einmal einmal einmal einmal einmal einmal einmal einmal einmal einmal einmal einmal einmal einmal einmal einmal einmal einmal einmal einmal einmal einmal einmal einmal einmal einmal einmal einmal einmal einmal einmal einmal einmal einmal einmal einmal einmal einmal einmal einmal einmal einmal einmal einmal einmal einmal einmal einmal einmal einmal einmal einmal einmal einmal einmal einmal einmal einmal einmal einmal einmal einmal einmal einmal einmal einmal einmal einmal einmal einmal einmal einmal einmal einmal einmal einmal einmal einmal einmal einmal einmal einmal einmal einmal einmal einmal einmal einmal einmal einmal einmal einmal einmal einmal einmal einmal einmal einmal einmal einmal einmal einmal einmal einmal einmal einmal einmal einmal einmal einmal einmal einmal einmal einmal einmal einmal einmal einmal einmal einmal einmal einmal einmal einmal einmal einmal einmal einmal einmal einmal einmal einmal einmal einmal einmal einmal einmal einmal einmal einmal einmal einmal einmal einmal einmal einmal einmal einmal einmal einmal einmal einmal einmal einmal einmal einmal einmal einmal einmal einmal einmal einmal einmal einmal einmal einmal einmal einmal einmal einmal einmal einmal einmal einmal einmal einmal einmal einmal einmal einmal einmal einmal einmal einmal einmal einmal einmal einmal einmal einmal einmal einmal einmal einmal einmal einmal einmal einmal einmal einmal einmal einmal einmal einmal einmal einmal einmal einmal einmal einmal einmal einmal einmal einmal einmal einmal einmal einmal einmal einmal einmal einmal einmal einmal einmal einmal einmal einmal einmal einmal einmal einmal einmal einmal einmal einmal einmal einmal einmal einmal einmal einmal einmal einmal einmal einmal einmal einmal einmal einmal einmal einmal einmal einmal einmal einmal einmal einmal einmal einmal einmal einmal einmal einmal einmal einmal einmal einmal einmal einmal einmal einmal einmal einmal einmal einmal einmal einmal einmal einmal einmal einmal einmal einmal einmal einmal einmal einmal einmal einmal einmal einmal einmal einmal einmal einmal einmal einmal einmal einmal einmal einmal einmal einmal einmal einmal einmal einmal einmal einmal einmal einmal einmal einmal einmal einmal einmal einmal einmal einmal einmal einmal einmal einmal einmal einmal einmal einmal einmal einmal einmal einmal einmal einmal einmal einmal einmal einmal einmal einmal einmal einmal einmal einmal einmal einmal einmal einmal einmal einmal einmal einmal einmal einmal einmal einmal einmal einmal einmal einmal einmal einmal einmal einmal einmal einmal einmal einmal einmal einmal einmal einmal einmal einmal einmal einmal einmal einmal einmal einmal einmal einmal einmal einmal einmal einmal einmal einmal einmal einmal einmal einmal einmal einmal einmal einmal einmal einmal einmal einmal einmal einmal einmal einmal einmal einmal einmal einmal einmal einmal einmal einmal einmal einmal einmal einmal einmal einmal einmal einmal einmal einmal einmal einmal einmal einmal einmal einmal einmal einmal einmal einmal einmal einmal einmal einmal einmal einmal einmal einmal einmal einmal einmal einmal einmal einmal einmal einmal einmal einmal einmal einmal einmal einmal einmal einmal einmal einmal einmal einmal einmal einmal einmal einmal einmal einmal einmal einmal einmal einmal einmal einmal einmal einmal einmal einmal einmal einmal einmal einmal einmal einmal einmal einmal einmal einmal einmal einmal einmal einmal einmal einmal einmal einmal einmal einmal einmal einmal einmal einmal einmal einmal einmal einmal einmal einmal einmal einmal einmal einmal einmal einmal einmal einmal einmal einmal einmal einmal einmal einmal einmal einmal einmal einmal einmal einmal einmal einmal einmal einmal einmal einmal einmal einmal einmal einmal einmal einmal einmal einmal einmal einmal einmal einmal einmal einmal einmal einmal einmal einmal einmal einmal einmal einmal einmal einmal einmal einmal einmal einmal einmal einmal einmal einmal einmal einmal einmal einmal einmal einmal einmal einmal einmal einmal einmal einmal einmal einmal einmal einmal einmal einmal einmal einmal einmal einmal einmal einmal einmal einmal einmal einmal einmal einmal einmal einmal einmal einmal einmal einmal einmal einmal einmal einmal einmal einmal einmal einmal einmal einmal einmal einmal einmal einmal einmal einmal einmal einmal einmal einmal einmal einmal einmal einmal einmal einmal einmal einmal einmal einmal einmal einmal einmal einmal einmal einmal einmal einmal einmal einmal einmal einmal einmal einmal einmal einmal einmal einmal einmal einmal einmal einmal einmal einmal einmal einmal einmal einmal einmal einmal einmal einmal einmal einmal einmal einmal einmal einmal einmal einmal einmal einmal einmal einmal einmal einmal einmal einmal einmal einmal einmal einmal einmal einmal einmal einmal einmal einmal einmal einmal einmal einmal einmal einmal einmal einmal einmal einmal einmal einmal einmal einmal einmal einmal einmal einmal einmal einmal einmal einmal einmal einmal einmal einmal einmal einmal einmal einmal einmal einmal einmal einmal einmal einmal einmal einmal einmal einmal einmal einmal einmal einmal einmal einmal einmal einmal einmal einmal einmal einmal einmal einmal einmal einmal einmal einmal einmal einmal einmal einmal einmal einmal einmal einmal einmal einmal einmal einmal einmal einmal einmal einmal einmal einmal einmal einmal einmal einmal einmal einmal einmal einmal einmal einmal einmal einmal einmal einmal einmal einmal einmal einmal einmal einmal einmal einmal einmal einmal einmal einmal einmal einmal einmal einmal einmal einmal einmal einmal einmal einmal einmal einmal einmal einmal einmal einmal einmal einmal einmal einmal einmal einmal einmal einmal einmal einmal einmal einmal einmal einmal einmal einmal einmal einmal einmal einmal einmal einmal einmal einmal einmal einmal einmal einmal einmal einmal einmal einmal einmal einmal einmal einmal einmal einmal einmal einmal einmal einmal einmal einmal einmal einmal einmal einmal einmal einmal einmal einmal einmal einmal einmal einmal einmal einmal einmal einmal einmal einmal einmal einmal einmal einmal einmal einmal einmal einmal einmal einmal einmal einmal einmal einmal einmal einmal einmal einmal einmal einmal einmal einmal einmal einmal einmal einmal einmal einmal einmal einmal einmal einmal einmal einmal einmal einmal einmal einmal einmal einmal einmal einmal einmal einmal einmal einmal einmal einmal einmal einmal einmal einmal einmal einmal einmal einmal einmal einmal einmal einmal einmal einmal einmal einmal einmal einmal einmal einmal einmal einmal einmal einmal einmal einmal einmal einmal einmal einmal einmal einmal einmal einmal einmal einmal einmal einmal einmal einmal einmal einmal einmal einmal einmal einmal einmal einmal einmal einmal einmal einmal einmal einmal einmal einmal einmal einmal einmal einmal einmal einmal einmal einmal einmal einmal einmal einmal einmal einmal einmal einmal einmal einmal einmal einmal einmal einmal einmal einmal einmal einmal einmal\n"
          ]
        }
      ]
    },
    {
      "cell_type": "code",
      "source": [
        "loss_directory = \"/content/drive/My Drive/genAI project/losses_tensor-1m-de-2024-03-22T07:00:39.220950.pt\"\n",
        "losses = torch.load(loss_directory)\n",
        "fig, ax = plt.subplots()\n",
        "ax.set_title(\"Loss reduction during training\")\n",
        "ax.set_ylabel(\"Loss\")\n",
        "ax.set_xlabel(\"batches processed\")\n",
        "ax.plot(np.array(losses).flatten())\n",
        "fig.show()"
      ],
      "metadata": {
        "colab": {
          "base_uri": "https://localhost:8080/",
          "height": 472
        },
        "id": "tXpNzxpQjvNF",
        "outputId": "ac9da5e8-6667-4a67-8809-dddd54b269f9"
      },
      "execution_count": null,
      "outputs": [
        {
          "output_type": "display_data",
          "data": {
            "text/plain": [
              "<Figure size 640x480 with 1 Axes>"
            ],
            "image/png": "[encoded data removed]"
          },
          "metadata": {}
        }
      ]
    },
    {
      "cell_type": "markdown",
      "source": [
        "### model-1m-de-2024-03-21T17:23"
      ],
      "metadata": {
        "id": "UtronTe-EI5u"
      }
    },
    {
      "cell_type": "code",
      "source": [
        "model_directory = \"/content/drive/My Drive/genAI project/model-1m-de-2024-03-21T17:23:38.656549\"\n",
        "model = GPTNeoForCausalLM.from_pretrained(model_directory).to(device)\n",
        "\n",
        "output = model.generate(input_ids, max_length = 1024,\n",
        "                        num_beams=5, temperature=0)\n",
        "output_text = tokenizer.decode(output[0], skip_special_tokens=True)\n",
        "print(output_text)"
      ],
      "metadata": {
        "colab": {
          "base_uri": "https://localhost:8080/"
        },
        "id": "5bqlJH9fELA2",
        "outputId": "7577d39e-8cfa-4e75-b481-c4a7e8c03f90"
      },
      "execution_count": null,
      "outputs": [
        {
          "output_type": "stream",
          "name": "stderr",
          "text": [
            "The attention mask and the pad token id were not set. As a consequence, you may observe unexpected behavior. Please pass your input's `attention_mask` to obtain reliable results.\n",
            "Setting `pad_token_id` to `eos_token_id`:50256 for open-end generation.\n"
          ]
        },
        {
          "output_type": "stream",
          "name": "stdout",
          "text": [
            "Es war einmal Arzt Arzt Arzt Arzt Arzt Arzt sein sein sein sein sein sein sein sein sein sein sein sein sein sein sein sein sein sein sein sein sein sein sein sein sein sein sein sein sein sein sein sein sein sein sein sein sein sein sein sein sein sein sein sein sein sein sein sein sein sein sein sein sein sein sein sein sein sein sein sein sein sein sein sein sein sein sein sein sein sein sein sein sein sein sein sein sein sein sein sein sein sein sein sein sein sein sein sein sein sein sein sein sein sein sein sein sein sein sein sein sein sein sein sein sein sein sein sein sein sein sein sein sein sein sein sein sein sein sein sein sein sein sein sein sein sein sein sein sein sein sein sein sein sein sein sein sein sein sein sein sein sein sein sein sein sein sein sein sein sein sein sein sein sein sein sein sein sein sein sein sein sein sein sein sein sein sein sein sein sein sein sein sein sein sein sein sein sein sein sein sein sein sein sein sein sein sein sein sein sein sein sein sein sein sein sein sein sein sein sein sein sein sein sein sein sein sein sein sein sein sein sein sein sein sein sein sein sein sein sein sein sein sein sein sein sein sein sein sein sein sein sein sein sein sein sein sein sein sein sein sein sein sein sein sein sein sein sein sein sein sein sein sein sein sein sein sein sein sein sein sein sein sein sein sein sein sein sein sein sein sein sein sein sein sein sein sein sein sein sein sein sein sein sein sein sein sein sein sein sein sein sein sein sein sein sein sein sein sein sein sein sein sein sein sein sein sein sein sein sein sein sein sein sein sein sein sein sein sein sein sein sein sein sein sein sein sein sein sein sein sein sein sein sein sein sein sein sein sein sein sein sein sein sein sein sein sein sein sein sein sein sein sein sein sein sein sein sein sein sein sein sein sein sein sein sein sein sein sein sein sein sein sein sein sein sein sein sein sein sein sein sein sein sein sein sein sein sein sein sein sein sein sein sein sein sein sein sein sein sein sein sein sein sein sein sein sein sein sein sein sein sein sein sein sein sein sein sein sein sein sein sein sein sein sein sein sein sein sein sein sein sein sein sein sein sein sein sein sein sein sein sein sein sein sein sein sein sein sein sein sein sein sein sein sein sein sein sein sein sein sein sein sein sein sein sein sein sein sein sein sein sein sein sein sein sein sein sein sein sein sein sein sein sein sein sein sein sein sein sein sein sein sein sein sein sein sein sein sein sein sein sein sein sein sein sein sein sein sein sein sein sein sein sein sein sein sein sein sein sein sein sein sein sein sein sein sein sein sein sein sein sein sein sein sein sein sein sein sein sein sein sein sein sein sein sein sein sein sein sein sein sein sein sein sein sein sein sein sein sein sein sein sein sein sein sein sein sein sein sein sein sein sein sein sein sein sein sein sein sein sein sein sein sein sein sein sein sein sein sein sein sein sein sein sein sein sein sein sein sein sein sein sein sein sein sein sein sein sein sein sein sein sein sein sein sein sein sein sein sein sein sein sein sein sein sein sein sein sein sein sein sein sein sein sein sein sein sein sein sein sein sein sein sein sein sein sein sein sein sein sein sein sein sein sein sein sein sein sein sein sein sein sein sein sein sein sein sein sein sein sein sein sein sein sein sein sein sein sein sein sein sein sein sein sein sein sein sein sein sein sein sein sein sein sein sein sein sein sein sein sein sein sein sein sein sein sein sein sein sein sein sein sein sein sein sein sein sein sein sein sein sein sein sein sein sein sein sein sein sein sein sein sein sein sein sein sein sein sein sein sein sein sein sein sein sein sein sein sein sein sein sein sein sein sein sein sein sein sein sein sein sein sein sein sein sein sein sein sein sein sein sein sein sein sein sein sein sein sein sein sein sein sein sein sein sein sein sein sein sein sein sein sein sein sein sein sein sein sein sein sein sein sein sein sein sein sein sein sein sein sein sein sein sein sein sein sein sein sein sein sein sein sein sein sein sein sein sein sein sein sein sein sein sein sein sein sein sein sein sein sein sein sein sein sein sein sein sein sein sein sein sein sein sein sein sein sein sein sein sein sein sein sein sein sein sein sein sein sein sein sein sein sein sein sein sein sein sein sein sein sein sein sein sein sein sein sein sein sein sein sein sein sein sein sein sein sein sein sein sein sein sein sein sein sein sein sein sein sein sein sein sein sein sein sein sein sein sein sein sein sein sein sein sein sein sein sein sein sein sein sein sein sein sein sein sein sein sein sein sein sein sein sein sein sein sein sein sein sein sein sein sein sein sein sein sein sein sein sein sein sein sein sein sein sein sein sein sein sein sein sein sein sein sein sein sein sein sein sein sein sein sein sein sein sein sein sein sein sein sein sein sein sein sein sein sein sein sein sein sein sein sein sein sein sein sein sein sein sein sein sein sein sein sein sein\n"
          ]
        }
      ]
    },
    {
      "cell_type": "markdown",
      "source": [
        "### model-1m-de-2024-03-21T17:03"
      ],
      "metadata": {
        "id": "-wJQAhzm_oCn"
      }
    },
    {
      "cell_type": "code",
      "source": [
        "model_directory = \"/content/drive/My Drive/genAI project/model-1m-de-2024-03-21T17:03:09.743730\"\n",
        "model = GPTNeoForCausalLM.from_pretrained(model_directory).to(device)\n",
        "\n",
        "output = model.generate(input_ids, max_length = 1024,\n",
        "                        num_beams=1, temperature=1)\n",
        "output_text = tokenizer.decode(output[0], skip_special_tokens=True)\n",
        "print(output_text)"
      ],
      "metadata": {
        "colab": {
          "base_uri": "https://localhost:8080/"
        },
        "id": "H_WtWJUW_nox",
        "outputId": "acc85118-f854-428b-bf04-88d853eee421"
      },
      "execution_count": null,
      "outputs": [
        {
          "output_type": "stream",
          "name": "stderr",
          "text": [
            "The attention mask and the pad token id were not set. As a consequence, you may observe unexpected behavior. Please pass your input's `attention_mask` to obtain reliable results.\n",
            "Setting `pad_token_id` to `eos_token_id`:50256 for open-end generation.\n"
          ]
        },
        {
          "output_type": "stream",
          "name": "stdout",
          "text": [
            "Es war einmal einmal einmal einmal einmal einmal einmal einmal einmal einmal einmal einmal einmal einmal einmal einmal einmal einmal einmal einmal einmal einmal einmal einmal einmal einmal einmal einmal einmal einmal einmal einmal einmal einmal einmal einmal einmal einmal einmal einmal einmal einmal einmal einmal einmal einmal einmal einmal einmal einmal einmal einmal einmal einmal einmal einmal einmal einmal einmal einmal einmal einmal einmal einmal einmal einmal einmal einmal einmal einmal einmal einmal einmal einmal einmal einmal einmal einmal einmal einmal einmal einmal einmal einmal einmal einmal einmal einmal einmal einmal einmal einmal einmal einmal einmal einmal einmal einmal einmal einmal einmal einmal einmal einmal einmal einmal einmal einmal einmal einmal einmal einmal einmal einmal einmal einmal einmal einmal einmal einmal einmal einmal einmal einmal einmal einmal einmal einmal einmal einmal einmal einmal einmal einmal einmal einmal einmal einmal einmal einmal einmal einmal einmal einmal einmal einmal einmal einmal einmal einmal einmal einmal einmal einmal einmal einmal einmal einmal einmal einmal einmal einmal einmal einmal einmal einmal einmal einmal einmal einmal einmal einmal einmal einmal einmal einmal einmal einmal einmal einmal einmal einmal einmal einmal einmal einmal einmal einmal einmal einmal einmal einmal einmal einmal einmal einmal einmal einmal einmal einmal einmal einmal einmal einmal einmal einmal einmal einmal einmal einmal einmal einmal einmal einmal einmal einmal einmal einmal einmal einmal einmal einmal einmal einmal einmal einmal einmal einmal einmal einmal einmal einmal einmal einmal einmal einmal einmal einmal einmal einmal einmal einmal einmal einmal einmal einmal einmal einmal einmal einmal einmal einmal einmal einmal einmal einmal einmal einmal einmal einmal einmal einmal einmal einmal einmal einmal einmal einmal einmal einmal einmal einmal einmal einmal einmal einmal einmal einmal einmal einmal einmal einmal einmal einmal einmal einmal einmal einmal einmal einmal einmal einmal einmal einmal einmal einmal einmal einmal einmal einmal einmal einmal einmal einmal einmal einmal einmal einmal einmal einmal einmal einmal einmal einmal einmal einmal einmal einmal einmal einmal einmal einmal einmal einmal einmal einmal einmal einmal einmal einmal einmal einmal einmal einmal einmal einmal einmal einmal einmal einmal einmal einmal einmal einmal einmal einmal einmal einmal einmal einmal einmal einmal einmal einmal einmal einmal einmal einmal einmal einmal einmal einmal einmal einmal einmal einmal einmal einmal einmal einmal einmal einmal einmal einmal einmal einmal einmal einmal einmal einmal einmal einmal einmal einmal einmal einmal einmal einmal einmal einmal einmal einmal einmal einmal einmal einmal einmal einmal einmal einmal einmal einmal einmal einmal einmal einmal einmal einmal einmal einmal einmal einmal einmal einmal einmal einmal einmal einmal einmal einmal einmal einmal einmal einmal einmal einmal einmal einmal einmal einmal einmal einmal einmal einmal einmal einmal einmal einmal einmal einmal einmal einmal einmal einmal einmal einmal einmal einmal einmal einmal einmal einmal einmal einmal einmal einmal einmal einmal einmal einmal einmal einmal einmal einmal einmal einmal einmal einmal einmal einmal einmal einmal einmal einmal einmal einmal einmal einmal einmal einmal einmal einmal einmal einmal einmal einmal einmal einmal einmal einmal einmal einmal einmal einmal einmal einmal einmal einmal einmal einmal einmal einmal einmal einmal einmal einmal einmal einmal einmal einmal einmal einmal einmal einmal einmal einmal einmal einmal einmal einmal einmal einmal einmal einmal einmal einmal einmal einmal einmal einmal einmal einmal einmal einmal einmal einmal einmal einmal einmal einmal einmal einmal einmal einmal einmal einmal einmal einmal einmal einmal einmal einmal einmal einmal einmal einmal einmal einmal einmal einmal einmal einmal einmal einmal einmal einmal einmal einmal einmal einmal einmal einmal einmal einmal einmal einmal einmal einmal einmal einmal einmal einmal einmal einmal einmal einmal einmal einmal einmal einmal einmal einmal einmal einmal einmal einmal einmal einmal einmal einmal einmal einmal einmal einmal einmal einmal einmal einmal einmal einmal einmal einmal einmal einmal einmal einmal einmal einmal einmal einmal einmal einmal einmal einmal einmal einmal einmal einmal einmal einmal einmal einmal einmal einmal einmal einmal einmal einmal einmal einmal einmal einmal einmal einmal einmal einmal einmal einmal einmal einmal einmal einmal einmal einmal einmal einmal einmal einmal einmal einmal einmal einmal einmal einmal einmal einmal einmal einmal einmal einmal einmal einmal einmal einmal einmal einmal einmal einmal einmal einmal einmal einmal einmal einmal einmal einmal einmal einmal einmal einmal einmal einmal einmal einmal einmal einmal einmal einmal einmal einmal einmal einmal einmal einmal einmal einmal einmal einmal einmal einmal einmal einmal einmal einmal einmal einmal einmal einmal einmal einmal einmal einmal einmal einmal einmal einmal einmal einmal einmal einmal einmal einmal einmal einmal einmal einmal einmal einmal einmal einmal einmal einmal einmal einmal einmal einmal einmal einmal einmal einmal einmal einmal einmal einmal einmal einmal einmal einmal einmal einmal einmal einmal einmal einmal einmal einmal einmal einmal einmal einmal einmal einmal einmal einmal einmal einmal einmal einmal einmal einmal einmal einmal einmal einmal einmal einmal einmal einmal einmal einmal einmal einmal einmal einmal einmal einmal einmal einmal einmal einmal einmal einmal einmal einmal einmal einmal einmal einmal einmal einmal einmal einmal einmal einmal einmal einmal einmal einmal einmal einmal einmal einmal einmal einmal einmal einmal einmal einmal einmal einmal einmal einmal einmal einmal einmal einmal einmal einmal einmal einmal einmal einmal einmal einmal einmal einmal einmal einmal einmal einmal einmal einmal einmal einmal einmal einmal einmal einmal einmal einmal einmal einmal einmal einmal einmal einmal einmal einmal einmal einmal einmal einmal einmal einmal einmal einmal einmal einmal einmal einmal einmal einmal einmal einmal einmal einmal einmal einmal einmal einmal einmal einmal einmal einmal einmal einmal einmal einmal einmal einmal einmal einmal einmal einmal einmal einmal einmal einmal einmal einmal einmal einmal einmal einmal einmal einmal einmal einmal einmal einmal einmal einmal einmal einmal einmal einmal einmal einmal einmal einmal einmal einmal einmal einmal einmal einmal einmal einmal einmal einmal einmal einmal einmal einmal einmal einmal einmal einmal einmal einmal einmal einmal einmal einmal einmal einmal einmal einmal einmal einmal einmal einmal einmal einmal einmal einmal einmal einmal einmal einmal einmal einmal einmal einmal einmal einmal einmal einmal einmal einmal einmal einmal einmal einmal einmal einmal einmal einmal einmal einmal einmal einmal einmal einmal einmal einmal einmal einmal einmal einmal einmal einmal einmal einmal einmal einmal einmal einmal einmal einmal einmal einmal einmal einmal einmal einmal einmal einmal einmal einmal einmal einmal\n"
          ]
        }
      ]
    },
    {
      "cell_type": "markdown",
      "source": [
        "## Our English recreation models"
      ],
      "metadata": {
        "id": "KwFqBToTX9pL"
      }
    },
    {
      "cell_type": "code",
      "source": [
        "tokenizer = AutoTokenizer.from_pretrained(\"EleutherAI/gpt-neo-125M\")\n",
        "\n",
        "prompt = \"Once upon a time there was\"\n",
        "input_ids = tokenizer.encode(prompt, return_tensors=\"pt\").to(device)"
      ],
      "metadata": {
        "id": "ZTzqpFSzW8gh",
        "colab": {
          "base_uri": "https://localhost:8080/",
          "height": 177,
          "referenced_widgets": [
            "b8ec73f65f264685a62a4a363b817fcf",
            "4ce9094d84774ff9800e8bfddba348c5",
            "e492f955f17446a0a21bb3508ef8ab47",
            "803e6450e5814c9498bf05bab7a8366f",
            "91d1366f80a44a58a786355a5f5b5515",
            "31adad93da72440d8f9eb4fb97886099",
            "d8705b02f0bf41609b85a40b13033f63",
            "7c7fe31e60eb46c4ad7aa6b4bdc06d83",
            "a84b1810b7e94db595762245eeb8f35f",
            "53872077da1b40948eeac7542a14021e",
            "bd88a44846ab42c8b324d1c79b30cbcc",
            "e2ca2e01e7ed494199d78af8f8c281b1",
            "4a1efaa484714b91af5ddbc1df085d8b",
            "9af8da6a03944742a442bc18ae2dac58",
            "0cffc2bfa87743caadcdf558ad95e30b",
            "5ed06d98591a446bb6f87d948bd02bdf",
            "fff8423bbde643b9ac42eb8475ea66bc",
            "9ec94736ec824e009e871d7641b8e70b",
            "61b8860d9f1d43daa8930b96399e0509",
            "43d922c7a859430a9153cb226a6274c3",
            "82145a85608840fba8877820f40aa07b",
            "0cb01440c2db44c88718698e3eadaab3",
            "1a04f4952ab34015af0fe1df69132c4c",
            "489cb14b500c4181940312a0bc6603f1",
            "45e200ea0f144092bd5a7b737d082320",
            "072a9b621c6e4b60ac4399f57a62b42e",
            "3b3e246bdedf4221aada668054150b36",
            "63a2061a1ac84b61b44f17127704cd76",
            "b9cfd06163074818a5a52b8556dbbdc4",
            "00d4ffbcf3ac423d927a8747b87496a2",
            "ed5f13713e004fc4949e24a939ecb29e",
            "4d15239cfc9c4cba92bb40a8acb12345",
            "49d881a719be4f2f83cbd2587e260d82",
            "b99b3417ea69498ab44c7b9a35c1f982",
            "57ef0487fdbc43a487669e270958a61d",
            "0ddea6f4058540cdaf792398dce2ba12",
            "5e37a6f0366947cd8a1d5202a32cf31a",
            "3cf3d135e55444e3ae1399af6729a22d",
            "07b47ec2de8d4bda90cf23280f834d53",
            "3d488a18601c40679abf48c1ab1eff8b",
            "a120a10407a64c38953be93e1b095315",
            "b5fbd89c3a5c41488256a13ec5bf8b99",
            "4f0c541331054672b2e3666148c21f65",
            "d1810f56cc8447bbbe3b56f9c8218301",
            "441eb01568b0460e88e9ad9ce58759a7",
            "22a5c5560ba44877a878368be798e152",
            "040de586698d4e54bb87045649ed719f",
            "83781d83f5274c38b65e068266a426d1",
            "2f702221adae4dc99cc45f0c365b84f4",
            "6290fa8f3cff45ab9294388b84bda823",
            "c55dedeeabba4339ba5ef7d572a9f609",
            "6ae1dda5876543f397e47ac235d3e3de",
            "adce1841bdbe4d08a84e51bd2294cd2d",
            "f97e42b7bbf6482d89d6b9c9b0922648",
            "65f0aaa2c6c342c5a540d18d948a3824"
          ]
        },
        "outputId": "ad3d322b-d750-417a-c10d-708710841267"
      },
      "execution_count": null,
      "outputs": [
        {
          "output_type": "display_data",
          "data": {
            "text/plain": [
              "tokenizer_config.json:   0%|          | 0.00/727 [00:00<?, ?B/s]"
            ],
            "application/vnd.jupyter.widget-view+json": {
              "version_major": 2,
              "version_minor": 0,
              "model_id": "b8ec73f65f264685a62a4a363b817fcf"
            }
          },
          "metadata": {}
        },
        {
          "output_type": "display_data",
          "data": {
            "text/plain": [
              "vocab.json:   0%|          | 0.00/899k [00:00<?, ?B/s]"
            ],
            "application/vnd.jupyter.widget-view+json": {
              "version_major": 2,
              "version_minor": 0,
              "model_id": "e2ca2e01e7ed494199d78af8f8c281b1"
            }
          },
          "metadata": {}
        },
        {
          "output_type": "display_data",
          "data": {
            "text/plain": [
              "merges.txt:   0%|          | 0.00/456k [00:00<?, ?B/s]"
            ],
            "application/vnd.jupyter.widget-view+json": {
              "version_major": 2,
              "version_minor": 0,
              "model_id": "1a04f4952ab34015af0fe1df69132c4c"
            }
          },
          "metadata": {}
        },
        {
          "output_type": "display_data",
          "data": {
            "text/plain": [
              "tokenizer.json:   0%|          | 0.00/2.11M [00:00<?, ?B/s]"
            ],
            "application/vnd.jupyter.widget-view+json": {
              "version_major": 2,
              "version_minor": 0,
              "model_id": "b99b3417ea69498ab44c7b9a35c1f982"
            }
          },
          "metadata": {}
        },
        {
          "output_type": "display_data",
          "data": {
            "text/plain": [
              "special_tokens_map.json:   0%|          | 0.00/357 [00:00<?, ?B/s]"
            ],
            "application/vnd.jupyter.widget-view+json": {
              "version_major": 2,
              "version_minor": 0,
              "model_id": "441eb01568b0460e88e9ad9ce58759a7"
            }
          },
          "metadata": {}
        }
      ]
    },
    {
      "cell_type": "markdown",
      "source": [
        "### model-2024-03-09"
      ],
      "metadata": {
        "id": "N2v35VFQWOo8"
      }
    },
    {
      "cell_type": "code",
      "source": [
        "model_directory = \"/content/drive/My Drive/genAI project/model-2024-03-09T00:44:46.832115\"\n",
        "\n",
        "if os.path.exists(model_directory):\n",
        "    model = GPTNeoForCausalLM.from_pretrained(model_directory).to(device)\n",
        "    print(\"model loaded.\")\n",
        "else:\n",
        "    print(\"Model not loaded!\")"
      ],
      "metadata": {
        "colab": {
          "base_uri": "https://localhost:8080/",
          "height": 211
        },
        "id": "8uR3ITIgXhCd",
        "outputId": "7b8e4675-fc18-48f6-8d65-b044196a72d8"
      },
      "execution_count": null,
      "outputs": [
        {
          "output_type": "error",
          "ename": "NameError",
          "evalue": "name 'os' is not defined",
          "traceback": [
            "\u001b[0;31m---------------------------------------------------------------------------\u001b[0m",
            "\u001b[0;31mNameError\u001b[0m                                 Traceback (most recent call last)",
            "\u001b[0;32m<ipython-input-1-4f008cfd4396>\u001b[0m in \u001b[0;36m<cell line: 3>\u001b[0;34m()\u001b[0m\n\u001b[1;32m      1\u001b[0m \u001b[0mmodel_directory\u001b[0m \u001b[0;34m=\u001b[0m \u001b[0;34m\"/content/drive/My Drive/genAI project/model-2024-03-09T00:44:46.832115\"\u001b[0m\u001b[0;34m\u001b[0m\u001b[0;34m\u001b[0m\u001b[0m\n\u001b[1;32m      2\u001b[0m \u001b[0;34m\u001b[0m\u001b[0m\n\u001b[0;32m----> 3\u001b[0;31m \u001b[0;32mif\u001b[0m \u001b[0mos\u001b[0m\u001b[0;34m.\u001b[0m\u001b[0mpath\u001b[0m\u001b[0;34m.\u001b[0m\u001b[0mexists\u001b[0m\u001b[0;34m(\u001b[0m\u001b[0mmodel_directory\u001b[0m\u001b[0;34m)\u001b[0m\u001b[0;34m:\u001b[0m\u001b[0;34m\u001b[0m\u001b[0;34m\u001b[0m\u001b[0m\n\u001b[0m\u001b[1;32m      4\u001b[0m     \u001b[0mmodel\u001b[0m \u001b[0;34m=\u001b[0m \u001b[0mGPTNeoForCausalLM\u001b[0m\u001b[0;34m.\u001b[0m\u001b[0mfrom_pretrained\u001b[0m\u001b[0;34m(\u001b[0m\u001b[0mmodel_directory\u001b[0m\u001b[0;34m)\u001b[0m\u001b[0;34m.\u001b[0m\u001b[0mto\u001b[0m\u001b[0;34m(\u001b[0m\u001b[0mdevice\u001b[0m\u001b[0;34m)\u001b[0m\u001b[0;34m\u001b[0m\u001b[0;34m\u001b[0m\u001b[0m\n\u001b[1;32m      5\u001b[0m     \u001b[0mprint\u001b[0m\u001b[0;34m(\u001b[0m\u001b[0;34m\"model loaded.\"\u001b[0m\u001b[0;34m)\u001b[0m\u001b[0;34m\u001b[0m\u001b[0;34m\u001b[0m\u001b[0m\n",
            "\u001b[0;31mNameError\u001b[0m: name 'os' is not defined"
          ]
        }
      ]
    },
    {
      "cell_type": "code",
      "source": [
        "#model.num_parameters()   #-> 3.7M"
      ],
      "metadata": {
        "colab": {
          "base_uri": "https://localhost:8080/"
        },
        "id": "GpEgHH7BepGG",
        "outputId": "d45c40b4-9edb-4d82-c113-9ffe753f0b67"
      },
      "execution_count": null,
      "outputs": [
        {
          "output_type": "execute_result",
          "data": {
            "text/plain": [
              "3745984"
            ]
          },
          "metadata": {},
          "execution_count": 19
        }
      ]
    },
    {
      "cell_type": "code",
      "execution_count": null,
      "metadata": {
        "colab": {
          "base_uri": "https://localhost:8080/"
        },
        "id": "IxZSp0WzWgHM",
        "outputId": "1df61822-8c80-4956-946d-6f3f092e22d7"
      },
      "outputs": [
        {
          "output_type": "stream",
          "name": "stderr",
          "text": [
            "/usr/local/lib/python3.10/dist-packages/transformers/generation/configuration_utils.py:410: UserWarning: `do_sample` is set to `False`. However, `temperature` is set to `0` -- this flag is only used in sample-based generation modes. You should set `do_sample=True` or unset `temperature`.\n",
            "  warnings.warn(\n",
            "The attention mask and the pad token id were not set. As a consequence, you may observe unexpected behavior. Please pass your input's `attention_mask` to obtain reliable results.\n",
            "Setting `pad_token_id` to `eos_token_id`:50256 for open-end generation.\n"
          ]
        },
        {
          "output_type": "stream",
          "name": "stdout",
          "text": [
            "Once upon a time there was a little boy named Timmy. Timmy loved to play outside in the park. One day, Timmy's mom told him to go to the park. Timmy didn't want to play with his mom.\n",
            "\n",
            "Timmy's mom said yes, but Timmy didn't want to play. Timmy didn't want to play with his mom. Timmy was sad and didn't want to play with his mom.\n",
            "\n",
            "Timmy's mom said, \"Timmy, Timmy, but Timmy didn't want to play with him. Timmy didn't want to play with Timmy. Timmy didn't want to play with Timmy. Timmy was sad and didn't want to play with Timmy.\n",
            "\n",
            "Timmy was sad and didn't want to play with Timmy. Timmy was sad and didn't want to play with Timmy. Timmy didn't want to play with Timmy. Timmy was sad and didn't want to play with Timmy. Timmy didn't want to play with Timmy.\n",
            "\n",
            "Timmy was sad and didn't want to play with Timmy. Timmy didn't want to play with Timmy, but he didn't want to play with Timmy. Timmy didn't want to play with Timmy, but he didn't want to play with Timmy. Timmy didn't want to play with Timmy, but he didn't want to play with Timmy.\n",
            "\n",
            "Timmy's mom said, \"Timmy, Timmy, Timmy, Timmy, Timmy, Timmy, Timmy, Timmy, but Timmy didn't have to play with him. Timmy was too. Timmy said, \"Timmy, Timmy, Timmy, Timmy, Timmy, Timmy, Timmy, Timmy, Timmy, but Timmy's okay, but Timmy didn't have to play with Timmy. Timmy was too. Timmy said, \" Timmy, Timmy, Timmy, Timmy, Timmy, Timmy, Timmy, Timmy, Timmy, Timmy. Timmy, Timmy, but Timmy was too, but Timmy. Timmy said, \"Timmy, Timmy, Timmy, Timmy, Timmy, Timmy, Timmy, Timmy, Timmy, Timmy, Timmy, Timmy, Timmy, Timmy, Timmy, Timmy, Timmy, Timmy, Timmy, Timmy, Timmy, Timmy and Timmy, Timmy, Timmy's mommy, Timmy, Timmy, Timmy, Timmy's mommy, Timmy and Timmy's house. Timmy's mommy's mom said, \" Timmy, Timmy, Timmy, Timmy. Timmy, Timmy, Timmy, Timmy, Timmy, Timmy, Timmy, Timmy, Timmy, Timmy, Timmy, Timmy, Timmy, Timmy, Timmy, Timmy, Timmy, Timmy, Timmy, Timmy, Timmy, Timmy, Timmy, Timmy, Timmy, Timmy, Timmy, Timmy, Timmy, Timmy, Timmy, Timmy's mommy, Timmy, Timmy, Timmy, Timmy, Timmy, Timmy's mommy, Timmy, Timmy, Timmy, Timmy, Timmy, Timmy, Timmy, Timmy, Timmy, Timmy, Timmy, Timmy, Timmy, Timmy, Timmy, Timmy, Timmy's mommy, Timmy, Timmy, Timmy, Timmy, Timmy, Timmy's mommy, Timmy, Timmy, Timmy, Timmy, Timmy, Timmy, Timmy, Timmy, Timmy, Timmy, Timmy, Timmy, Timmy, Timmy, Timmy, Timmy, Timmy, Timmy, Timmy, Timmy, Timmy, Timmy, Timmy, Timmy, Timmy, Timmy, Timmy, Timmy, Timmy, Timmy, Timmy, Timmy, Timmy, Timmy, Timmy, Timmy, Timmy, Timmy, Timmy, Timmy, Timmy, Timmy, Timmy, Timmy, Timmy, Timmy, Timmy, Timmy, Timmy, Timmy, Timmy, Timmy, Timmy, Timmy, Timmy, Timmy, Timmy, Timmy, Timmy, Timmy, Timmy, Timmy, Timmy, Timmy, Timmy, Timmy, Timmy, Timmy, Timmy, Timmy, Timmy, Timmy, Timmy, Timmy, Timmy, Timmy, Timmy, Timmy and Timmy, Timmy, Timmy, Tim\n"
          ]
        }
      ],
      "source": [
        "output = model.generate(input_ids, max_length = 1024,\n",
        "                        num_beams=5, temperature=0)\n",
        "output_text = tokenizer.decode(output[0], skip_special_tokens=True)\n",
        "print(output_text)"
      ]
    },
    {
      "cell_type": "markdown",
      "source": [
        "### model-2024-03-11"
      ],
      "metadata": {
        "id": "AoTlVoYsWkTg"
      }
    },
    {
      "cell_type": "code",
      "source": [
        "model_directory = \"/content/drive/My Drive/genAI project/model-2024-03-11\"\n",
        "\n",
        "if os.path.exists(model_directory):\n",
        "    model = GPTNeoForCausalLM.from_pretrained(model_directory).to(device)\n",
        "    print(\"model loaded.\")\n",
        "else:\n",
        "    print(\"Model not loaded!\")"
      ],
      "metadata": {
        "colab": {
          "base_uri": "https://localhost:8080/"
        },
        "id": "RvK8GPezWnP9",
        "outputId": "5e9b47a0-a57b-441b-b67e-55e3cc941683"
      },
      "execution_count": null,
      "outputs": [
        {
          "output_type": "stream",
          "name": "stdout",
          "text": [
            "model loaded.\n"
          ]
        }
      ]
    },
    {
      "cell_type": "code",
      "source": [
        "output = model.generate(input_ids, max_length = 1024,\n",
        "                        num_beams=5, temperature=0)\n",
        "output_text = tokenizer.decode(output[0], skip_special_tokens=True)\n",
        "print(output_text)"
      ],
      "metadata": {
        "colab": {
          "base_uri": "https://localhost:8080/"
        },
        "id": "7QYKkAN9W-qB",
        "outputId": "2da0df83-4dd1-4ca6-e6b7-7cb65d48c955"
      },
      "execution_count": null,
      "outputs": [
        {
          "output_type": "stream",
          "name": "stderr",
          "text": [
            "The attention mask and the pad token id were not set. As a consequence, you may observe unexpected behavior. Please pass your input's `attention_mask` to obtain reliable results.\n",
            "Setting `pad_token_id` to `eos_token_id`:50256 for open-end generation.\n"
          ]
        },
        {
          "output_type": "stream",
          "name": "stdout",
          "text": [
            "Once upon a time there was a little boy named Timmy. Timmy loved to play outside in the park. One day, Timmy's mom told him to go to the park. Timmy didn't want to play with his mom.\n",
            "\n",
            "Timmy's mom said yes, but Timmy didn't want to play. Timmy didn't want to play with his mom. Timmy was sad and didn't want to play with his mom.\n",
            "\n",
            "Timmy's mom said, \"Timmy, Timmy, but Timmy didn't want to play with him. Timmy didn't want to play with Timmy. Timmy didn't want to play with Timmy. Timmy was sad and didn't want to play with Timmy.\n",
            "\n",
            "Timmy was sad and didn't want to play with Timmy. Timmy was sad and didn't want to play with Timmy. Timmy didn't want to play with Timmy. Timmy was sad and didn't want to play with Timmy. Timmy didn't want to play with Timmy.\n",
            "\n",
            "Timmy was sad and didn't want to play with Timmy. Timmy didn't want to play with Timmy, but he didn't want to play with Timmy. Timmy didn't want to play with Timmy, but he didn't want to play with Timmy. Timmy didn't want to play with Timmy, but he didn't want to play with Timmy.\n",
            "\n",
            "Timmy's mom said, \"Timmy, Timmy, Timmy, Timmy, Timmy, Timmy, Timmy, Timmy, but Timmy didn't have to play with him. Timmy was too. Timmy said, \"Timmy, Timmy, Timmy, Timmy, Timmy, Timmy, Timmy, Timmy, Timmy, but Timmy's okay, but Timmy didn't have to play with Timmy. Timmy was too. Timmy said, \" Timmy, Timmy, Timmy, Timmy, Timmy, Timmy, Timmy, Timmy, Timmy, Timmy. Timmy, Timmy, but Timmy was too, but Timmy. Timmy said, \"Timmy, Timmy, Timmy, Timmy, Timmy, Timmy, Timmy, Timmy, Timmy, Timmy, Timmy, Timmy, Timmy, Timmy, Timmy, Timmy, Timmy, Timmy, Timmy, Timmy, Timmy, Timmy and Timmy, Timmy, Timmy's mommy, Timmy, Timmy, Timmy, Timmy's mommy, Timmy and Timmy's house. Timmy's mommy's mom said, \" Timmy, Timmy, Timmy, Timmy. Timmy, Timmy, Timmy, Timmy, Timmy, Timmy, Timmy, Timmy, Timmy, Timmy, Timmy, Timmy, Timmy, Timmy, Timmy, Timmy, Timmy, Timmy, Timmy, Timmy, Timmy, Timmy, Timmy, Timmy, Timmy, Timmy, Timmy, Timmy, Timmy, Timmy, Timmy, Timmy's mommy, Timmy, Timmy, Timmy, Timmy, Timmy, Timmy's mommy, Timmy, Timmy, Timmy, Timmy, Timmy, Timmy, Timmy, Timmy, Timmy, Timmy, Timmy, Timmy, Timmy, Timmy, Timmy, Timmy, Timmy's mommy, Timmy, Timmy, Timmy, Timmy, Timmy, Timmy's mommy, Timmy, Timmy, Timmy, Timmy, Timmy, Timmy, Timmy, Timmy, Timmy, Timmy, Timmy, Timmy, Timmy, Timmy, Timmy, Timmy, Timmy, Timmy, Timmy, Timmy, Timmy, Timmy, Timmy, Timmy, Timmy, Timmy, Timmy, Timmy, Timmy, Timmy, Timmy, Timmy, Timmy, Timmy, Timmy, Timmy, Timmy, Timmy, Timmy, Timmy, Timmy, Timmy, Timmy, Timmy, Timmy, Timmy, Timmy, Timmy, Timmy, Timmy, Timmy, Timmy, Timmy, Timmy, Timmy, Timmy, Timmy, Timmy, Timmy, Timmy, Timmy, Timmy, Timmy, Timmy, Timmy, Timmy, Timmy, Timmy, Timmy, Timmy, Timmy, Timmy, Timmy, Timmy, Timmy, Timmy, Timmy, Timmy and Timmy, Timmy, Timmy, Tim\n"
          ]
        }
      ]
    },
    {
      "cell_type": "markdown",
      "source": [
        "## TinyStories models"
      ],
      "metadata": {
        "id": "mMsQdw2VXDx-"
      }
    },
    {
      "cell_type": "markdown",
      "source": [
        "### 33M"
      ],
      "metadata": {
        "id": "gq52oENab9zy"
      }
    },
    {
      "cell_type": "code",
      "source": [
        "model = AutoModelForCausalLM.from_pretrained('roneneldan/TinyStories-33M')"
      ],
      "metadata": {
        "id": "OzWfTIgVbkFQ"
      },
      "execution_count": null,
      "outputs": []
    },
    {
      "cell_type": "code",
      "source": [
        "output = model.generate(input_ids, max_length = 1000, num_beams=1)\n",
        "output_text = tokenizer.decode(output[0], skip_special_tokens=True)\n",
        "print(output_text)"
      ],
      "metadata": {
        "colab": {
          "base_uri": "https://localhost:8080/"
        },
        "id": "a5OI9dqx4Ow4",
        "outputId": "0dbdea62-f1f9-4dc7-fa58-744d659a80d5"
      },
      "execution_count": null,
      "outputs": [
        {
          "output_type": "stream",
          "name": "stderr",
          "text": [
            "The attention mask and the pad token id were not set. As a consequence, you may observe unexpected behavior. Please pass your input's `attention_mask` to obtain reliable results.\n",
            "Setting `pad_token_id` to `eos_token_id`:50256 for open-end generation.\n"
          ]
        },
        {
          "output_type": "stream",
          "name": "stdout",
          "text": [
            "Once upon a time there was a little girl named Lucy. She was three years old and loved to explore. One day, Lucy was walking in the park when she saw a big, red balloon. She was so excited and ran over to it.\n",
            "\n",
            "\"Can I have it?\" she asked.\n",
            "\n",
            "\"No,\" said her mom. \"It's too big for you. You can't have it.\"\n",
            "\n",
            "Lucy was sad, but then she saw a small, red balloon. She smiled and said, \"I want that one!\"\n",
            "\n",
            "Her mom smiled and said, \"Okay, let's go get it.\"\n",
            "\n",
            "So they went to the balloon and Lucy was so happy. She held the balloon tight and ran around the park with it. She laughed and smiled and had so much fun.\n",
            "\n",
            "When it was time to go home, Lucy hugged the balloon and said, \"I love you, balloon!\"\n",
            "\n",
            "Her mom smiled and said, \"I love you too, Lucy.\"\n",
            "\n"
          ]
        }
      ]
    },
    {
      "cell_type": "markdown",
      "source": [
        "#### test with `num_beams=5, temperature=0`"
      ],
      "metadata": {
        "id": "HHBsMo-JcY99"
      }
    },
    {
      "cell_type": "code",
      "source": [
        "output = model.generate(input_ids, max_length = 1000, num_beams=5, temperature=0)\n",
        "output_text = tokenizer.decode(output[0], skip_special_tokens=True)\n",
        "print(output_text)"
      ],
      "metadata": {
        "id": "EM8rGAvX5dLg",
        "colab": {
          "base_uri": "https://localhost:8080/"
        },
        "outputId": "2bb97d70-bb22-4a3c-8314-5a46ccf54061"
      },
      "execution_count": null,
      "outputs": [
        {
          "output_type": "stream",
          "name": "stderr",
          "text": [
            "The attention mask and the pad token id were not set. As a consequence, you may observe unexpected behavior. Please pass your input's `attention_mask` to obtain reliable results.\n",
            "Setting `pad_token_id` to `eos_token_id`:50256 for open-end generation.\n"
          ]
        },
        {
          "output_type": "stream",
          "name": "stdout",
          "text": [
            "Once upon a time there was a little girl named Lucy. She was three years old and loved to explore the world around her.\n",
            "\n",
            "One day, Lucy decided to go for a walk in the park. As she was walking, she saw something shiny in the grass. She bent down to take a closer look and saw that it was a penny!\n",
            "\n",
            "Lucy was so excited that she picked it up and put it in her pocket. Suddenly, she heard a voice behind her.\n",
            "\n",
            "\"What do you have there, Lucy?\" asked the voice.\n",
            "\n",
            "Lucy turned around and saw an old man. She smiled and said, \"I found a penny in the grass!\"\n",
            "\n",
            "The old man smiled and said, \"That's great! You should keep it safe.\"\n",
            "\n",
            "Lucy thanked the old man and put the penny in her pocket. She then continued her walk in the park, feeling very happy.\n",
            "\n"
          ]
        }
      ]
    },
    {
      "cell_type": "markdown",
      "source": [
        "### 1M"
      ],
      "metadata": {
        "id": "eLGoq0Ohcgzx"
      }
    },
    {
      "cell_type": "code",
      "source": [
        "model = AutoModelForCausalLM.from_pretrained('roneneldan/TinyStories-1M')"
      ],
      "metadata": {
        "id": "5oMbTY-wP2Fk"
      },
      "execution_count": null,
      "outputs": []
    },
    {
      "cell_type": "code",
      "source": [
        "output = model.generate(input_ids, max_length = 1000, num_beams=5, temperature=0)\n",
        "output_text = tokenizer.decode(output[0], skip_special_tokens=True)\n",
        "print(output_text)"
      ],
      "metadata": {
        "colab": {
          "base_uri": "https://localhost:8080/"
        },
        "id": "CfIGC7oBcnji",
        "outputId": "b49dec97-3b4e-4074-b843-1be5f5e19e11"
      },
      "execution_count": null,
      "outputs": [
        {
          "output_type": "stream",
          "name": "stderr",
          "text": [
            "The attention mask and the pad token id were not set. As a consequence, you may observe unexpected behavior. Please pass your input's `attention_mask` to obtain reliable results.\n",
            "Setting `pad_token_id` to `eos_token_id`:50256 for open-end generation.\n"
          ]
        },
        {
          "output_type": "stream",
          "name": "stdout",
          "text": [
            "Once upon a time there was a little boy named Timmy. Timmy loved to play outside and explore the world around him. One day, Timmy went to the park with his mommy and daddy. Timmy was so excited to explore the park.\n",
            "\n",
            "When they got to the park, Timmy's mommy said they were going to the park. Timmy was so excited to go and play on the swings. But when they got to the park, Timmy's mommy said it was time to go home. Timmy was sad because he didn't want to go to the park again.\n",
            "\n",
            "After a while, Timmy's mommy said it was time to go home. Timmy was sad because he didn't want to go back to the park again. But his mommy said it was time to go home. Timmy was sad, but he knew he had to go to the park again tomorrow.\n",
            "\n"
          ]
        }
      ]
    },
    {
      "cell_type": "markdown",
      "source": [
        "### 3M"
      ],
      "metadata": {
        "id": "BCCpvesugFXw"
      }
    },
    {
      "cell_type": "code",
      "source": [
        "model = AutoModelForCausalLM.from_pretrained('roneneldan/TinyStories-3M')"
      ],
      "metadata": {
        "colab": {
          "base_uri": "https://localhost:8080/",
          "height": 81,
          "referenced_widgets": [
            "aaa73ad47c5f441eb104a5016f27213d",
            "c2f842fb293f4a8da67ca87bae2a61c9",
            "283e5a48ae6441d0842eb9fcebfbaf18",
            "c7f19b79b943478aa7a89c4ccdd43367",
            "dd00e5508eb34ba8a34c2209e2e57fc8",
            "d5d7975a4eb04adaa6139008a0d10a74",
            "f40ec6c316ce47438ad7fd1ba14e9e65",
            "1a968755205e4125b398ba15cf515bd5",
            "e45e685e0acd432e9d024d32dbdad85f",
            "94f64b7ea6e14259b3c311a260ca4c78",
            "8ac57fa6e210486bad35699b22db4507",
            "fe22d7922af44556b01567a614df0c08",
            "5ba7f73f6dda4cef9ea9b6750c922c25",
            "b007dff31b604ac2a8dcd5499b98c179",
            "66f2553f42474cc3b2396b9c5169b209",
            "09ab3549b25a4ed28b2c0a1192134b07",
            "0aafc91a52514f4e9c6daebebdd8af1d",
            "6869fc205ec149b3a08827c2de2e0684",
            "5ad001bea23b468ba7b023ccc3386c2a",
            "ebdf97cdf6b44da2853fc764da161686",
            "4822a3a9767b4b679d7e0acc60a07456",
            "06e2fc833aad426f93c51859d07c1c2d"
          ]
        },
        "id": "Gnmd3VfHcrX_",
        "outputId": "f9f5e1f3-0fb5-4e94-c436-f547a19fcdd1"
      },
      "execution_count": null,
      "outputs": [
        {
          "output_type": "display_data",
          "data": {
            "text/plain": [
              "config.json:   0%|          | 0.00/1.02k [00:00<?, ?B/s]"
            ],
            "application/vnd.jupyter.widget-view+json": {
              "version_major": 2,
              "version_minor": 0,
              "model_id": "aaa73ad47c5f441eb104a5016f27213d"
            }
          },
          "metadata": {}
        },
        {
          "output_type": "display_data",
          "data": {
            "text/plain": [
              "pytorch_model.bin:   0%|          | 0.00/66.7M [00:00<?, ?B/s]"
            ],
            "application/vnd.jupyter.widget-view+json": {
              "version_major": 2,
              "version_minor": 0,
              "model_id": "fe22d7922af44556b01567a614df0c08"
            }
          },
          "metadata": {}
        }
      ]
    },
    {
      "cell_type": "code",
      "source": [
        "output = model.generate(input_ids, max_length = 1000, num_beams=5, temperature=0)\n",
        "output_text = tokenizer.decode(output[0], skip_special_tokens=True)\n",
        "print(output_text)"
      ],
      "metadata": {
        "colab": {
          "base_uri": "https://localhost:8080/"
        },
        "id": "i-68433kgJAx",
        "outputId": "8db73ff3-17ae-4670-d25f-8b49d626eb11"
      },
      "execution_count": null,
      "outputs": [
        {
          "output_type": "stream",
          "name": "stderr",
          "text": [
            "/usr/local/lib/python3.10/dist-packages/transformers/generation/configuration_utils.py:410: UserWarning: `do_sample` is set to `False`. However, `temperature` is set to `0` -- this flag is only used in sample-based generation modes. You should set `do_sample=True` or unset `temperature`.\n",
            "  warnings.warn(\n",
            "The attention mask and the pad token id were not set. As a consequence, you may observe unexpected behavior. Please pass your input's `attention_mask` to obtain reliable results.\n",
            "Setting `pad_token_id` to `eos_token_id`:50256 for open-end generation.\n"
          ]
        },
        {
          "output_type": "stream",
          "name": "stdout",
          "text": [
            "Once upon a time there was a little boy named Timmy. Timmy loved to play with his toys all day long. One day, Timmy's mom asked him to clean up his toys. Timmy didn't want to clean up, but he knew he had to listen to his mom.\n",
            "\n",
            "As Timmy was cleaning up his toys, he accidentally knocked over a vase. The vase fell on the floor and broke into many pieces. Timmy was sad because he couldn't play with his toys anymore.\n",
            "\n",
            "Timmy's mom came into the room and saw the broken vase. She asked Timmy what happened and Timmy told her about the broken vase. His mom hugged him and said, \"It's okay, Timmy. Accidents happen. Let's clean up the mess together.\"\n",
            "\n",
            "Timmy learned that it's important to listen to his mom and to clean up after himself. He also learned that it's important to listen to his mom and clean up after himself.\n",
            "\n"
          ]
        }
      ]
    },
    {
      "cell_type": "code",
      "source": [],
      "metadata": {
        "id": "fTZz1QRRgL3o"
      },
      "execution_count": null,
      "outputs": []
    }
  ]
}