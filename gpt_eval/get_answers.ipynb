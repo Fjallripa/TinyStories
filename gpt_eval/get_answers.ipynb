{
 "cells": [
  {
   "cell_type": "code",
   "execution_count": 38,
   "metadata": {},
   "outputs": [],
   "source": [
    "import openai\n",
    "from tqdm.auto import tqdm\n",
    "import os\n",
    "import json\n",
    "from dotenv import load_dotenv, find_dotenv\n",
    "_ = load_dotenv(find_dotenv())\n",
    "import torch\n",
    "from transformers import AutoTokenizer, AutoModelForCausalLM"
   ]
  },
  {
   "cell_type": "code",
   "execution_count": 36,
   "metadata": {},
   "outputs": [
    {
     "name": "stdout",
     "output_type": "stream",
     "text": [
      "Using: cpu\n"
     ]
    }
   ],
   "source": [
    "device = \"cuda\" if torch.cuda.is_available() else \"cpu\"\n",
    "print(f\"Using: {device}\")"
   ]
  },
  {
   "cell_type": "code",
   "execution_count": 11,
   "metadata": {},
   "outputs": [],
   "source": [
    "openai_api_key = os.environ.get(\"OPENAI_API_KEY\")\n",
    "openai_api_base = os.environ.get(\"OPENAI_API_BASE\")"
   ]
  },
  {
   "cell_type": "code",
   "execution_count": 31,
   "metadata": {},
   "outputs": [],
   "source": [
    "def get_single_answer_gpt(model_id, prompt):\n",
    "    for i in range(10):\n",
    "        try:\n",
    "            completion = openai.ChatCompletion.create(\n",
    "                model = model_id,\n",
    "                messages = [{\"role\": \"user\", \"content\": prompt}],\n",
    "                stream = False,\n",
    "            ).choices[0].message.content\n",
    "            break\n",
    "        except Exception as e:\n",
    "            completion = f\"AN ERROR OCCURRED! {e}\"\n",
    "    return completion\n",
    "\n",
    "def get_single_answer_hf(model, tokenizer, prompt, device=device):\n",
    "    input_ids = tokenizer.encode(prompt, return_tensors=\"pt\").to(device)\n",
    "    gen = model.generate(\n",
    "        input_ids,\n",
    "        num_beams = 1\n",
    "    )[0]\n",
    "    return tokenizer.decode(gen, skip_special_tokens=True)"
   ]
  },
  {
   "cell_type": "code",
   "execution_count": null,
   "metadata": {},
   "outputs": [],
   "source": [
    "# for hf pretrained, hf own trained and gpt-3.5: repeat:"
   ]
  },
  {
   "cell_type": "code",
   "execution_count": 37,
   "metadata": {},
   "outputs": [],
   "source": [
    "lang = \"en\"  # \"en\" or \"de\""
   ]
  },
  {
   "cell_type": "code",
   "execution_count": null,
   "metadata": {},
   "outputs": [],
   "source": [
    "# gpt-3.5-turbo\n",
    "answers = []\n",
    "with open(f\"full_stories_{lang}.json\", \"r\") as f:\n",
    "    full_stories = json.load(f)\n",
    "for fs in tqdm(full_stories):\n",
    "    completion = get_single_answer_gpt(\"gpt-3.5-turbo\", fs[\"prompt\"])\n",
    "    fs[\"completion\"] = completion\n",
    "    answers.append(fs)\n",
    "with open(f\"answers_{lang}_gpt.json\", \"w\") as f:\n",
    "    json.dump(answers, f, indent=\"    \", ensure_ascii=False)"
   ]
  },
  {
   "cell_type": "code",
   "execution_count": null,
   "metadata": {},
   "outputs": [],
   "source": [
    "# TS pretrained\n",
    "model_id = \"roneneldan/TinyStories-1M\"\n",
    "tokenizer = AutoTokenizer.from_pretrained(model_id)\n",
    "model = AutoModelForCausalLM.from_pretrained(model_id).to(device)\n",
    "\n",
    "answers = []\n",
    "with open(f\"full_stories_{lang}.json\", \"r\") as f:\n",
    "    full_stories = json.load(f)\n",
    "for fs in tqdm(full_stories):\n",
    "    completion = get_single_answer_hf(model, tokenizer, fs[\"prompt\"], device=device)\n",
    "    fs[\"completion\"] = completion\n",
    "    answers.append(fs)\n",
    "with open(f\"answers_{lang}_ts.json\", \"w\") as f:\n",
    "    json.dump(answers, f, indent=\"    \", ensure_ascii=False)"
   ]
  },
  {
   "cell_type": "code",
   "execution_count": null,
   "metadata": {},
   "outputs": [],
   "source": [
    "# TS own\n",
    "model_path = f\"/content/drive/My Drive/genAI project/model_1m_{lang}\"\n",
    "if not os.path.exists(model_path):\n",
    "    print(\"ERROR: MODEL PATH DOES NOT EXIST\")\n",
    "    raise NameError\n",
    "model_id = \"roneneldan/TinyStories-1M\"\n",
    "tokenizer = AutoTokenizer.from_pretrained(model_id)\n",
    "model = AutoModelForCausalLM.from_pretrained(model_path).to(device)\n",
    "\n",
    "answers = []\n",
    "with open(f\"full_stories_{lang}.json\", \"r\") as f:\n",
    "    full_stories = json.load(f)\n",
    "for fs in tqdm(full_stories):\n",
    "    completion = get_single_answer_hf(model, tokenizer, fs[\"prompt\"], device=device)\n",
    "    fs[\"completion\"] = completion\n",
    "    answers.append(fs)\n",
    "with open(f\"answers_{lang}_own.json\", \"w\") as f:\n",
    "    json.dump(answers, f, indent=\"    \", ensure_ascii=False)"
   ]
  },
  {
   "cell_type": "code",
   "execution_count": null,
   "metadata": {},
   "outputs": [],
   "source": []
  }
 ],
 "metadata": {
  "kernelspec": {
   "display_name": "nlp_env6",
   "language": "python",
   "name": "python3"
  },
  "language_info": {
   "codemirror_mode": {
    "name": "ipython",
    "version": 3
   },
   "file_extension": ".py",
   "mimetype": "text/x-python",
   "name": "python",
   "nbconvert_exporter": "python",
   "pygments_lexer": "ipython3",
   "version": "3.11.8"
  }
 },
 "nbformat": 4,
 "nbformat_minor": 2
}
