{
 "cells": [
  {
   "cell_type": "code",
   "execution_count": 1,
   "metadata": {},
   "outputs": [
    {
     "name": "stderr",
     "output_type": "stream",
     "text": [
      "c:\\Users\\gooog\\anaconda3\\envs\\nlp_clean\\Lib\\site-packages\\tqdm\\auto.py:21: TqdmWarning: IProgress not found. Please update jupyter and ipywidgets. See https://ipywidgets.readthedocs.io/en/stable/user_install.html\n",
      "  from .autonotebook import tqdm as notebook_tqdm\n"
     ]
    }
   ],
   "source": [
    "import os\n",
    "import openai\n",
    "import json\n",
    "from tqdm.auto import tqdm\n",
    "from dotenv import load_dotenv, find_dotenv\n",
    "_ = load_dotenv(find_dotenv())\n",
    "import numpy as np"
   ]
  },
  {
   "cell_type": "code",
   "execution_count": 2,
   "metadata": {},
   "outputs": [],
   "source": [
    "openai.api_key = os.environ.get(\"OPENAI_API_KEY\")\n",
    "openai.api_base = os.environ.get(\"OPENAI_API_BASE\")"
   ]
  },
  {
   "cell_type": "code",
   "execution_count": 3,
   "metadata": {},
   "outputs": [],
   "source": [
    "lang = \"de\"  # \"en\" or \"de\""
   ]
  },
  {
   "cell_type": "code",
   "execution_count": 4,
   "metadata": {},
   "outputs": [],
   "source": [
    "with open(f\"instructions_{lang}.json\", \"r\") as f:\n",
    "    instructions = json.load(f)"
   ]
  },
  {
   "cell_type": "code",
   "execution_count": 8,
   "metadata": {},
   "outputs": [
    {
     "name": "stderr",
     "output_type": "stream",
     "text": [
      "100%|██████████| 100/100 [16:28<00:00,  9.89s/it]\n"
     ]
    }
   ],
   "source": [
    "stories = []\n",
    "for instr in tqdm(instructions):\n",
    "    theme = instr[\"theme\"]\n",
    "    character = instr[\"character\"]\n",
    "    summary = instr[\"summary\"]\n",
    "    if lang == \"en\":\n",
    "        prompt = f\"\"\"Write a short story for children aged 3-4.\n",
    "        The theme of the story is {theme}.\n",
    "        The story should contain the following character: {character}\n",
    "        Furthermore, the story should contain the following plot: {summary}\"\"\"\n",
    "    else:\n",
    "        prompt = f\"\"\"Schreibe eine kurze Geschichte für Kinder im Alter von 3-4 Jahren.\n",
    "        Das Thema der Geschichte ist {theme}.\n",
    "        Die Geschichte sollte den folgenden Charakter enthalten: {character}\n",
    "        Außerdem sollte die Handlung der Geschichte das Folgende beinhalten: {summary}\"\"\"\n",
    "    for i in range(10):\n",
    "        try:\n",
    "            story = openai.ChatCompletion.create(\n",
    "                model = \"gpt-3.5-turbo\",\n",
    "                stream=False,\n",
    "                messages = [{\"role\": \"user\", \"content\": prompt}]\n",
    "            ).choices[0].message.content\n",
    "            break\n",
    "        except Exception as e:\n",
    "            story = f\"AN ERROR OCCURRED! {e}\"\n",
    "    instr[\"story\"] = story\n",
    "    stories.append(instr)\n",
    "with open(f\"full_stories_{lang}.json\", \"w\") as f:\n",
    "    json.dump(stories, f, indent=\"    \", ensure_ascii=False)"
   ]
  },
  {
   "cell_type": "code",
   "execution_count": 9,
   "metadata": {},
   "outputs": [],
   "source": [
    "with open(f\"full_stories_{lang}.json\", \"r\") as f:\n",
    "    full_stories = json.load(f)\n",
    "for fs in full_stories:\n",
    "    if \"ERROR\" in fs[\"story\"]:\n",
    "        print(fs[\"id\"])"
   ]
  },
  {
   "cell_type": "code",
   "execution_count": 2,
   "metadata": {},
   "outputs": [],
   "source": [
    "def make_prompt(story):\n",
    "    words = story.split(\" \")\n",
    "    cut = np.random.randint(len(words)//3, len(words)//2)\n",
    "    # print(len(words), cut)\n",
    "    cut_story = \" \".join(words[:cut])\n",
    "    # print(cut_story)\n",
    "    return cut_story"
   ]
  },
  {
   "cell_type": "code",
   "execution_count": 4,
   "metadata": {},
   "outputs": [
    {
     "name": "stderr",
     "output_type": "stream",
     "text": [
      "100%|██████████| 100/100 [00:00<00:00, 10400.73it/s]\n"
     ]
    }
   ],
   "source": [
    "fs_incl_prompt = []\n",
    "with open(f\"full_stories_{lang}.json\", \"r\") as f:\n",
    "    full_stories = json.load(f)\n",
    "for fs in tqdm(full_stories):\n",
    "    prompt = make_prompt(fs[\"story\"])\n",
    "    fs[\"prompt\"] = prompt\n",
    "    fs_incl_prompt.append(fs)\n",
    "with open(f\"full_stories_{lang}.json\", \"w\") as f:\n",
    "    json.dump(fs_incl_prompt, f, indent=\"    \", ensure_ascii=False)"
   ]
  }
 ],
 "metadata": {
  "kernelspec": {
   "display_name": "nlp_clean",
   "language": "python",
   "name": "python3"
  },
  "language_info": {
   "codemirror_mode": {
    "name": "ipython",
    "version": 3
   },
   "file_extension": ".py",
   "mimetype": "text/x-python",
   "name": "python",
   "nbconvert_exporter": "python",
   "pygments_lexer": "ipython3",
   "version": "3.11.8"
  }
 },
 "nbformat": 4,
 "nbformat_minor": 2
}
