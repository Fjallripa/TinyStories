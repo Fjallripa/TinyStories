{
 "cells": [
  {
   "cell_type": "code",
   "execution_count": 1,
   "metadata": {},
   "outputs": [],
   "source": [
    "import json\n",
    "import numpy as np\n",
    "from tabulate import tabulate"
   ]
  },
  {
   "cell_type": "code",
   "execution_count": 2,
   "metadata": {},
   "outputs": [],
   "source": [
    "age_dict = {\n",
    "    \"A\": 1.5,\n",
    "    \"B\": 4.5,\n",
    "    \"C\": 6.5,\n",
    "    \"D\": 8.5,\n",
    "    \"E\": 11.0,\n",
    "    \"F\": 14.5,\n",
    "}"
   ]
  },
  {
   "cell_type": "code",
   "execution_count": 6,
   "metadata": {},
   "outputs": [],
   "source": [
    "# english analysis\n",
    "criteria = [\"grammar\", \"creativity\", \"consistency\", \"age\"]\n",
    "models = [\"gpt\", \"ts\", \"own\"]\n",
    "scores = {}\n",
    "for model_id in models:\n",
    "    with open(f\"evaluations_en_{model_id}.json\", \"r\") as f:\n",
    "        evaluations = json.load(f)\n",
    "    scores[model_id] = {\n",
    "        \"grammar\": 0.0,\n",
    "        \"creativity\": 0.0,\n",
    "        \"consistency\": 0.0,\n",
    "        \"age\": 0.0,\n",
    "        }\n",
    "    for ev in evaluations:\n",
    "        s = ev[\"eval_step2\"].replace(\":\", \"\").replace(\",\", \"\").split(\" \")\n",
    "        for i in range(0, 7, 2):\n",
    "            if i == 6:\n",
    "                scores[model_id][s[i]] += age_dict[s[i+1]]\n",
    "            else:\n",
    "                nom, denom = s[i+1].split(\"/\")\n",
    "                scores[model_id][s[i]] += float(nom) / float(denom)\n",
    "    for crit in criteria:\n",
    "        scores[model_id][crit] /= len(evaluations)\n",
    "headers = [\"model\"] + models\n",
    "t = []\n",
    "for crit in criteria:\n",
    "    row = [crit]\n",
    "    for m in models:\n",
    "        row.append(np.round(scores[m][crit], 2))\n",
    "    t.append(row)\n",
    "print(tabulate(t, headers=headers))"
   ]
  },
  {
   "cell_type": "code",
   "execution_count": 9,
   "metadata": {},
   "outputs": [],
   "source": [
    "# german analysis\n",
    "criteria = [\"Grammatik\", \"Kreativität\", \"Konsistenz\", \"Alter\"]\n",
    "models = [\"gpt\"]\n",
    "scores = {}\n",
    "for model_id in models:\n",
    "    with open(f\"evaluations_de_{model_id}.json\", \"r\") as f:\n",
    "        evaluations = json.load(f)\n",
    "    scores[model_id] = {\n",
    "        \"Grammatik\": 0.0,\n",
    "        \"Kreativität\": 0.0,\n",
    "        \"Konsistenz\": 0.0,\n",
    "        \"Alter\": 0.0,\n",
    "        }\n",
    "    for ev in evaluations:\n",
    "        s = ev[\"eval_step2\"].replace(\":\", \"\").replace(\",\", \"\").split(\" \")\n",
    "        for i in range(0, 7, 2):\n",
    "            if i == 6:\n",
    "                scores[model_id][s[i]] += age_dict[s[i+1]]\n",
    "            else:\n",
    "                nom, denom = s[i+1].split(\"/\")\n",
    "                scores[model_id][s[i]] += float(nom) / float(denom)\n",
    "    for crit in criteria:\n",
    "        scores[model_id][crit] /= len(evaluations)\n",
    "headers = [\"model\"] + models\n",
    "t = []\n",
    "for crit in criteria:\n",
    "    row = [crit]\n",
    "    for m in models:\n",
    "        row.append(np.round(scores[m][crit], 2))\n",
    "    t.append(row)\n",
    "print(tabulate(t, headers=headers))"
   ]
  },
  {
   "cell_type": "code",
   "execution_count": null,
   "metadata": {},
   "outputs": [],
   "source": []
  }
 ],
 "metadata": {
  "kernelspec": {
   "display_name": "nlp_clean",
   "language": "python",
   "name": "python3"
  },
  "language_info": {
   "codemirror_mode": {
    "name": "ipython",
    "version": 3
   },
   "file_extension": ".py",
   "mimetype": "text/x-python",
   "name": "python",
   "nbconvert_exporter": "python",
   "pygments_lexer": "ipython3",
   "version": "3.11.8"
  }
 },
 "nbformat": 4,
 "nbformat_minor": 2
}
