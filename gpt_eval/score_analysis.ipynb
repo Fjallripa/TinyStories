{
 "cells": [
  {
   "cell_type": "code",
   "execution_count": 1,
   "metadata": {},
   "outputs": [],
   "source": [
    "import json\n",
    "import numpy as np\n",
    "from tabulate import tabulate"
   ]
  },
  {
   "cell_type": "code",
   "execution_count": 2,
   "metadata": {},
   "outputs": [],
   "source": [
    "age_dict = {\n",
    "    \"A\": 1.5,\n",
    "    \"B\": 4.5,\n",
    "    \"C\": 6.5,\n",
    "    \"D\": 8.5,\n",
    "    \"E\": 11.0,\n",
    "    \"F\": 14.5,\n",
    "}"
   ]
  },
  {
   "cell_type": "code",
   "execution_count": 3,
   "metadata": {},
   "outputs": [
    {
     "name": "stdout",
     "output_type": "stream",
     "text": [
      "model        gpt               ts                own_small\n",
      "-----------  ----------------  ----------------  ----------------\n",
      "grammar      0.918 +/- 0.0384  0.612 +/- 0.1851  0.187 +/- 0.0336\n",
      "creativity   0.807 +/- 0.0255  0.491 +/- 0.1217  0.32 +/- 0.0775\n",
      "consistency  0.965 +/- 0.0477  0.288 +/- 0.1505  0.1 +/- 0.0\n",
      "age          11.0 +/- 0.0      9.215 +/- 1.4129  5.96 +/- 0.8879\n"
     ]
    }
   ],
   "source": [
    "# english analysis\n",
    "criteria = [\"grammar\", \"creativity\", \"consistency\", \"age\"]\n",
    "models = [\"gpt\", \"ts\", \"own_small\"]\n",
    "scores = {}\n",
    "for model_id in models:\n",
    "    # print(f\"Analyzing {model_id}-model.\")\n",
    "    with open(f\"evaluations_en_{model_id}.json\", \"r\") as f:\n",
    "        evaluations = json.load(f)\n",
    "    scores[model_id] = {\n",
    "        \"grammar\": [],\n",
    "        \"creativity\": [],\n",
    "        \"consistency\": [],\n",
    "        \"age\": [],\n",
    "        }\n",
    "    for ev in evaluations:\n",
    "        s = ev[\"eval_step2\"].replace(\":\", \"\").replace(\",\", \"\").split(\" \")\n",
    "        for i in range(0, 7, 2):\n",
    "            if i == 6:\n",
    "                scores[model_id][s[i]].append(age_dict[s[i+1]])\n",
    "            else:\n",
    "                nom, denom = s[i+1].split(\"/\")\n",
    "                scores[model_id][s[i]].append(float(nom) / float(denom))\n",
    "headers = [\"model\"] + models\n",
    "t = []\n",
    "for crit in criteria:\n",
    "    row = [crit]\n",
    "    for m in models:\n",
    "        row.append(f\"{np.round(np.mean(scores[m][crit]), 4)} +/- {np.round(np.std(scores[m][crit]), 4)}\")\n",
    "    t.append(row)\n",
    "print(tabulate(t, headers=headers))"
   ]
  },
  {
   "cell_type": "code",
   "execution_count": 4,
   "metadata": {},
   "outputs": [
    {
     "name": "stdout",
     "output_type": "stream",
     "text": [
      "model        gpt               own_small         own_big\n",
      "-----------  ----------------  ----------------  ----------------\n",
      "Grammatik    0.922 +/- 0.0438  0.183 +/- 0.0448  0.566 +/- 0.1608\n",
      "Kreativität  0.81 +/- 0.0332   0.302 +/- 0.0663  0.578 +/- 0.1073\n",
      "Konsistenz   0.924 +/- 0.0427  0.102 +/- 0.014   0.308 +/- 0.1798\n",
      "Alter        11.0 +/- 0.0      5.55 +/- 1.9805   10.71 +/- 0.906\n"
     ]
    }
   ],
   "source": [
    "# german analysis\n",
    "criteria = [\"Grammatik\", \"Kreativität\", \"Konsistenz\", \"Alter\"]\n",
    "models = [\"gpt\", \"own_small\", \"own_big\"]\n",
    "scores = {}\n",
    "for model_id in models:\n",
    "    # print(f\"Analyzing {model_id}-model.\")\n",
    "    with open(f\"evaluations_de_{model_id}.json\", \"r\") as f:\n",
    "        evaluations = json.load(f)\n",
    "    scores[model_id] = {\n",
    "        \"Grammatik\": [],\n",
    "        \"Kreativität\": [],\n",
    "        \"Konsistenz\": [],\n",
    "        \"Alter\": [],\n",
    "        }\n",
    "    for ev in evaluations:\n",
    "        s = ev[\"eval_step2\"].replace(\":\", \"\").replace(\",\", \"\").split(\" \")\n",
    "        for i in range(0, 7, 2):\n",
    "            if i == 6:\n",
    "                scores[model_id][s[i]].append(age_dict[s[i+1]])\n",
    "            else:\n",
    "                nom, denom = s[i+1].split(\"/\")\n",
    "                scores[model_id][s[i]].append(float(nom) / float(denom))\n",
    "headers = [\"model\"] + models\n",
    "t = []\n",
    "for crit in criteria:\n",
    "    row = [crit]\n",
    "    for m in models:\n",
    "        row.append(f\"{np.round(np.mean(scores[m][crit]), 4)} +/- {np.round(np.std(scores[m][crit]), 4)}\")\n",
    "    t.append(row)\n",
    "print(tabulate(t, headers=headers))"
   ]
  },
  {
   "cell_type": "code",
   "execution_count": null,
   "metadata": {},
   "outputs": [],
   "source": []
  }
 ],
 "metadata": {
  "kernelspec": {
   "display_name": "nlp_clean",
   "language": "python",
   "name": "python3"
  },
  "language_info": {
   "codemirror_mode": {
    "name": "ipython",
    "version": 3
   },
   "file_extension": ".py",
   "mimetype": "text/x-python",
   "name": "python",
   "nbconvert_exporter": "python",
   "pygments_lexer": "ipython3",
   "version": "3.11.8"
  }
 },
 "nbformat": 4,
 "nbformat_minor": 2
}
