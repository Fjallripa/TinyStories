{
 "cells": [
  {
   "cell_type": "code",
   "execution_count": null,
   "metadata": {},
   "outputs": [],
   "source": [
    "import sys\n",
    "sys.path.append(\"..\")\n",
    "from healio import healio\n",
    "import json\n",
    "from tqdm import tqdm"
   ]
  },
  {
   "cell_type": "code",
   "execution_count": null,
   "metadata": {},
   "outputs": [],
   "source": [
    "# model_id = 'microsoft/phi-2'\n",
    "model_id = \"meta-llama/Llama-2-7b-chat-hf\"\n",
    "AI = healio(model_id)\n",
    "questions = json.load(open(\"eval_questions.json\"))"
   ]
  },
  {
   "cell_type": "code",
   "execution_count": null,
   "metadata": {},
   "outputs": [],
   "source": [
    "for q in tqdm(questions):\n",
    "    # print(q['question'])\n",
    "    result = AI.single_query_llama2(q['question'], debug=True)\n",
    "    q['query'] = result['messages'][0]\n",
    "    q['answer'] = result['answer']\n",
    "    q['context'] = result['context']\n",
    "    # break"
   ]
  },
  {
   "cell_type": "code",
   "execution_count": null,
   "metadata": {},
   "outputs": [],
   "source": [
    "questions[0]['answer']"
   ]
  },
  {
   "cell_type": "code",
   "execution_count": null,
   "metadata": {},
   "outputs": [],
   "source": [
    "for q in questions:\n",
    "    q['query'] = q['query'].content\n",
    "    q['context'] = [{'page_content': c.page_content, 'metadata': c.metadata} for c in q['context']]\n",
    "    for c in q['context']:\n",
    "        c['metadata'].pop('vector_field', None)\n",
    "    # break"
   ]
  },
  {
   "cell_type": "code",
   "execution_count": null,
   "metadata": {},
   "outputs": [],
   "source": [
    "print(questions[0])"
   ]
  },
  {
   "cell_type": "code",
   "execution_count": null,
   "metadata": {},
   "outputs": [],
   "source": [
    "# drop the 'vector_field' from the context metedata\n",
    "# for q in questions:\n",
    "\n",
    "# [{'page_content': c.page_content, 'metadata': c.metadata} for c in questions[0]['context']]"
   ]
  },
  {
   "cell_type": "code",
   "execution_count": null,
   "metadata": {},
   "outputs": [],
   "source": [
    "json.dump(questions, open(\"eval_questions_answered_llama_2.json\", \"w\"))"
   ]
  }
 ],
 "metadata": {
  "kernelspec": {
   "display_name": "llama2",
   "language": "python",
   "name": "python3"
  },
  "language_info": {
   "codemirror_mode": {
    "name": "ipython",
    "version": 3
   },
   "file_extension": ".py",
   "mimetype": "text/x-python",
   "name": "python",
   "nbconvert_exporter": "python",
   "pygments_lexer": "ipython3",
   "version": "3.11.4"
  }
 },
 "nbformat": 4,
 "nbformat_minor": 2
}
