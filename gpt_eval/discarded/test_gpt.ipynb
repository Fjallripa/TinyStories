{
 "cells": [
  {
   "cell_type": "code",
   "execution_count": null,
   "metadata": {},
   "outputs": [],
   "source": [
    "import os\n",
    "import openai\n",
    "import numpy as np\n",
    "import time\n",
    "import traceback\n",
    "from dotenv import load_dotenv, find_dotenv\n",
    "_ = load_dotenv(find_dotenv())"
   ]
  },
  {
   "cell_type": "code",
   "execution_count": null,
   "metadata": {},
   "outputs": [],
   "source": [
    "openai.api_key = os.environ.get(\"OPENAI_API_KEY\")\n",
    "openai.api_base = os.environ.get(\"OPENAI_API_BASE\")"
   ]
  },
  {
   "cell_type": "code",
   "execution_count": null,
   "metadata": {},
   "outputs": [],
   "source": [
    "chat_completion = openai.ChatCompletion.create(\n",
    "    model=\"gpt-3.5-turbo\",\n",
    "    messages=[{\"role\": \"user\", \"content\": \"Please tell me a shot story (3 paragraphs) about a speaking strawberry, a very shy giant and a tiny wizard with a giant hat.\"}],\n",
    "    stream=False,\n",
    "    temperature=0.7,\n",
    ")"
   ]
  },
  {
   "cell_type": "code",
   "execution_count": null,
   "metadata": {},
   "outputs": [],
   "source": [
    "if isinstance(chat_completion, dict):\n",
    "    # not stream\n",
    "    print(chat_completion.choices[0].message.content)\n",
    "else:\n",
    "    # stream\n",
    "    for token in chat_completion:\n",
    "        content = token[\"choices\"][0][\"delta\"].get(\"content\")\n",
    "        if content != None:\n",
    "            print(content, end=\"\", flush=True)"
   ]
  },
  {
   "cell_type": "code",
   "execution_count": null,
   "metadata": {},
   "outputs": [],
   "source": [
    "print(chat_completion[\"usage\"])"
   ]
  },
  {
   "cell_type": "code",
   "execution_count": null,
   "metadata": {},
   "outputs": [],
   "source": [
    "pricing_table = {\n",
    "    \"gpt-3.5\": {\"input\": 0.001 / 1000, \"output\": 0.002 / 1000},\n",
    "    \"gpt-4\": {\"input\": 0.03 / 1000, \"output\": 0.06 / 1000},\n",
    "    \"gpt-4-0613\": {\"input\": 0.03 / 1000, \"output\": 0.06 / 1000},\n",
    "    \"gpt-4-1106-preview\": {\"input\": 0.01 / 1000, \"output\": 0.03 / 1000},\n",
    "}\n",
    "models = [\n",
    "    \"gpt-3.5-turbo\",\n",
    "    \"gpt-3.5-turbo-0613\",\n",
    "    \"gpt-3.5-turbo-1106\",\n",
    "    \"gpt-3.5-turbo-16k\",\n",
    "    \"gpt-3.5-turbo-16k-0613\",\n",
    "    \"gpt-4\",\n",
    "    \"gpt-4-0613\",\n",
    "    \"gpt-4-1106-preview\"\n",
    "]"
   ]
  },
  {
   "cell_type": "code",
   "execution_count": null,
   "metadata": {},
   "outputs": [],
   "source": [
    "def prompt_api(model, prompt):\n",
    "    print(f\"Using model {model}\")\n",
    "    for i in range(10):\n",
    "        try:\n",
    "            chat_completion = openai.ChatCompletion.create(\n",
    "            model=model,\n",
    "            messages=[{\"role\": \"user\", \"content\": prompt}],\n",
    "            stream=False,\n",
    "            # max_tokens=100,\n",
    "            )\n",
    "            if isinstance(chat_completion, dict):\n",
    "                # not stream\n",
    "                print(chat_completion.choices[0].message.content)\n",
    "            else:\n",
    "                # stream\n",
    "                for token in chat_completion:\n",
    "                    content = token[\"choices\"][0][\"delta\"].get(\"content\")\n",
    "                    if content != None:\n",
    "                        print(content, end=\"\", flush=True)\n",
    "            n_input_tokens = int(chat_completion[\"usage\"][\"prompt_tokens\"])\n",
    "            n_output_tokens = int(chat_completion[\"usage\"][\"completion_tokens\"])\n",
    "            if \"gpt-3.5\" in model:\n",
    "                model_name = \"gpt-3.5\"\n",
    "            else:\n",
    "                model_name = model\n",
    "            input_price = pricing_table[model_name][\"input\"]\n",
    "            output_price = pricing_table[model_name][\"output\"]\n",
    "            print(f\"Total number of tokens: {chat_completion['usage']['total_tokens']}\")\n",
    "            print(f\"price: {np.round(n_input_tokens * input_price + n_output_tokens * output_price, 6)}$\")\n",
    "            break\n",
    "        except Exception as exc:\n",
    "            print(traceback.format_exc())\n",
    "            print(exc)\n",
    "            if i != 9:\n",
    "                print(f\"Retrying... (i = {i})\")\n",
    "            time.sleep(3)"
   ]
  },
  {
   "cell_type": "code",
   "execution_count": null,
   "metadata": {},
   "outputs": [],
   "source": [
    "prompt = \"Can you quickly summarize the 3 most important news of the day?\"\n",
    "for model in models:\n",
    "    prompt_api(model, prompt)\n",
    "    print(\"\")\n",
    "    print(\"\")\n",
    "    print(\"\")"
   ]
  },
  {
   "cell_type": "code",
   "execution_count": null,
   "metadata": {},
   "outputs": [],
   "source": [
    "# prompt_api(\"gpt-4-1106-preview\", \"Can you repeat to me the last thing i asked you?\")\n",
    "prompt_api(\"gpt-4-1106-preview\", \"Can you repeat to me the last thing i asked you, as well as the thing i asked you efore that?\")"
   ]
  },
  {
   "cell_type": "code",
   "execution_count": null,
   "metadata": {},
   "outputs": [],
   "source": []
  }
 ],
 "metadata": {
  "kernelspec": {
   "display_name": "ml_env",
   "language": "python",
   "name": "python3"
  },
  "language_info": {
   "codemirror_mode": {
    "name": "ipython",
    "version": 3
   },
   "file_extension": ".py",
   "mimetype": "text/x-python",
   "name": "python",
   "nbconvert_exporter": "python",
   "pygments_lexer": "ipython3",
   "version": "3.11.8"
  }
 },
 "nbformat": 4,
 "nbformat_minor": 2
}
