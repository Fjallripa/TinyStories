{
 "cells": [
  {
   "cell_type": "code",
   "execution_count": 2,
   "metadata": {},
   "outputs": [],
   "source": [
    "import json\n",
    "import os"
   ]
  },
  {
   "cell_type": "code",
   "execution_count": 12,
   "metadata": {},
   "outputs": [],
   "source": [
    "for gen_name in os.listdir(\"full_own_gens_23_03\"):\n",
    "    with open(f\"full_own_gens_23_03/{gen_name}\", \"r\") as f:\n",
    "        gens = json.load(f)\n",
    "    for g in gens:\n",
    "        # print(g[\"completion\"])\n",
    "        g[\"completion\"] = g[\"completion\"].split(\"\\n\")[0]\n",
    "        # print(g[\"completion\"])\n",
    "        # print(\"\")\n",
    "    with open(f\"{gen_name}\", \"w\") as f:\n",
    "        json.dump(gens, f, indent=\"    \", ensure_ascii=False)\n",
    "\n"
   ]
  },
  {
   "cell_type": "code",
   "execution_count": null,
   "metadata": {},
   "outputs": [],
   "source": []
  }
 ],
 "metadata": {
  "kernelspec": {
   "display_name": "nlp_clean",
   "language": "python",
   "name": "python3"
  },
  "language_info": {
   "codemirror_mode": {
    "name": "ipython",
    "version": 3
   },
   "file_extension": ".py",
   "mimetype": "text/x-python",
   "name": "python",
   "nbconvert_exporter": "python",
   "pygments_lexer": "ipython3",
   "version": "3.11.8"
  }
 },
 "nbformat": 4,
 "nbformat_minor": 2
}
